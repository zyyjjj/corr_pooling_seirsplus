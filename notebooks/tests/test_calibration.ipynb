{
 "cells": [
  {
   "cell_type": "code",
   "execution_count": 1,
   "metadata": {},
   "outputs": [],
   "source": [
    "%load_ext autoreload\n",
    "%autoreload 2"
   ]
  },
  {
   "cell_type": "code",
   "execution_count": 3,
   "metadata": {},
   "outputs": [],
   "source": [
    "import numpy as np"
   ]
  },
  {
   "cell_type": "code",
   "execution_count": 8,
   "metadata": {},
   "outputs": [],
   "source": [
    "num_samples = 5\n",
    "cap = 11\n",
    "lambdas = [0.25, 0.25]\n",
    "bounds = [[0, 1], [1, 2], [-2, -1]]\n",
    "\n",
    "np.random.seed(0)"
   ]
  },
  {
   "cell_type": "code",
   "execution_count": 9,
   "metadata": {},
   "outputs": [],
   "source": [
    "# sample slopes\n",
    "slopes = [\n",
    "    np.random.uniform(bounds[i][0], bounds[i][1], (num_samples, 1))\n",
    "    for i in range(len(bounds))\n",
    "]\n",
    "slopes = np.concatenate(slopes, axis=1)  # shape: (num_samples, 3)"
   ]
  },
  {
   "cell_type": "code",
   "execution_count": 10,
   "metadata": {},
   "outputs": [
    {
     "data": {
      "text/plain": [
       "array([[ 0.5488135 ,  1.64589411, -1.20827496],\n",
       "       [ 0.71518937,  1.43758721, -1.47110508],\n",
       "       [ 0.60276338,  1.891773  , -1.43195544],\n",
       "       [ 0.54488318,  1.96366276, -1.07440336],\n",
       "       [ 0.4236548 ,  1.38344152, -1.92896394]])"
      ]
     },
     "execution_count": 10,
     "metadata": {},
     "output_type": "execute_result"
    }
   ],
   "source": [
    "slopes"
   ]
  },
  {
   "cell_type": "code",
   "execution_count": 11,
   "metadata": {},
   "outputs": [
    {
     "data": {
      "text/plain": [
       "array([[ 0.36464412, 15.38088735],\n",
       "       [ 0.08170235,  6.42095824],\n",
       "       [ 7.14995072,  2.47571783],\n",
       "       [ 6.02313693,  6.06614391],\n",
       "       [ 8.16125712,  0.50349765]])"
      ]
     },
     "execution_count": 11,
     "metadata": {},
     "output_type": "execute_result"
    }
   ],
   "source": [
    "durations = [\n",
    "    np.random.exponential(1 / lambd, (num_samples, 1)) for lambd in lambdas\n",
    "]\n",
    "durations = np.concatenate(durations, axis=1)  # shape: (num_samples, 2)\n",
    "durations"
   ]
  },
  {
   "cell_type": "code",
   "execution_count": 12,
   "metadata": {},
   "outputs": [
    {
     "data": {
      "text/plain": [
       "array([11.        ,  9.28912009,  8.99322459, 11.        ,  4.1541153 ])"
      ]
     },
     "execution_count": 12,
     "metadata": {},
     "output_type": "execute_result"
    }
   ],
   "source": [
    "peaks = np.clip(np.sum(slopes[:, :2] * durations, axis=1), a_min=None, a_max=cap)\n",
    "peaks"
   ]
  },
  {
   "cell_type": "code",
   "execution_count": 13,
   "metadata": {},
   "outputs": [
    {
     "data": {
      "text/plain": [
       "array([24.84941953, 12.81704303, 15.90604876, 22.32752132, 10.81830218])"
      ]
     },
     "execution_count": 13,
     "metadata": {},
     "output_type": "execute_result"
    }
   ],
   "source": [
    "taus = -1 * peaks / slopes[:, 2] + np.sum(durations, axis=1)\n",
    "taus"
   ]
  },
  {
   "cell_type": "code",
   "execution_count": 14,
   "metadata": {},
   "outputs": [
    {
     "data": {
      "text/plain": [
       "array([15.90166593,  1.83736525, 15.02594985, 11.65157953,  4.48593817])"
      ]
     },
     "execution_count": 14,
     "metadata": {},
     "output_type": "execute_result"
    }
   ],
   "source": [
    "time_stamps = np.random.uniform(0, taus, num_samples)\n",
    "time_stamps"
   ]
  },
  {
   "cell_type": "code",
   "execution_count": 15,
   "metadata": {},
   "outputs": [
    {
     "data": {
      "text/plain": [
       "array([10.81134665,  2.58235119,  1.26026241, 11.        ,  1.90048924])"
      ]
     },
     "execution_count": 15,
     "metadata": {},
     "output_type": "execute_result"
    }
   ],
   "source": [
    "# compute the viral loads corresponding to the sampled timestamps\n",
    "viral_loads = np.clip(\n",
    "    np.clip(time_stamps, a_min=None, a_max=durations[:, 0]) * slopes[:, 0],\n",
    "    a_min=None,\n",
    "    a_max=cap,\n",
    ")\n",
    "viral_loads = np.clip(\n",
    "    np.clip(time_stamps - durations[:, 0], a_min=0, a_max=durations[:, 1])\n",
    "    * slopes[:, 1]\n",
    "    + viral_loads,\n",
    "    a_min=None,\n",
    "    a_max=cap,\n",
    ")\n",
    "viral_loads = (\n",
    "    np.clip(time_stamps - np.sum(durations[:, :2], axis=1), a_min=0, a_max=None)\n",
    "    * slopes[:, 2]\n",
    "    + viral_loads\n",
    ")\n",
    "viral_loads"
   ]
  },
  {
   "cell_type": "code",
   "execution_count": 16,
   "metadata": {},
   "outputs": [
    {
     "data": {
      "text/plain": [
       "(array([10.81134665,  2.58235119,  1.26026241, 11.        ,  1.90048924]),\n",
       " array([15.90166593,  1.83736525, 15.02594985, 11.65157953,  4.48593817]),\n",
       " array([11.        ,  9.28912009,  8.99322459, 11.        ,  4.1541153 ]))"
      ]
     },
     "execution_count": 16,
     "metadata": {},
     "output_type": "execute_result"
    }
   ],
   "source": [
    "viral_loads, time_stamps, peaks"
   ]
  },
  {
   "cell_type": "code",
   "execution_count": 17,
   "metadata": {},
   "outputs": [],
   "source": [
    "from seirsplus.calibration import gen_vl_distrbution"
   ]
  },
  {
   "cell_type": "code",
   "execution_count": 52,
   "metadata": {},
   "outputs": [],
   "source": [
    "num_samples = 100000\n",
    "cap = 11\n",
    "lambdas = [0.15, 0.15]\n",
    "bounds = [[0.5, 1], [1, 1.25], [-0.5, -0.2]]"
   ]
  },
  {
   "cell_type": "code",
   "execution_count": 53,
   "metadata": {},
   "outputs": [],
   "source": [
    "viral_loads, time_stamps, peaks = gen_vl_distrbution(bounds=bounds, lambdas=lambdas, cap=cap, num_samples=num_samples)"
   ]
  },
  {
   "cell_type": "code",
   "execution_count": 54,
   "metadata": {},
   "outputs": [],
   "source": [
    "import matplotlib.pyplot as plt"
   ]
  },
  {
   "cell_type": "code",
   "execution_count": 55,
   "metadata": {},
   "outputs": [
    {
     "data": {
      "text/plain": [
       "(array([9503., 8794., 7925., 7156., 6521., 5843., 5558., 5020., 4614.,\n",
       "        4295., 3867., 3522., 3339., 3075., 2829., 2603., 2545., 2368.,\n",
       "        2144., 8479.]),\n",
       " array([1.41127297e-04, 5.50134071e-01, 1.10012701e+00, 1.65011996e+00,\n",
       "        2.20011290e+00, 2.75010585e+00, 3.30009879e+00, 3.85009173e+00,\n",
       "        4.40008468e+00, 4.95007762e+00, 5.50007056e+00, 6.05006351e+00,\n",
       "        6.60005645e+00, 7.15004939e+00, 7.70004234e+00, 8.25003528e+00,\n",
       "        8.80002823e+00, 9.35002117e+00, 9.90001411e+00, 1.04500071e+01,\n",
       "        1.10000000e+01]),\n",
       " <BarContainer object of 20 artists>)"
      ]
     },
     "execution_count": 55,
     "metadata": {},
     "output_type": "execute_result"
    },
    {
     "data": {
      "image/png": "[encoded data removed]",
      "text/plain": [
       "<Figure size 640x480 with 1 Axes>"
      ]
     },
     "metadata": {},
     "output_type": "display_data"
    }
   ],
   "source": [
    "plt.hist(viral_loads, bins=20)"
   ]
  },
  {
   "cell_type": "code",
   "execution_count": 42,
   "metadata": {},
   "outputs": [
    {
     "data": {
      "text/plain": [
       "(array([  769.,  1720.,  2253.,  2606.,  2868.,  2908.,  3064.,  3147.,\n",
       "         3054.,  3102.,  3059.,  3041.,  2924.,  2879.,  2916.,  2745.,\n",
       "         2619.,  2577.,  2387., 49362.]),\n",
       " array([1.08588543e-02, 5.60315912e-01, 1.10977297e+00, 1.65923003e+00,\n",
       "        2.20868708e+00, 2.75814414e+00, 3.30760120e+00, 3.85705826e+00,\n",
       "        4.40651531e+00, 4.95597237e+00, 5.50542943e+00, 6.05488648e+00,\n",
       "        6.60434354e+00, 7.15380060e+00, 7.70325766e+00, 8.25271471e+00,\n",
       "        8.80217177e+00, 9.35162883e+00, 9.90108589e+00, 1.04505429e+01,\n",
       "        1.10000000e+01]),\n",
       " <BarContainer object of 20 artists>)"
      ]
     },
     "execution_count": 42,
     "metadata": {},
     "output_type": "execute_result"
    },
    {
     "data": {
      "image/png": "[encoded data removed]",
      "text/plain": [
       "<Figure size 640x480 with 1 Axes>"
      ]
     },
     "metadata": {},
     "output_type": "display_data"
    }
   ],
   "source": [
    "plt.hist(peaks, bins=20)"
   ]
  },
  {
   "cell_type": "code",
   "execution_count": null,
   "metadata": {},
   "outputs": [],
   "source": []
  },
  {
   "cell_type": "code",
   "execution_count": null,
   "metadata": {},
   "outputs": [],
   "source": []
  }
 ],
 "metadata": {
  "kernelspec": {
   "display_name": "py39cp",
   "language": "python",
   "name": "python3"
  },
  "language_info": {
   "codemirror_mode": {
    "name": "ipython",
    "version": 3
   },
   "file_extension": ".py",
   "mimetype": "text/x-python",
   "name": "python",
   "nbconvert_exporter": "python",
   "pygments_lexer": "ipython3",
   "version": "3.9.16"
  },
  "orig_nbformat": 4
 },
 "nbformat": 4,
 "nbformat_minor": 2
}
