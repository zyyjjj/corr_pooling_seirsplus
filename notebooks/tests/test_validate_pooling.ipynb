{
 "cells": [
  {
   "attachments": {},
   "cell_type": "markdown",
   "metadata": {},
   "source": [
    "# TLDR\n",
    "The goals of this notebook:\n",
    "- validate that our node embedding + clustering approach gives reasonable outcomes for assigning screening groups and assigning community and household-correlated pools\n",
    "\n",
    "Steps to take:\n",
    "- construct a graph the same way we did in simulation\n",
    "- develop a distance metric on the graph, e.g., compute shortest distance using Dijkstra\n",
    "- compute avg pairwise distance over the graph (can we cache the data?)\n",
    "- divide into screening groups, compute the avg pairwise distance in each group\n",
    "- divide nodes in the screening group to community and household correlated pools, compute avg pairwise distance in each pool\n",
    "- further compute the fraction of households that have all households in the same pool\n",
    "- report these metrics, validate that HCP is good and creates stronger correlation than CCP"
   ]
  },
  {
   "cell_type": "code",
   "execution_count": 1,
   "metadata": {},
   "outputs": [
    {
     "name": "stderr",
     "output_type": "stream",
     "text": [
      "/home/yz685/anaconda3/envs/corr_pooling/lib/python3.11/site-packages/tqdm/auto.py:21: TqdmWarning: IProgress not found. Please update jupyter and ipywidgets. See https://ipywidgets.readthedocs.io/en/stable/user_install.html\n",
      "  from .autonotebook import tqdm as notebook_tqdm\n"
     ]
    }
   ],
   "source": [
    "%load_ext autoreload\n",
    "%autoreload 2\n",
    "\n",
    "import importlib\n",
    "\n",
    "import matplotlib.pyplot as plt\n",
    "import random\n",
    "import numpy as np\n",
    "import seirsplus\n",
    "\n",
    "from seirsplus.viral_model import ViralExtSEIRNetworkModel, VL_PARAMS\n",
    "from seirsplus.sim_loops_pooled_test import SimulationRunner\n",
    "from seirsplus.assignment import embed_nodes, get_equal_sized_clusters\n",
    "\n",
    "import networkx as nx\n",
    "\n",
    "import warnings\n",
    "warnings.filterwarnings('ignore')"
   ]
  },
  {
   "attachments": {},
   "cell_type": "markdown",
   "metadata": {},
   "source": [
    "# Generate a social network"
   ]
  },
  {
   "cell_type": "code",
   "execution_count": 2,
   "metadata": {},
   "outputs": [],
   "source": [
    "import copy\n",
    "\n",
    "from seirsplus.networks import generate_demographic_contact_network, household_country_data\n",
    "\n",
    "def generate_population(\n",
    "    N, country, edge_weight, seed, distancing_scale\n",
    "):\n",
    "\n",
    "    random.seed(seed)\n",
    "    np.random.seed(seed)\n",
    "\n",
    "    demographic_graphs, individual_ageGroups, households = generate_demographic_contact_network(\n",
    "                                                                N=N, demographic_data=household_country_data(country), \n",
    "                                                                distancing_scales=[distancing_scale], isolation_groups=[])\n",
    "    # G = demographic_graphs['baseline']\n",
    "    G = demographic_graphs[f'distancingScale{distancing_scale}']\n",
    "    G_weighted = copy.deepcopy(G)\n",
    "    for e in G.edges():\n",
    "        if \"weight\" not in G[e[0]][e[1]]:\n",
    "            G[e[0]][e[1]][\"weight\"] = edge_weight\n",
    "    for e in G_weighted.edges():\n",
    "        if \"weight\" not in G_weighted[e[0]][e[1]]:\n",
    "            G_weighted[e[0]][e[1]][\"weight\"] = 10**10\n",
    "\n",
    "    households_dict = {}\n",
    "    for household in households:\n",
    "        for node_id in household[\"indices\"]:\n",
    "            households_dict[node_id] = household[\"indices\"]\n",
    "    \n",
    "    return G, G_weighted, households_dict"
   ]
  },
  {
   "cell_type": "code",
   "execution_count": 3,
   "metadata": {},
   "outputs": [
    {
     "name": "stdout",
     "output_type": "stream",
     "text": [
      "Generated overall age distribution:\n",
      "0-9: 0.1179\t(-0.0031 from target)\n",
      "10-19: 0.1252\t(-0.0058 from target)\n",
      "20-29: 0.1423\t(0.0053 from target)\n",
      "30-39: 0.1343\t(0.0013 from target)\n",
      "40-49: 0.1211\t(-0.0029 from target)\n",
      "50-59: 0.1276\t(-0.0034 from target)\n",
      "60-69: 0.1152\t(0.0002 from target)\n",
      "70-79: 0.0743\t(0.0043 from target)\n",
      "80+: 0.0421\t(0.0041 from target)\n",
      "\n",
      "Generated household size distribution:\n",
      "1: 0.3001\t(0.0164 from target)\n",
      "2: 0.3337\t(-0.0114 from target)\n",
      "3: 0.1442\t(-0.0065 from target)\n",
      "4: 0.1242\t(-0.0034 from target)\n",
      "5: 0.0614\t(0.0036 from target)\n",
      "6: 0.0222\t(-0.0005 from target)\n",
      "7: 0.0141\t(0.0017 from target)\n",
      "Num households: 4105\n",
      "mean household size: 2.448393594\n",
      "\n",
      "{'0-9': 1179, '10-19': 1252, '20-29': 1423, '30-39': 1343, '40-49': 1211, '50-59': 1276, '60-69': 1152, '70-79': 743, '80+': 421}\n",
      "Generating graph for 0-9...\n",
      "Generating graph for 10-19...\n",
      "Generating graph for 20-59...\n",
      "Generating graph for 60+...\n"
     ]
    }
   ],
   "source": [
    "G, G_weighted, households_dict = generate_population(\n",
    "    # N=10000, \n",
    "    N=10000,\n",
    "    country='US', edge_weight=10, seed=0, distancing_scale=50)"
   ]
  },
  {
   "attachments": {},
   "cell_type": "markdown",
   "metadata": {},
   "source": [
    "# Develop a distance metric\n",
    "\n",
    "Idea: use Floyd-Warshall algorithm to compute all pairwise shortest path. Only need to do this once, just query later for smaller groups.\n",
    "\n",
    "(think: should we weigh the edges?)"
   ]
  },
  {
   "attachments": {},
   "cell_type": "markdown",
   "metadata": {},
   "source": [
    "some network-y things for better understanding\n",
    "- if the adjacency matrix A is binary, unweighted, undirected, taking A to infinite powers characterizes whether two nodes are connected\n",
    "- how do we \"propagate\" the information in the adjacency matrix to construct a distance matrix in a dynamic programming fashion? "
   ]
  },
  {
   "cell_type": "code",
   "execution_count": null,
   "metadata": {},
   "outputs": [],
   "source": [
    "# is this like running Dijkstra for each node?\n",
    "# how many \"passes\" do we need to make?\n",
    "\n",
    "\"\"\" \n",
    "cost[i.j] at the kth outer iteration: \n",
    "the minimum cost from i to j using vertices only from the set {1,2,...,k} as intermediate points\n",
    "\n",
    "start with cost = adjacency matrix, replace non-edges with infinity\n",
    "\n",
    "for k in range(n):\n",
    "   for i in range(n):\n",
    "      for j in range(n):\n",
    "         if cost[i,k] + cost[k,j] < cost[i,j]:\n",
    "            cost[i,j] = cost[i,k] + cost[k,j]\n",
    "\n",
    "\"\"\"\n",
    "\n",
    "\n"
   ]
  },
  {
   "cell_type": "code",
   "execution_count": 4,
   "metadata": {},
   "outputs": [],
   "source": [
    "import pickle\n",
    "sp_dict = dict(nx.all_pairs_shortest_path_length(G))\n",
    "\n",
    "with open('sp_dict.pkl', 'wb') as f:\n",
    "    pickle.dump(sp_dict, f)\n",
    "    "
   ]
  },
  {
   "cell_type": "code",
   "execution_count": null,
   "metadata": {},
   "outputs": [],
   "source": []
  },
  {
   "cell_type": "code",
   "execution_count": 6,
   "metadata": {},
   "outputs": [
    {
     "data": {
      "image/png": "[encoded data removed]",
      "text/plain": [
       "<Figure size 640x480 with 1 Axes>"
      ]
     },
     "metadata": {},
     "output_type": "display_data"
    }
   ],
   "source": [
    "data = list(sp_dict[0].values())\n",
    "\n",
    "left_of_first_bin = np.min(data) - 1/2\n",
    "right_of_last_bin = np.max(data) + 1/2\n",
    "\n",
    "plt.hist(data, np.arange(left_of_first_bin, right_of_last_bin + 1, 1))\n",
    "plt.title(\"Distribution of unweighted shortest path lengths from node 0\")\n",
    "plt.show()"
   ]
  },
  {
   "cell_type": "code",
   "execution_count": 5,
   "metadata": {},
   "outputs": [],
   "source": [
    "# compute average pairwise distance\n",
    "\n",
    "N=10000\n",
    "\n",
    "current_avg = 0\n",
    "current_count = 0\n",
    "avgs = []\n",
    "population_wide_pairwise_distance = []\n",
    "\n",
    "# to compute avg pairwise distance on a subgraph, replace range(N) with a list of nodes\n",
    "for i in range(N):\n",
    "    for j in range(i+1, N):\n",
    "        if j in sp_dict[i]:\n",
    "            avgs.append(current_avg)\n",
    "            current_count += 1\n",
    "            current_avg = (current_avg*current_count + sp_dict[i][j])/(current_count+1)\n",
    "            population_wide_pairwise_distance.append(sp_dict[i][j])\n",
    "\n"
   ]
  },
  {
   "cell_type": "code",
   "execution_count": 6,
   "metadata": {},
   "outputs": [],
   "source": [
    "# make a more general function for computing pairwise distance for a list of nodes\n",
    "\n",
    "def compute_pairwise_distance(G, node_list):\n",
    "    # take the subgraph of G induced by node_list\n",
    "    sp_dict = dict(nx.all_pairs_shortest_path_length(G.subgraph(node_list)))\n",
    "    current_avg = 0\n",
    "    current_count = 0\n",
    "    avgs = []\n",
    "    for i in node_list:\n",
    "        for j in range(i+1, N):\n",
    "            if j in sp_dict[i]:\n",
    "                avgs.append(current_avg)\n",
    "                current_count += 1\n",
    "                current_avg = (current_avg*current_count + sp_dict[i][j])/(current_count+1)\n",
    "    return current_avg"
   ]
  },
  {
   "cell_type": "code",
   "execution_count": 7,
   "metadata": {},
   "outputs": [
    {
     "data": {
      "text/plain": [
       "4.6659628842472385"
      ]
     },
     "execution_count": 7,
     "metadata": {},
     "output_type": "execute_result"
    }
   ],
   "source": [
    "current_avg"
   ]
  },
  {
   "cell_type": "code",
   "execution_count": 8,
   "metadata": {},
   "outputs": [
    {
     "data": {
      "text/plain": [
       "[<matplotlib.lines.Line2D at 0x7fd7b2e55ed0>]"
      ]
     },
     "execution_count": 8,
     "metadata": {},
     "output_type": "execute_result"
    },
    {
     "data": {
      "image/png": "[encoded data removed]",
      "text/plain": [
       "<Figure size 640x480 with 1 Axes>"
      ]
     },
     "metadata": {},
     "output_type": "display_data"
    }
   ],
   "source": [
    "plt.plot(avgs)"
   ]
  },
  {
   "cell_type": "code",
   "execution_count": null,
   "metadata": {},
   "outputs": [],
   "source": []
  },
  {
   "cell_type": "code",
   "execution_count": 30,
   "metadata": {},
   "outputs": [
    {
     "data": {
      "text/plain": [
       "[0, 246]"
      ]
     },
     "execution_count": 30,
     "metadata": {},
     "output_type": "execute_result"
    }
   ],
   "source": [
    "households_dict[0]"
   ]
  },
  {
   "cell_type": "code",
   "execution_count": 32,
   "metadata": {},
   "outputs": [],
   "source": [
    "# using dijkstra is problematic here because the higher edge weights are interpreted as cost\n",
    "# so, e.g., you can't tell apart a household edge with weight 10 and a length-10 path with all edges of weight 1\n",
    "\n",
    "dijkstra_dict = dict(nx.all_pairs_dijkstra_path_length(G))"
   ]
  },
  {
   "attachments": {},
   "cell_type": "markdown",
   "metadata": {},
   "source": [
    "# Generate screening groups and pools, compute average pairwise distance for each"
   ]
  },
  {
   "cell_type": "code",
   "execution_count": 4,
   "metadata": {},
   "outputs": [],
   "source": [
    "from seirsplus.assignment import embed_nodes, get_equal_sized_clusters\n",
    "\n",
    "from seirsplus.viral_model import ViralExtSEIRNetworkModel, VL_PARAMS\n",
    "\n",
    "VL_params = copy.deepcopy(VL_PARAMS)\n",
    "for key in [\"symptomatic\", \"asymptomatic\"]:\n",
    "    VL_params[key].update(\n",
    "        {\n",
    "            \"peak_height\": (6,6), \n",
    "            \"start_peak\": (3,5),\n",
    "            \"dt_peak\": (1,1)\n",
    "        }\n",
    "    )\n"
   ]
  },
  {
   "cell_type": "code",
   "execution_count": 6,
   "metadata": {},
   "outputs": [
    {
     "name": "stderr",
     "output_type": "stream",
     "text": [
      "Computing transition probabilities: 100%|██████████| 10000/10000 [00:15<00:00, 636.79it/s]\n",
      "Generating walks (CPU: 1): 100%|██████████| 10/10 [00:21<00:00,  2.20s/it]\n"
     ]
    },
    {
     "name": "stdout",
     "output_type": "stream",
     "text": [
      "Running simulation with seed 0 for strategy correlated...\n"
     ]
    }
   ],
   "source": [
    "N=10000\n",
    "\n",
    "test_model = ViralExtSEIRNetworkModel(\n",
    "    G = G,\n",
    "    G_weighted = G_weighted,\n",
    "    households_dict=households_dict,\n",
    "    VL_params=VL_params,\n",
    "    beta = 0.1,\n",
    "    beta_Q = 0,\n",
    "    sigma = 0.2,\n",
    "    lamda = 0.5,\n",
    "    gamma  = 0.25,\n",
    "    seed = 0,\n",
    "    alpha = 2,\n",
    "    transition_mode=\"time_in_state\",\n",
    "    initE = N*0.01//2,\n",
    "    initI_pre = N*0.01//2,\n",
    "    # initI_pre = N*INIT_PREV,\n",
    "    verbose=1\n",
    ")\n",
    "sim = SimulationRunner(\n",
    "    model=test_model,\n",
    "    pooling_strategy=\"correlated\",\n",
    "    T = 1,\n",
    "    # num_groups = 10,\n",
    "    num_groups = 5,\n",
    "    pool_size = 10, # doesn't matter\n",
    "    community_size=20,\n",
    "    LoD=1240,\n",
    "    seed = 0,\n",
    "    save_results=False,\n",
    "    verbose=2,\n",
    "    max_dt=0.01,\n",
    ")\n",
    "\n"
   ]
  },
  {
   "cell_type": "code",
   "execution_count": 17,
   "metadata": {},
   "outputs": [
    {
     "name": "stdout",
     "output_type": "stream",
     "text": [
      "3.771683673469386\n",
      "3.6667572709975547\n",
      "5.21826280623608\n",
      "2.479274611398964\n",
      "4.4405255878285015\n",
      "2.97940074906367\n",
      "4.2267284665894005\n",
      "4.721540178571445\n",
      "5.010745466756213\n",
      "4.346348185576491\n"
     ]
    }
   ],
   "source": [
    "# screening groups\n",
    "for group_id, group_members in sim.screening_groups.items():\n",
    "    print(compute_pairwise_distance(G, group_members))"
   ]
  },
  {
   "cell_type": "code",
   "execution_count": 8,
   "metadata": {},
   "outputs": [
    {
     "name": "stderr",
     "output_type": "stream",
     "text": [
      "Computing transition probabilities: 100%|██████████| 2000/2000 [00:01<00:00, 1539.90it/s]\n",
      "Generating walks (CPU: 1): 100%|██████████| 10/10 [00:02<00:00,  3.34it/s]\n",
      "Computing transition probabilities: 100%|██████████| 2000/2000 [00:01<00:00, 1681.25it/s]\n",
      "Generating walks (CPU: 1): 100%|██████████| 10/10 [00:02<00:00,  3.33it/s]\n",
      "Computing transition probabilities: 100%|██████████| 2000/2000 [00:01<00:00, 1778.44it/s]\n",
      "Generating walks (CPU: 1): 100%|██████████| 10/10 [00:02<00:00,  3.55it/s]\n",
      "Computing transition probabilities: 100%|██████████| 2000/2000 [00:01<00:00, 1806.84it/s]\n",
      "Generating walks (CPU: 1): 100%|██████████| 10/10 [00:03<00:00,  2.97it/s]\n",
      "Computing transition probabilities: 100%|██████████| 2000/2000 [00:01<00:00, 1601.37it/s]\n",
      "Generating walks (CPU: 1): 100%|██████████| 10/10 [00:03<00:00,  3.21it/s]\n",
      "Computing transition probabilities: 100%|██████████| 2000/2000 [00:01<00:00, 1630.00it/s]\n",
      "Generating walks (CPU: 1): 100%|██████████| 10/10 [00:03<00:00,  3.23it/s]\n",
      "Computing transition probabilities: 100%|██████████| 2000/2000 [00:01<00:00, 1662.11it/s]\n",
      "Generating walks (CPU: 1): 100%|██████████| 10/10 [00:03<00:00,  3.06it/s]\n",
      "Computing transition probabilities: 100%|██████████| 2000/2000 [00:01<00:00, 1671.88it/s]\n",
      "Generating walks (CPU: 1): 100%|██████████| 10/10 [00:03<00:00,  3.21it/s]\n",
      "Computing transition probabilities: 100%|██████████| 2000/2000 [00:01<00:00, 1837.25it/s]\n",
      "Generating walks (CPU: 1): 100%|██████████| 10/10 [00:02<00:00,  3.38it/s]\n",
      "Computing transition probabilities: 100%|██████████| 2000/2000 [00:01<00:00, 1849.43it/s]\n",
      "Generating walks (CPU: 1): 100%|██████████| 10/10 [00:03<00:00,  3.20it/s]\n"
     ]
    }
   ],
   "source": [
    "from collections import defaultdict\n",
    "\n",
    "within_pool_pairwise_distance = defaultdict(list)\n",
    "within_pool_num_edges = defaultdict(list)\n",
    "\n",
    "pool_size = 20\n",
    "\n",
    "all_household_pools = []\n",
    "\n",
    "for group_id, group_members in sim.screening_groups.items():\n",
    "\n",
    "    # community correlated\n",
    "    community_pools = sim.get_groups(\n",
    "        G.subgraph(group_members),\n",
    "        cluster_size = 2*pool_size\n",
    "    )\n",
    "    community_pools = [v for _, v in community_pools.items()]\n",
    "    pools = []\n",
    "    for community_pool in community_pools:\n",
    "        random.shuffle(community_pool)\n",
    "        pools += [\n",
    "            community_pool[i : i + pool_size]\n",
    "            for i in range(0, len(community_pool), pool_size)\n",
    "        ]   \n",
    "    \n",
    "    for pool in pools:\n",
    "        # pool_dist = compute_pairwise_distance(G, pool)\n",
    "        # within_pool_pairwise_distance[\"community_correlated\"].append(pool_dist)\n",
    "        within_pool_num_edges[\"community_correlated\"].append(G.subgraph(pool).number_of_edges())\n",
    "\n",
    "    # naive\n",
    "    random.shuffle(group_members)\n",
    "    pools = [\n",
    "        group_members[i : i + pool_size]\n",
    "        for i in range(0, len(group_members), pool_size)\n",
    "    ]\n",
    "    for pool in pools:\n",
    "        # pool_dist = compute_pairwise_distance(G, pool)\n",
    "        # within_pool_pairwise_distance[\"naive\"].append(pool_dist)\n",
    "        within_pool_num_edges[\"naive\"].append(G.subgraph(pool).number_of_edges())\n",
    "\n",
    "    # household correlated\n",
    "    pools = sim.get_groups(\n",
    "        G.subgraph(group_members),\n",
    "        cluster_size = pool_size\n",
    "    )\n",
    "    pools = [v for _, v in pools.items()]\n",
    "\n",
    "    all_household_pools += pools\n",
    "\n",
    "    for pool in pools:\n",
    "        # pool_dist = compute_pairwise_distance(G, pool)\n",
    "        # within_pool_pairwise_distance[\"household_correlated\"].append(pool_dist)\n",
    "        within_pool_num_edges[\"household_correlated\"].append(G.subgraph(pool).number_of_edges())\n",
    "    \n"
   ]
  },
  {
   "cell_type": "code",
   "execution_count": 37,
   "metadata": {},
   "outputs": [
    {
     "data": {
      "image/png": "[encoded data removed]",
      "text/plain": [
       "<Figure size 600x300 with 1 Axes>"
      ]
     },
     "metadata": {},
     "output_type": "display_data"
    }
   ],
   "source": [
    "bins = np.linspace(0,50,26)\n",
    "\n",
    "plt.rcParams[\"font.family\"] = 'serif'\n",
    "plt.figure(figsize=(6,3))\n",
    "\n",
    "plt.hist(\n",
    "    within_pool_num_edges[\"naive\"], alpha=0.6,\n",
    "    bins=bins, \n",
    "    density=True, label = \"naive pooling\",\n",
    "    color = \"mediumpurple\"\n",
    ")\n",
    "\n",
    "plt.hist(\n",
    "    within_pool_num_edges[\"community_correlated\"], alpha=0.6,\n",
    "    bins=bins, \n",
    "    density=True, label = \"community-correlated pooling\",\n",
    "    color = \"dodgerblue\"\n",
    ")\n",
    "\n",
    "plt.hist(\n",
    "    within_pool_num_edges[\"household_correlated\"], alpha=0.6,\n",
    "    bins=bins, \n",
    "    density=True, label = \"household-correlated pooling\",\n",
    "    color = \"mediumseagreen\"\n",
    ")\n",
    "\n",
    "plt.title(\"distribution of number of edges within a pool\", fontsize=12)\n",
    "plt.xlabel(\"number of edges within a pool\", fontsize=11)\n",
    "plt.ylabel(\"density\", fontsize=11)\n",
    "\n",
    "plt.legend()\n",
    "plt.savefig(f'../figures/num_edge_per_pool_distribution.pdf', bbox_inches='tight')"
   ]
  },
  {
   "cell_type": "code",
   "execution_count": 10,
   "metadata": {},
   "outputs": [],
   "source": [
    "# for each household, compute the number of pools its members belong to\n",
    "\n",
    "\n",
    "# from households_dict.values(), get the households\n",
    "# construct a new dict with tuples of household members as keys and the set of pools they belong to as values\n",
    "# loop over the pools, \n",
    "# for each pool, for each member, household_pools[household_dict[node]].add(pool_id)\n",
    "# finally, count the number of distinct pool ids for each household\n",
    "\n",
    "from collections import defaultdict\n",
    "\n",
    "household_pool_tracker = defaultdict(set)\n",
    "for pool_idx, pool in enumerate(all_household_pools):\n",
    "    for node in pool:\n",
    "        household_pool_tracker[tuple(households_dict[node])].add(pool_idx)\n"
   ]
  },
  {
   "cell_type": "code",
   "execution_count": 16,
   "metadata": {},
   "outputs": [],
   "source": [
    "num_pools_per_household = [len(v) for v in household_pool_tracker.values()]"
   ]
  },
  {
   "cell_type": "code",
   "execution_count": 17,
   "metadata": {},
   "outputs": [
    {
     "data": {
      "text/plain": [
       "5"
      ]
     },
     "execution_count": 17,
     "metadata": {},
     "output_type": "execute_result"
    }
   ],
   "source": [
    "max(num_pools_per_household)"
   ]
  },
  {
   "cell_type": "code",
   "execution_count": 36,
   "metadata": {},
   "outputs": [
    {
     "data": {
      "image/png": "[encoded data removed]",
      "text/plain": [
       "<Figure size 500x300 with 1 Axes>"
      ]
     },
     "metadata": {},
     "output_type": "display_data"
    }
   ],
   "source": [
    "\n",
    "left_of_first_bin = 1/2\n",
    "right_of_last_bin = 5 + 1/2\n",
    "\n",
    "plt.rcParams[\"font.family\"] = 'serif'\n",
    "plt.figure(figsize=(5,3))\n",
    "\n",
    "plt.hist(\n",
    "    num_pools_per_household, np.arange(left_of_first_bin, right_of_last_bin + 1, 1), \n",
    "    density=True, color = \"mediumseagreen\",\n",
    "    rwidth=0.7    \n",
    ")\n",
    "plt.title(\"distribution of number of pools per household\\n under household-correlated pooling\", fontsize=12)\n",
    "plt.xlabel(\"number of pools per household\", fontsize=11)\n",
    "plt.ylabel(\"density\", fontsize=11)\n",
    "plt.savefig(f'../figures/num_pools_per_household_distribution.pdf', bbox_inches='tight')\n",
    "plt.show()"
   ]
  },
  {
   "cell_type": "code",
   "execution_count": 12,
   "metadata": {},
   "outputs": [
    {
     "data": {
      "text/plain": [
       "<matplotlib.legend.Legend at 0x7fd7b3889bd0>"
      ]
     },
     "execution_count": 12,
     "metadata": {},
     "output_type": "execute_result"
    },
    {
     "data": {
      "image/png": "[encoded data removed]",
      "text/plain": [
       "<Figure size 640x480 with 1 Axes>"
      ]
     },
     "metadata": {},
     "output_type": "display_data"
    }
   ],
   "source": [
    "bins = np.linspace(0, 10, 20)\n",
    "plt.hist(\n",
    "    within_pool_pairwise_distance[\"household_correlated\"], alpha=0.5,\n",
    "    bins=bins, density=True, label = \"household correlated\"\n",
    ")\n",
    "plt.hist(\n",
    "    within_pool_pairwise_distance[\"community_correlated\"], alpha=0.5,\n",
    "    bins=bins, density=True, label = \"community correlated\"\n",
    ")\n",
    "\n",
    "plt.hist(\n",
    "    population_wide_pairwise_distance, alpha=0.5,\n",
    "    bins=bins, density=True, label = \"population\")\n",
    "\n",
    "plt.legend()"
   ]
  },
  {
   "cell_type": "code",
   "execution_count": null,
   "metadata": {},
   "outputs": [],
   "source": [
    "# deprecated: Floyd-Warshall algorithm, prohibitively slow\n",
    "\n",
    "from numpy import inf\n",
    "\n",
    "def compute_pairwise_distance(G):\n",
    "    A = adjacency_matrix(G) # check unweighted?\n",
    "    A[A == 0] = 10**11\n",
    "    n = A.shape[0]\n",
    "    for k in range(n):\n",
    "        for i in range(n):\n",
    "            for j in range(n):\n",
    "                if A[i,k] + A[k,j] < A[i,j]:\n",
    "                    A[i,j] = A[i,k] + A[k,j]\n",
    "    return A\n",
    "    \n"
   ]
  }
 ],
 "metadata": {
  "kernelspec": {
   "display_name": "corr_pooling",
   "language": "python",
   "name": "python3"
  },
  "language_info": {
   "codemirror_mode": {
    "name": "ipython",
    "version": 3
   },
   "file_extension": ".py",
   "mimetype": "text/x-python",
   "name": "python",
   "nbconvert_exporter": "python",
   "pygments_lexer": "ipython3",
   "version": "3.11.2"
  },
  "orig_nbformat": 4
 },
 "nbformat": 4,
 "nbformat_minor": 2
}
