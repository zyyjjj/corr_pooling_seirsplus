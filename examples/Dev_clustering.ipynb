{
 "cells": [
  {
   "cell_type": "code",
   "execution_count": 2,
   "metadata": {},
   "outputs": [
    {
     "name": "stderr",
     "output_type": "stream",
     "text": [
      "/home/yz685/anaconda3/envs/corr_pooling/lib/python3.11/site-packages/tqdm/auto.py:21: TqdmWarning: IProgress not found. Please update jupyter and ipywidgets. See https://ipywidgets.readthedocs.io/en/stable/user_install.html\n",
      "  from .autonotebook import tqdm as notebook_tqdm\n"
     ]
    }
   ],
   "source": [
    "import networkx as nx\n",
    "\n",
    "from node2vec import Node2Vec\n",
    "\n",
    "from sklearn.cluster import KMeans\n",
    "from scipy.spatial.distance import cdist\n",
    "from scipy.optimize import linear_sum_assignment\n",
    "import numpy as np"
   ]
  },
  {
   "cell_type": "code",
   "execution_count": 3,
   "metadata": {},
   "outputs": [],
   "source": [
    "G = nx.barbell_graph(m1=4,m2=2)\n",
    "# nx.draw(G,with_labels = True,node_color='b',node_size=500);\n"
   ]
  },
  {
   "cell_type": "code",
   "execution_count": 4,
   "metadata": {},
   "outputs": [
    {
     "data": {
      "text/plain": [
       "EdgeView([(0, 1), (0, 2), (0, 3), (1, 2), (1, 3), (2, 3), (3, 4), (4, 5), (5, 6), (6, 7), (6, 8), (6, 9), (7, 8), (7, 9), (8, 9)])"
      ]
     },
     "execution_count": 4,
     "metadata": {},
     "output_type": "execute_result"
    }
   ],
   "source": [
    "G.edges"
   ]
  },
  {
   "cell_type": "code",
   "execution_count": 5,
   "metadata": {},
   "outputs": [
    {
     "data": {
      "text/plain": [
       "NodeView((0, 1, 2, 3, 4, 5, 6, 7, 8, 9))"
      ]
     },
     "execution_count": 5,
     "metadata": {},
     "output_type": "execute_result"
    }
   ],
   "source": [
    "G.nodes"
   ]
  },
  {
   "cell_type": "code",
   "execution_count": 39,
   "metadata": {},
   "outputs": [
    {
     "data": {
      "text/plain": [
       "[1, 2, 3]"
      ]
     },
     "execution_count": 39,
     "metadata": {},
     "output_type": "execute_result"
    }
   ],
   "source": [
    "[v for v in G.neighbors(0)]"
   ]
  },
  {
   "cell_type": "code",
   "execution_count": 14,
   "metadata": {},
   "outputs": [],
   "source": [
    "def embed_nodes(\n",
    "    G, \n",
    "    dimensions = 2, \n",
    "    walk_length = 20, \n",
    "    num_walks = 10,\n",
    "    workers = 4,\n",
    "    window = 10,\n",
    "    min_count = 1\n",
    "):\n",
    "\n",
    "    # Generate walks\n",
    "    node2vec = Node2Vec(\n",
    "        G, dimensions=dimensions, walk_length=walk_length, \n",
    "        num_walks=num_walks, workers=workers, quiet=False)\n",
    "    # Learn embeddings \n",
    "    model = node2vec.fit(window=window, min_count=min_count)\n",
    "\n",
    "    return model.wv.vectors"
   ]
  },
  {
   "cell_type": "code",
   "execution_count": 6,
   "metadata": {},
   "outputs": [
    {
     "name": "stderr",
     "output_type": "stream",
     "text": [
      "Computing transition probabilities: 100%|██████████| 10/10 [00:00<00:00, 2879.52it/s]\n",
      "Generating walks (CPU: 3): 100%|██████████| 2/2 [00:00<00:00, 674.38it/s]\n",
      "\n",
      "Generating walks (CPU: 2): 100%|██████████| 3/3 [00:00<00:00, 735.89it/s]\n",
      "Generating walks (CPU: 1): 100%|██████████| 3/3 [00:00<00:00, 691.44it/s]\n"
     ]
    }
   ],
   "source": [
    "# learn embedding\n",
    "\n",
    "# Generate walks\n",
    "node2vec = Node2Vec(G, dimensions=2, walk_length=20, num_walks=10,workers=4,quiet=False)\n",
    "# Learn embeddings \n",
    "model = node2vec.fit(window=10, min_count=1)"
   ]
  },
  {
   "cell_type": "code",
   "execution_count": 7,
   "metadata": {},
   "outputs": [
    {
     "data": {
      "text/plain": [
       "{'vector_size': 2,\n",
       " 'index_to_key': ['3', '6', '9', '1', '0', '8', '7', '2', '4', '5'],\n",
       " 'next_index': 0,\n",
       " 'key_to_index': {'3': 0,\n",
       "  '6': 1,\n",
       "  '9': 2,\n",
       "  '1': 3,\n",
       "  '0': 4,\n",
       "  '8': 5,\n",
       "  '7': 6,\n",
       "  '2': 7,\n",
       "  '4': 8,\n",
       "  '5': 9},\n",
       " 'vectors': array([[-1.0795068 ,  0.62973034],\n",
       "        [-0.8024769 ,  1.0214614 ],\n",
       "        [-1.338594  ,  0.09568851],\n",
       "        [-0.7111508 ,  1.0677968 ],\n",
       "        [-1.1157986 ,  0.35030797],\n",
       "        [-0.9055779 ,  0.5786976 ],\n",
       "        [-1.0032897 ,  0.72942185],\n",
       "        [-1.0784491 ,  0.37565202],\n",
       "        [-0.9536215 ,  0.64058024],\n",
       "        [-1.4322965 ,  0.09616857]], dtype=float32),\n",
       " 'norms': None,\n",
       " 'expandos': {'count': array([277, 245, 211, 207, 201, 199, 194, 184, 145, 137]),\n",
       "  'sample_int': array([395961944, 423114646, 458862063, 463669521, 471162990, 473740015,\n",
       "         480365870, 494465721, 563659255, 581637179], dtype=uint32)},\n",
       " 'mapfile_path': None,\n",
       " 'vectors_lockf': array([1.], dtype=float32)}"
      ]
     },
     "execution_count": 7,
     "metadata": {},
     "output_type": "execute_result"
    }
   ],
   "source": [
    "model.wv.__dict__\n",
    "\n",
    "# elements in index_to_key is \"word\""
   ]
  },
  {
   "cell_type": "code",
   "execution_count": 8,
   "metadata": {},
   "outputs": [
    {
     "data": {
      "text/plain": [
       "array([[-1.0795068 ,  0.62973034],\n",
       "       [-0.8024769 ,  1.0214614 ],\n",
       "       [-1.338594  ,  0.09568851],\n",
       "       [-0.7111508 ,  1.0677968 ],\n",
       "       [-1.1157986 ,  0.35030797],\n",
       "       [-0.9055779 ,  0.5786976 ],\n",
       "       [-1.0032897 ,  0.72942185],\n",
       "       [-1.0784491 ,  0.37565202],\n",
       "       [-0.9536215 ,  0.64058024],\n",
       "       [-1.4322965 ,  0.09616857]], dtype=float32)"
      ]
     },
     "execution_count": 8,
     "metadata": {},
     "output_type": "execute_result"
    }
   ],
   "source": [
    "model.wv.vectors"
   ]
  },
  {
   "cell_type": "code",
   "execution_count": 9,
   "metadata": {},
   "outputs": [],
   "source": [
    "# create clusters based on embedding\n",
    "\n",
    "\n",
    "def get_even_clusters(X, cluster_size):\n",
    "    \"\"\"\n",
    "    running KMeans then finding the minimal matching of points to clusters \n",
    "    under the constraint of maximal points assigned to cluster (cluster size)\n",
    "    Args:\n",
    "        X: numpy array, num_samples x num_features?\n",
    "        cluster_size: cluster size\n",
    "    \"\"\"\n",
    "    n_clusters = int(np.ceil(len(X)/cluster_size))\n",
    "    kmeans = KMeans(n_clusters)\n",
    "    kmeans.fit(X)\n",
    "    # print timing\n",
    "    centers = kmeans.cluster_centers_\n",
    "    centers = centers.reshape(-1, 1, X.shape[-1]).repeat(cluster_size, 1).reshape(-1, X.shape[-1])\n",
    "    distance_matrix = cdist(X, centers)\n",
    "    clusters = linear_sum_assignment(distance_matrix)[1]//cluster_size\n",
    "    # print timing\n",
    "    \n",
    "    return clusters"
   ]
  },
  {
   "cell_type": "code",
   "execution_count": 32,
   "metadata": {},
   "outputs": [
    {
     "name": "stderr",
     "output_type": "stream",
     "text": [
      "/home/yz685/anaconda3/envs/corr_pooling/lib/python3.11/site-packages/sklearn/cluster/_kmeans.py:870: FutureWarning: The default value of `n_init` will change from 10 to 'auto' in 1.4. Set the value of `n_init` explicitly to suppress the warning\n",
      "  warnings.warn(\n"
     ]
    },
    {
     "data": {
      "text/plain": [
       "array([0, 1, 0, 1, 0, 1, 1, 0, 1, 0])"
      ]
     },
     "execution_count": 32,
     "metadata": {},
     "output_type": "execute_result"
    }
   ],
   "source": [
    "get_even_clusters(model.wv.vectors, cluster_size=5)"
   ]
  },
  {
   "cell_type": "code",
   "execution_count": 1,
   "metadata": {},
   "outputs": [],
   "source": [
    "\n",
    "\n",
    "from seirsplus.models import *\n",
    "from seirsplus.networks import *\n",
    "from seirsplus.sim_loops import *\n",
    "from seirsplus.utilities import *"
   ]
  },
  {
   "cell_type": "code",
   "execution_count": 18,
   "metadata": {},
   "outputs": [
    {
     "name": "stdout",
     "output_type": "stream",
     "text": [
      "Generated overall age distribution:\n",
      "0-9: 0.1091\t(-0.0119 from target)\n",
      "10-19: 0.1231\t(-0.0079 from target)\n",
      "20-29: 0.1404\t(0.0034 from target)\n",
      "30-39: 0.1346\t(0.0016 from target)\n",
      "40-49: 0.1254\t(0.0014 from target)\n",
      "50-59: 0.1351\t(0.0041 from target)\n",
      "60-69: 0.1222\t(0.0072 from target)\n",
      "70-79: 0.0705\t(0.0005 from target)\n",
      "80+: 0.0396\t(0.0016 from target)\n",
      "\n",
      "Generated household size distribution:\n",
      "1: 0.2836\t(-0.0001 from target)\n",
      "2: 0.3334\t(-0.0117 from target)\n",
      "3: 0.1511\t(0.0004 from target)\n",
      "4: 0.1315\t(0.0039 from target)\n",
      "5: 0.0661\t(0.0084 from target)\n",
      "6: 0.0228\t(0.0002 from target)\n",
      "7: 0.0114\t(-0.0011 from target)\n",
      "Num households: 4037\n",
      "mean household size: 2.448393594\n",
      "\n",
      "Generating graph for 0-9...\n"
     ]
    },
    {
     "name": "stderr",
     "output_type": "stream",
     "text": [
      "/home/yz685/anaconda3/envs/corr_pooling/lib/python3.11/site-packages/networkx/linalg/graphmatrix.py:187: FutureWarning: adjacency_matrix will return a scipy.sparse array instead of a matrix in Networkx 3.0.\n",
      "  return adjacency_matrix(G, nodelist, dtype, weight)\n"
     ]
    },
    {
     "name": "stdout",
     "output_type": "stream",
     "text": [
      "Generating graph for 10-19...\n",
      "Generating graph for 20-59...\n",
      "Generating graph for 60+...\n"
     ]
    }
   ],
   "source": [
    "demographic_graphs, individual_ageGroups, households = generate_demographic_contact_network(\n",
    "                                                            N=10000, demographic_data=household_country_data('US'), \n",
    "                                                            distancing_scales=[0.7], isolation_groups=[])\n",
    "\n",
    "G_baseline   = demographic_graphs['baseline']\n",
    "G_quarantine = demographic_graphs['distancingScale0.7']"
   ]
  },
  {
   "cell_type": "code",
   "execution_count": 19,
   "metadata": {},
   "outputs": [
    {
     "name": "stderr",
     "output_type": "stream",
     "text": [
      "Computing transition probabilities: 100%|██████████| 10000/10000 [00:44<00:00, 224.80it/s]\n",
      "Generating walks (CPU: 1): 100%|██████████| 3/3 [00:08<00:00,  2.87s/it]\n",
      "Generating walks (CPU: 2): 100%|██████████| 3/3 [00:08<00:00,  2.98s/it]\n",
      "Generating walks (CPU: 3): 100%|██████████| 2/2 [00:05<00:00,  2.82s/it]\n",
      "Generating walks (CPU: 4): 100%|██████████| 2/2 [00:05<00:00,  2.80s/it]\n"
     ]
    }
   ],
   "source": [
    "embedding = embed_nodes(G_baseline)"
   ]
  },
  {
   "cell_type": "code",
   "execution_count": 22,
   "metadata": {},
   "outputs": [
    {
     "name": "stderr",
     "output_type": "stream",
     "text": [
      "/home/yz685/anaconda3/envs/corr_pooling/lib/python3.11/site-packages/sklearn/cluster/_kmeans.py:870: FutureWarning: The default value of `n_init` will change from 10 to 'auto' in 1.4. Set the value of `n_init` explicitly to suppress the warning\n",
      "  warnings.warn(\n"
     ]
    },
    {
     "data": {
      "text/plain": [
       "array([1104,  144,  789, ...,   74,   32,  179])"
      ]
     },
     "execution_count": 22,
     "metadata": {},
     "output_type": "execute_result"
    }
   ],
   "source": [
    "get_even_clusters(embedding, cluster_size=5)"
   ]
  },
  {
   "cell_type": "code",
   "execution_count": null,
   "metadata": {},
   "outputs": [],
   "source": [
    "# clustering time\n",
    "# (1000,2) 6 sec\n",
    "# (10000, 2) 7 min"
   ]
  }
 ],
 "metadata": {
  "kernelspec": {
   "display_name": "corr_pooling",
   "language": "python",
   "name": "python3"
  },
  "language_info": {
   "codemirror_mode": {
    "name": "ipython",
    "version": 3
   },
   "file_extension": ".py",
   "mimetype": "text/x-python",
   "name": "python",
   "nbconvert_exporter": "python",
   "pygments_lexer": "ipython3",
   "version": "3.11.2"
  },
  "orig_nbformat": 4
 },
 "nbformat": 4,
 "nbformat_minor": 2
}
