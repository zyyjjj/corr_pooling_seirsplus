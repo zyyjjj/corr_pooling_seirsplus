{
 "cells": [
  {
   "cell_type": "code",
   "execution_count": 60,
   "metadata": {},
   "outputs": [
    {
     "name": "stdout",
     "output_type": "stream",
     "text": [
      "The autoreload extension is already loaded. To reload it, use:\n",
      "  %reload_ext autoreload\n"
     ]
    }
   ],
   "source": [
    "%load_ext autoreload\n",
    "%autoreload 2"
   ]
  },
  {
   "cell_type": "code",
   "execution_count": 61,
   "metadata": {},
   "outputs": [],
   "source": [
    "import warnings\n",
    "\n",
    "warnings.filterwarnings(\"ignore\")"
   ]
  },
  {
   "cell_type": "code",
   "execution_count": 62,
   "metadata": {},
   "outputs": [],
   "source": [
    "import matplotlib.pyplot as plt\n",
    "import random\n",
    "import numpy as np"
   ]
  },
  {
   "cell_type": "code",
   "execution_count": 63,
   "metadata": {},
   "outputs": [],
   "source": [
    "from seirsplus.networks import generate_demographic_contact_network, household_country_data\n",
    "from seirsplus.viral_model import ViralExtSEIRNetworkModel\n",
    "from seirsplus.sim_loops_pooled_test import SimulationRunner"
   ]
  },
  {
   "cell_type": "code",
   "execution_count": 64,
   "metadata": {},
   "outputs": [
    {
     "name": "stdout",
     "output_type": "stream",
     "text": [
      "Generated overall age distribution:\n",
      "0-9: 0.1140\t(-0.0070 from target)\n",
      "10-19: 0.1310\t(0.0000 from target)\n",
      "20-29: 0.1410\t(0.0040 from target)\n",
      "30-39: 0.1440\t(0.0110 from target)\n",
      "40-49: 0.1170\t(-0.0070 from target)\n",
      "50-59: 0.1290\t(-0.0020 from target)\n",
      "60-69: 0.1020\t(-0.0130 from target)\n",
      "70-79: 0.0720\t(0.0020 from target)\n",
      "80+: 0.0500\t(0.0120 from target)\n",
      "\n",
      "Generated household size distribution:\n",
      "1: 0.3259\t(0.0422 from target)\n",
      "2: 0.2988\t(-0.0463 from target)\n",
      "3: 0.1160\t(-0.0346 from target)\n",
      "4: 0.1481\t(0.0205 from target)\n",
      "5: 0.0691\t(0.0114 from target)\n",
      "6: 0.0346\t(0.0119 from target)\n",
      "7: 0.0074\t(-0.0051 from target)\n",
      "Num households: 405\n",
      "mean household size: 2.448393594\n",
      "\n",
      "Generating graph for 0-9...\n",
      "Generating graph for 10-19...\n",
      "Generating graph for 20-59...\n",
      "Generating graph for 60+...\n"
     ]
    }
   ],
   "source": [
    "random.seed(0)\n",
    "np.random.seed(0)\n",
    "\n",
    "N = 1000\n",
    "INIT_EXPOSED = int(N * 0.001)\n",
    "\n",
    "demographic_graphs, _, _ = generate_demographic_contact_network(\n",
    "    N=N, \n",
    "    demographic_data=household_country_data('US'),\n",
    "    distancing_scales=[0.7], \n",
    "    isolation_groups=[],\n",
    ")\n",
    "\n",
    "G = demographic_graphs['baseline']\n",
    "# assign higher weights to inter-household edges\n",
    "for e in G.edges():\n",
    "    if \"weight\" not in G[e[0]][e[1]]:\n",
    "        G[e[0]][e[1]][\"weight\"] = 10**10"
   ]
  },
  {
   "cell_type": "code",
   "execution_count": 65,
   "metadata": {},
   "outputs": [],
   "source": [
    "test_model = ViralExtSEIRNetworkModel(\n",
    "    G = G,\n",
    "    beta = 0.5,\n",
    "    sigma = 0.2,\n",
    "    lamda = 0.5,\n",
    "    gamma  = 0.25,\n",
    "    seed = 0,\n",
    "    initE = INIT_EXPOSED,\n",
    "    transition_mode = \"time_in_state\",\n",
    ")"
   ]
  },
  {
   "cell_type": "code",
   "execution_count": 76,
   "metadata": {},
   "outputs": [
    {
     "name": "stdout",
     "output_type": "stream",
     "text": [
      "926\n"
     ]
    }
   ],
   "source": [
    "for i in range(1000):\n",
    "    if test_model.X[i] == test_model.E:\n",
    "        print(i)"
   ]
  },
  {
   "cell_type": "code",
   "execution_count": 77,
   "metadata": {},
   "outputs": [
    {
     "data": {
      "application/vnd.jupyter.widget-view+json": {
       "model_id": "3f20f1f2d2a948b3ac803bcffab648a6",
       "version_major": 2,
       "version_minor": 0
      },
      "text/plain": [
       "Computing transition probabilities:   0%|          | 0/1000 [00:00<?, ?it/s]"
      ]
     },
     "metadata": {},
     "output_type": "display_data"
    },
    {
     "name": "stderr",
     "output_type": "stream",
     "text": [
      "Generating walks (CPU: 1): 100%|██████████| 10/10 [00:02<00:00,  3.61it/s]\n"
     ]
    }
   ],
   "source": [
    "sim_correlated = SimulationRunner(\n",
    "    model=test_model,\n",
    "    pooling_strategy='correlated',\n",
    "    T = 15,\n",
    "    num_groups = 10,\n",
    "    pool_size = 5,\n",
    "    seed = 0,\n",
    "    save_results=False,\n",
    ")"
   ]
  },
  {
   "cell_type": "code",
   "execution_count": 78,
   "metadata": {},
   "outputs": [
    {
     "data": {
      "application/vnd.jupyter.widget-view+json": {
       "model_id": "8a6cac62afac4529bbe494f88171bae0",
       "version_major": 2,
       "version_minor": 0
      },
      "text/plain": [
       "Computing transition probabilities:   0%|          | 0/100 [00:00<?, ?it/s]"
      ]
     },
     "metadata": {},
     "output_type": "display_data"
    },
    {
     "name": "stderr",
     "output_type": "stream",
     "text": [
      "Generating walks (CPU: 1): 100%|██████████| 10/10 [00:00<00:00, 44.38it/s]\n"
     ]
    },
    {
     "data": {
      "application/vnd.jupyter.widget-view+json": {
       "model_id": "182c929667ed4feaa34d85a02b037091",
       "version_major": 2,
       "version_minor": 0
      },
      "text/plain": [
       "Computing transition probabilities:   0%|          | 0/100 [00:00<?, ?it/s]"
      ]
     },
     "metadata": {},
     "output_type": "display_data"
    },
    {
     "name": "stderr",
     "output_type": "stream",
     "text": [
      "Generating walks (CPU: 1): 100%|██████████| 10/10 [00:00<00:00, 59.64it/s]\n"
     ]
    },
    {
     "data": {
      "application/vnd.jupyter.widget-view+json": {
       "model_id": "4447c63fd99047bca92cabca2b775c44",
       "version_major": 2,
       "version_minor": 0
      },
      "text/plain": [
       "Computing transition probabilities:   0%|          | 0/100 [00:00<?, ?it/s]"
      ]
     },
     "metadata": {},
     "output_type": "display_data"
    },
    {
     "name": "stderr",
     "output_type": "stream",
     "text": [
      "Generating walks (CPU: 1): 100%|██████████| 10/10 [00:00<00:00, 58.49it/s]\n"
     ]
    },
    {
     "data": {
      "application/vnd.jupyter.widget-view+json": {
       "model_id": "b7c68b16ac3b42a3a1e20ea9e1a5edb7",
       "version_major": 2,
       "version_minor": 0
      },
      "text/plain": [
       "Computing transition probabilities:   0%|          | 0/100 [00:00<?, ?it/s]"
      ]
     },
     "metadata": {},
     "output_type": "display_data"
    },
    {
     "name": "stderr",
     "output_type": "stream",
     "text": [
      "Generating walks (CPU: 1): 100%|██████████| 10/10 [00:00<00:00, 51.09it/s]\n"
     ]
    },
    {
     "data": {
      "application/vnd.jupyter.widget-view+json": {
       "model_id": "fe65836fce144c229e17ab1f645dddd2",
       "version_major": 2,
       "version_minor": 0
      },
      "text/plain": [
       "Computing transition probabilities:   0%|          | 0/100 [00:00<?, ?it/s]"
      ]
     },
     "metadata": {},
     "output_type": "display_data"
    },
    {
     "name": "stderr",
     "output_type": "stream",
     "text": [
      "Generating walks (CPU: 1): 100%|██████████| 10/10 [00:00<00:00, 38.25it/s]\n"
     ]
    },
    {
     "data": {
      "application/vnd.jupyter.widget-view+json": {
       "model_id": "c9dacea8b8b64d438717681f85ae4cb8",
       "version_major": 2,
       "version_minor": 0
      },
      "text/plain": [
       "Computing transition probabilities:   0%|          | 0/100 [00:00<?, ?it/s]"
      ]
     },
     "metadata": {},
     "output_type": "display_data"
    },
    {
     "name": "stderr",
     "output_type": "stream",
     "text": [
      "Generating walks (CPU: 1): 100%|██████████| 10/10 [00:00<00:00, 63.76it/s]\n"
     ]
    },
    {
     "data": {
      "application/vnd.jupyter.widget-view+json": {
       "model_id": "2dcad45fac37482aaa97ca4a1feb4efe",
       "version_major": 2,
       "version_minor": 0
      },
      "text/plain": [
       "Computing transition probabilities:   0%|          | 0/100 [00:00<?, ?it/s]"
      ]
     },
     "metadata": {},
     "output_type": "display_data"
    },
    {
     "name": "stderr",
     "output_type": "stream",
     "text": [
      "Generating walks (CPU: 1): 100%|██████████| 10/10 [00:00<00:00, 59.23it/s]\n"
     ]
    },
    {
     "data": {
      "application/vnd.jupyter.widget-view+json": {
       "model_id": "5162e30371134c008a04842e982e5ad9",
       "version_major": 2,
       "version_minor": 0
      },
      "text/plain": [
       "Computing transition probabilities:   0%|          | 0/100 [00:00<?, ?it/s]"
      ]
     },
     "metadata": {},
     "output_type": "display_data"
    },
    {
     "name": "stderr",
     "output_type": "stream",
     "text": [
      "Generating walks (CPU: 1): 100%|██████████| 10/10 [00:00<00:00, 48.74it/s]\n"
     ]
    },
    {
     "data": {
      "application/vnd.jupyter.widget-view+json": {
       "model_id": "415da1f1c79f442099b98d20455a34b6",
       "version_major": 2,
       "version_minor": 0
      },
      "text/plain": [
       "Computing transition probabilities:   0%|          | 0/100 [00:00<?, ?it/s]"
      ]
     },
     "metadata": {},
     "output_type": "display_data"
    },
    {
     "name": "stderr",
     "output_type": "stream",
     "text": [
      "Generating walks (CPU: 1): 100%|██████████| 10/10 [00:00<00:00, 65.56it/s]\n"
     ]
    },
    {
     "data": {
      "application/vnd.jupyter.widget-view+json": {
       "model_id": "918bca270236409bb8bf70db515d8eff",
       "version_major": 2,
       "version_minor": 0
      },
      "text/plain": [
       "Computing transition probabilities:   0%|          | 0/100 [00:00<?, ?it/s]"
      ]
     },
     "metadata": {},
     "output_type": "display_data"
    },
    {
     "name": "stderr",
     "output_type": "stream",
     "text": [
      "Generating walks (CPU: 1): 100%|██████████| 10/10 [00:00<00:00, 58.99it/s]\n"
     ]
    },
    {
     "data": {
      "application/vnd.jupyter.widget-view+json": {
       "model_id": "057066c439854555acafc4ade1c5170b",
       "version_major": 2,
       "version_minor": 0
      },
      "text/plain": [
       "Computing transition probabilities:   0%|          | 0/100 [00:00<?, ?it/s]"
      ]
     },
     "metadata": {},
     "output_type": "display_data"
    },
    {
     "name": "stderr",
     "output_type": "stream",
     "text": [
      "Generating walks (CPU: 1): 100%|██████████| 10/10 [00:00<00:00, 24.17it/s]\n"
     ]
    },
    {
     "data": {
      "application/vnd.jupyter.widget-view+json": {
       "model_id": "fca463e527c04070b6f94da1024b769f",
       "version_major": 2,
       "version_minor": 0
      },
      "text/plain": [
       "Computing transition probabilities:   0%|          | 0/100 [00:00<?, ?it/s]"
      ]
     },
     "metadata": {},
     "output_type": "display_data"
    },
    {
     "name": "stderr",
     "output_type": "stream",
     "text": [
      "Generating walks (CPU: 1): 100%|██████████| 10/10 [00:00<00:00, 62.88it/s]\n"
     ]
    },
    {
     "data": {
      "application/vnd.jupyter.widget-view+json": {
       "model_id": "6f765a5e9485454abfbcd894789b78cd",
       "version_major": 2,
       "version_minor": 0
      },
      "text/plain": [
       "Computing transition probabilities:   0%|          | 0/100 [00:00<?, ?it/s]"
      ]
     },
     "metadata": {},
     "output_type": "display_data"
    },
    {
     "name": "stderr",
     "output_type": "stream",
     "text": [
      "Generating walks (CPU: 1): 100%|██████████| 10/10 [00:00<00:00, 37.33it/s]\n"
     ]
    },
    {
     "data": {
      "application/vnd.jupyter.widget-view+json": {
       "model_id": "1addbc5b466c4f6ebfa4a216617e7ef6",
       "version_major": 2,
       "version_minor": 0
      },
      "text/plain": [
       "Computing transition probabilities:   0%|          | 0/100 [00:00<?, ?it/s]"
      ]
     },
     "metadata": {},
     "output_type": "display_data"
    },
    {
     "name": "stderr",
     "output_type": "stream",
     "text": [
      "Generating walks (CPU: 1): 100%|██████████| 10/10 [00:00<00:00, 49.46it/s]\n"
     ]
    },
    {
     "data": {
      "application/vnd.jupyter.widget-view+json": {
       "model_id": "a07d17a1f4f043c6b5121c7952234143",
       "version_major": 2,
       "version_minor": 0
      },
      "text/plain": [
       "Computing transition probabilities:   0%|          | 0/100 [00:00<?, ?it/s]"
      ]
     },
     "metadata": {},
     "output_type": "display_data"
    },
    {
     "name": "stderr",
     "output_type": "stream",
     "text": [
      "Generating walks (CPU: 1): 100%|██████████| 10/10 [00:00<00:00, 18.59it/s]\n"
     ]
    },
    {
     "data": {
      "application/vnd.jupyter.widget-view+json": {
       "model_id": "0335dbd0a05640eeb9b371e2cad5c11c",
       "version_major": 2,
       "version_minor": 0
      },
      "text/plain": [
       "Computing transition probabilities:   0%|          | 0/100 [00:00<?, ?it/s]"
      ]
     },
     "metadata": {},
     "output_type": "display_data"
    },
    {
     "name": "stderr",
     "output_type": "stream",
     "text": [
      "Generating walks (CPU: 1): 100%|██████████| 10/10 [00:00<00:00, 41.65it/s]\n"
     ]
    },
    {
     "data": {
      "application/vnd.jupyter.widget-view+json": {
       "model_id": "96206489c10f4116ae48c3e7fa0ba211",
       "version_major": 2,
       "version_minor": 0
      },
      "text/plain": [
       "Computing transition probabilities:   0%|          | 0/100 [00:00<?, ?it/s]"
      ]
     },
     "metadata": {},
     "output_type": "display_data"
    },
    {
     "name": "stderr",
     "output_type": "stream",
     "text": [
      "Generating walks (CPU: 1): 100%|██████████| 10/10 [00:00<00:00, 59.13it/s]\n"
     ]
    },
    {
     "data": {
      "application/vnd.jupyter.widget-view+json": {
       "model_id": "f159f6220e40449280430a864cd1b61d",
       "version_major": 2,
       "version_minor": 0
      },
      "text/plain": [
       "Computing transition probabilities:   0%|          | 0/100 [00:00<?, ?it/s]"
      ]
     },
     "metadata": {},
     "output_type": "display_data"
    },
    {
     "name": "stderr",
     "output_type": "stream",
     "text": [
      "Generating walks (CPU: 1): 100%|██████████| 10/10 [00:00<00:00, 44.38it/s]\n"
     ]
    },
    {
     "data": {
      "application/vnd.jupyter.widget-view+json": {
       "model_id": "ff7e271e9f6e464782dd836dfc495aef",
       "version_major": 2,
       "version_minor": 0
      },
      "text/plain": [
       "Computing transition probabilities:   0%|          | 0/100 [00:00<?, ?it/s]"
      ]
     },
     "metadata": {},
     "output_type": "display_data"
    },
    {
     "name": "stderr",
     "output_type": "stream",
     "text": [
      "Generating walks (CPU: 1): 100%|██████████| 10/10 [00:00<00:00, 30.97it/s]\n"
     ]
    },
    {
     "data": {
      "application/vnd.jupyter.widget-view+json": {
       "model_id": "7215ec12d9274c31adbc20237e9c4837",
       "version_major": 2,
       "version_minor": 0
      },
      "text/plain": [
       "Computing transition probabilities:   0%|          | 0/100 [00:00<?, ?it/s]"
      ]
     },
     "metadata": {},
     "output_type": "display_data"
    },
    {
     "name": "stderr",
     "output_type": "stream",
     "text": [
      "Generating walks (CPU: 1): 100%|██████████| 10/10 [00:00<00:00, 60.52it/s]\n"
     ]
    },
    {
     "data": {
      "application/vnd.jupyter.widget-view+json": {
       "model_id": "5ccc009cc8a544c9a44aed9de683c55f",
       "version_major": 2,
       "version_minor": 0
      },
      "text/plain": [
       "Computing transition probabilities:   0%|          | 0/100 [00:00<?, ?it/s]"
      ]
     },
     "metadata": {},
     "output_type": "display_data"
    },
    {
     "name": "stderr",
     "output_type": "stream",
     "text": [
      "Generating walks (CPU: 1): 100%|██████████| 10/10 [00:00<00:00, 27.55it/s]\n"
     ]
    }
   ],
   "source": [
    "sim_correlated.run_simulation()"
   ]
  },
  {
   "cell_type": "code",
   "execution_count": 55,
   "metadata": {},
   "outputs": [
    {
     "data": {
      "text/plain": [
       "[{'t': 5.0100021242051485,\n",
       "  'infected_node': 925,\n",
       "  'infection_type': 'StoE',\n",
       "  'infected_node_degree': array([5.e+10]),\n",
       "  'local_contact_nodes': [836, 932, 927, 926, 547, 546, 545],\n",
       "  'local_contact_node_states': array([1, 1, 1, 3, 1, 1, 1]),\n",
       "  'isolation_contact_nodes': [836, 932, 927, 926, 547, 546, 545],\n",
       "  'isolation_contact_node_states': array([1, 1, 1, 3, 1, 1, 1])},\n",
       " {'t': 5.010002124242381,\n",
       "  'infected_node': 546,\n",
       "  'infection_type': 'StoE',\n",
       "  'infected_node_degree': array([5.e+10]),\n",
       "  'local_contact_nodes': [246,\n",
       "   249,\n",
       "   253,\n",
       "   256,\n",
       "   260,\n",
       "   271,\n",
       "   415,\n",
       "   927,\n",
       "   926,\n",
       "   925,\n",
       "   547,\n",
       "   545],\n",
       "  'local_contact_node_states': array([1, 1, 1, 1, 1, 1, 1, 1, 3, 2, 1, 1]),\n",
       "  'isolation_contact_nodes': [246,\n",
       "   249,\n",
       "   253,\n",
       "   256,\n",
       "   260,\n",
       "   271,\n",
       "   415,\n",
       "   927,\n",
       "   926,\n",
       "   925,\n",
       "   547,\n",
       "   545],\n",
       "  'isolation_contact_node_states': array([1, 1, 1, 1, 1, 1, 1, 1, 3, 2, 1, 1])},\n",
       " {'t': 5.0100021243415185,\n",
       "  'infected_node': 547,\n",
       "  'infection_type': 'StoE',\n",
       "  'infected_node_degree': array([5.e+10]),\n",
       "  'local_contact_nodes': [249, 404, 554, 927, 926, 925, 546, 545],\n",
       "  'local_contact_node_states': array([1, 1, 1, 1, 3, 2, 2, 1]),\n",
       "  'isolation_contact_nodes': [249, 404, 554, 927, 926, 925, 546, 545],\n",
       "  'isolation_contact_node_states': array([1, 1, 1, 1, 3, 2, 2, 1])},\n",
       " {'t': 5.010002124667663,\n",
       "  'infected_node': 545,\n",
       "  'infection_type': 'StoE',\n",
       "  'infected_node_degree': array([5.e+10]),\n",
       "  'local_contact_nodes': [256,\n",
       "   266,\n",
       "   298,\n",
       "   349,\n",
       "   383,\n",
       "   397,\n",
       "   927,\n",
       "   926,\n",
       "   925,\n",
       "   547,\n",
       "   546],\n",
       "  'local_contact_node_states': array([1, 1, 1, 1, 1, 1, 1, 3, 2, 2, 2]),\n",
       "  'isolation_contact_nodes': [256,\n",
       "   266,\n",
       "   298,\n",
       "   349,\n",
       "   383,\n",
       "   397,\n",
       "   927,\n",
       "   926,\n",
       "   925,\n",
       "   547,\n",
       "   546],\n",
       "  'isolation_contact_node_states': array([1, 1, 1, 1, 1, 1, 1, 3, 2, 2, 2])},\n",
       " {'t': 5.010002125343928,\n",
       "  'infected_node': 927,\n",
       "  'infection_type': 'StoE',\n",
       "  'infected_node_degree': array([5.e+10]),\n",
       "  'local_contact_nodes': [778, 801, 808, 809, 926, 925, 547, 546, 545],\n",
       "  'local_contact_node_states': array([1, 1, 1, 1, 3, 2, 2, 2, 2]),\n",
       "  'isolation_contact_nodes': [778, 801, 808, 809, 926, 925, 547, 546, 545],\n",
       "  'isolation_contact_node_states': array([1, 1, 1, 1, 3, 2, 2, 2, 2])}]"
      ]
     },
     "execution_count": 55,
     "metadata": {},
     "output_type": "execute_result"
    }
   ],
   "source": [
    "sim_correlated.model.infectionsLog"
   ]
  },
  {
   "cell_type": "code",
   "execution_count": 85,
   "metadata": {},
   "outputs": [
    {
     "data": {
      "text/plain": [
       "Counter({1: 994, 2: 4, 3: 1, 13: 1})"
      ]
     },
     "execution_count": 85,
     "metadata": {},
     "output_type": "execute_result"
    }
   ],
   "source": [
    "from collections import Counter\n",
    "\n",
    "Counter(list(test_model.X.flatten()))"
   ]
  },
  {
   "cell_type": "code",
   "execution_count": 92,
   "metadata": {},
   "outputs": [
    {
     "data": {
      "text/plain": [
       "array([ True])"
      ]
     },
     "execution_count": 92,
     "metadata": {},
     "output_type": "execute_result"
    }
   ],
   "source": [
    "(test_model.X ==test_model.Q_pre)[926]"
   ]
  },
  {
   "cell_type": "code",
   "execution_count": 96,
   "metadata": {},
   "outputs": [
    {
     "name": "stdout",
     "output_type": "stream",
     "text": [
      "545\n",
      "546\n",
      "547\n",
      "927\n"
     ]
    }
   ],
   "source": [
    "for i in range(1000):\n",
    "    if test_model.X[i] == test_model.E:\n",
    "        print(i)"
   ]
  },
  {
   "cell_type": "code",
   "execution_count": 98,
   "metadata": {},
   "outputs": [
    {
     "name": "stdout",
     "output_type": "stream",
     "text": [
      "925\n"
     ]
    }
   ],
   "source": [
    "for i in range(1000):\n",
    "    if test_model.X[i] == test_model.I_pre:\n",
    "        print(i)"
   ]
  },
  {
   "cell_type": "code",
   "execution_count": 99,
   "metadata": {},
   "outputs": [
    {
     "name": "stdout",
     "output_type": "stream",
     "text": [
      "926\n"
     ]
    }
   ],
   "source": [
    "for i in range(1000):\n",
    "    if test_model.X[i] == test_model.Q_pre:\n",
    "        print(i)"
   ]
  },
  {
   "cell_type": "code",
   "execution_count": 101,
   "metadata": {},
   "outputs": [
    {
     "data": {
      "text/plain": [
       "array([[0.5],\n",
       "       [0.5],\n",
       "       [0.5],\n",
       "       [0.5],\n",
       "       [0.5],\n",
       "       [0.5],\n",
       "       [0.5],\n",
       "       [0.5],\n",
       "       [0.5],\n",
       "       [0.5],\n",
       "       [0.5],\n",
       "       [0.5],\n",
       "       [0.5],\n",
       "       [0.5],\n",
       "       [0.5],\n",
       "       [0.5],\n",
       "       [0.5],\n",
       "       [0.5],\n",
       "       [0.5],\n",
       "       [0.5],\n",
       "       [0.5],\n",
       "       [0.5],\n",
       "       [0.5],\n",
       "       [0.5],\n",
       "       [0.5],\n",
       "       [0.5],\n",
       "       [0.5],\n",
       "       [0.5],\n",
       "       [0.5],\n",
       "       [0.5],\n",
       "       [0.5],\n",
       "       [0.5],\n",
       "       [0.5],\n",
       "       [0.5],\n",
       "       [0.5],\n",
       "       [0.5],\n",
       "       [0.5],\n",
       "       [0.5],\n",
       "       [0.5],\n",
       "       [0.5],\n",
       "       [0.5],\n",
       "       [0.5],\n",
       "       [0.5],\n",
       "       [0.5],\n",
       "       [0.5],\n",
       "       [0.5],\n",
       "       [0.5],\n",
       "       [0.5],\n",
       "       [0.5],\n",
       "       [0.5],\n",
       "       [0.5],\n",
       "       [0.5],\n",
       "       [0.5],\n",
       "       [0.5],\n",
       "       [0.5],\n",
       "       [0.5],\n",
       "       [0.5],\n",
       "       [0.5],\n",
       "       [0.5],\n",
       "       [0.5],\n",
       "       [0.5],\n",
       "       [0.5],\n",
       "       [0.5],\n",
       "       [0.5],\n",
       "       [0.5],\n",
       "       [0.5],\n",
       "       [0.5],\n",
       "       [0.5],\n",
       "       [0.5],\n",
       "       [0.5],\n",
       "       [0.5],\n",
       "       [0.5],\n",
       "       [0.5],\n",
       "       [0.5],\n",
       "       [0.5],\n",
       "       [0.5],\n",
       "       [0.5],\n",
       "       [0.5],\n",
       "       [0.5],\n",
       "       [0.5],\n",
       "       [0.5],\n",
       "       [0.5],\n",
       "       [0.5],\n",
       "       [0.5],\n",
       "       [0.5],\n",
       "       [0.5],\n",
       "       [0.5],\n",
       "       [0.5],\n",
       "       [0.5],\n",
       "       [0.5],\n",
       "       [0.5],\n",
       "       [0.5],\n",
       "       [0.5],\n",
       "       [0.5],\n",
       "       [0.5],\n",
       "       [0.5],\n",
       "       [0.5],\n",
       "       [0.5],\n",
       "       [0.5],\n",
       "       [0.5],\n",
       "       [0.5],\n",
       "       [0.5],\n",
       "       [0.5],\n",
       "       [0.5],\n",
       "       [0.5],\n",
       "       [0.5],\n",
       "       [0.5],\n",
       "       [0.5],\n",
       "       [0.5],\n",
       "       [0.5],\n",
       "       [0.5],\n",
       "       [0.5],\n",
       "       [0.5],\n",
       "       [0.5],\n",
       "       [0.5],\n",
       "       [0.5],\n",
       "       [0.5],\n",
       "       [0.5],\n",
       "       [0.5],\n",
       "       [0.5],\n",
       "       [0.5],\n",
       "       [0.5],\n",
       "       [0.5],\n",
       "       [0.5],\n",
       "       [0.5],\n",
       "       [0.5],\n",
       "       [0.5],\n",
       "       [0.5],\n",
       "       [0.5],\n",
       "       [0.5],\n",
       "       [0.5],\n",
       "       [0.5],\n",
       "       [0.5],\n",
       "       [0.5],\n",
       "       [0.5],\n",
       "       [0.5],\n",
       "       [0.5],\n",
       "       [0.5],\n",
       "       [0.5],\n",
       "       [0.5],\n",
       "       [0.5],\n",
       "       [0.5],\n",
       "       [0.5],\n",
       "       [0.5],\n",
       "       [0.5],\n",
       "       [0.5],\n",
       "       [0.5],\n",
       "       [0.5],\n",
       "       [0.5],\n",
       "       [0.5],\n",
       "       [0.5],\n",
       "       [0.5],\n",
       "       [0.5],\n",
       "       [0.5],\n",
       "       [0.5],\n",
       "       [0.5],\n",
       "       [0.5],\n",
       "       [0.5],\n",
       "       [0.5],\n",
       "       [0.5],\n",
       "       [0.5],\n",
       "       [0.5],\n",
       "       [0.5],\n",
       "       [0.5],\n",
       "       [0.5],\n",
       "       [0.5],\n",
       "       [0.5],\n",
       "       [0.5],\n",
       "       [0.5],\n",
       "       [0.5],\n",
       "       [0.5],\n",
       "       [0.5],\n",
       "       [0.5],\n",
       "       [0.5],\n",
       "       [0.5],\n",
       "       [0.5],\n",
       "       [0.5],\n",
       "       [0.5],\n",
       "       [0.5],\n",
       "       [0.5],\n",
       "       [0.5],\n",
       "       [0.5],\n",
       "       [0.5],\n",
       "       [0.5],\n",
       "       [0.5],\n",
       "       [0.5],\n",
       "       [0.5],\n",
       "       [0.5],\n",
       "       [0.5],\n",
       "       [0.5],\n",
       "       [0.5],\n",
       "       [0.5],\n",
       "       [0.5],\n",
       "       [0.5],\n",
       "       [0.5],\n",
       "       [0.5],\n",
       "       [0.5],\n",
       "       [0.5],\n",
       "       [0.5],\n",
       "       [0.5],\n",
       "       [0.5],\n",
       "       [0.5],\n",
       "       [0.5],\n",
       "       [0.5],\n",
       "       [0.5],\n",
       "       [0.5],\n",
       "       [0.5],\n",
       "       [0.5],\n",
       "       [0.5],\n",
       "       [0.5],\n",
       "       [0.5],\n",
       "       [0.5],\n",
       "       [0.5],\n",
       "       [0.5],\n",
       "       [0.5],\n",
       "       [0.5],\n",
       "       [0.5],\n",
       "       [0.5],\n",
       "       [0.5],\n",
       "       [0.5],\n",
       "       [0.5],\n",
       "       [0.5],\n",
       "       [0.5],\n",
       "       [0.5],\n",
       "       [0.5],\n",
       "       [0.5],\n",
       "       [0.5],\n",
       "       [0.5],\n",
       "       [0.5],\n",
       "       [0.5],\n",
       "       [0.5],\n",
       "       [0.5],\n",
       "       [0.5],\n",
       "       [0.5],\n",
       "       [0.5],\n",
       "       [0.5],\n",
       "       [0.5],\n",
       "       [0.5],\n",
       "       [0.5],\n",
       "       [0.5],\n",
       "       [0.5],\n",
       "       [0.5],\n",
       "       [0.5],\n",
       "       [0.5],\n",
       "       [0.5],\n",
       "       [0.5],\n",
       "       [0.5],\n",
       "       [0.5],\n",
       "       [0.5],\n",
       "       [0.5],\n",
       "       [0.5],\n",
       "       [0.5],\n",
       "       [0.5],\n",
       "       [0.5],\n",
       "       [0.5],\n",
       "       [0.5],\n",
       "       [0.5],\n",
       "       [0.5],\n",
       "       [0.5],\n",
       "       [0.5],\n",
       "       [0.5],\n",
       "       [0.5],\n",
       "       [0.5],\n",
       "       [0.5],\n",
       "       [0.5],\n",
       "       [0.5],\n",
       "       [0.5],\n",
       "       [0.5],\n",
       "       [0.5],\n",
       "       [0.5],\n",
       "       [0.5],\n",
       "       [0.5],\n",
       "       [0.5],\n",
       "       [0.5],\n",
       "       [0.5],\n",
       "       [0.5],\n",
       "       [0.5],\n",
       "       [0.5],\n",
       "       [0.5],\n",
       "       [0.5],\n",
       "       [0.5],\n",
       "       [0.5],\n",
       "       [0.5],\n",
       "       [0.5],\n",
       "       [0.5],\n",
       "       [0.5],\n",
       "       [0.5],\n",
       "       [0.5],\n",
       "       [0.5],\n",
       "       [0.5],\n",
       "       [0.5],\n",
       "       [0.5],\n",
       "       [0.5],\n",
       "       [0.5],\n",
       "       [0.5],\n",
       "       [0.5],\n",
       "       [0.5],\n",
       "       [0.5],\n",
       "       [0.5],\n",
       "       [0.5],\n",
       "       [0.5],\n",
       "       [0.5],\n",
       "       [0.5],\n",
       "       [0.5],\n",
       "       [0.5],\n",
       "       [0.5],\n",
       "       [0.5],\n",
       "       [0.5],\n",
       "       [0.5],\n",
       "       [0.5],\n",
       "       [0.5],\n",
       "       [0.5],\n",
       "       [0.5],\n",
       "       [0.5],\n",
       "       [0.5],\n",
       "       [0.5],\n",
       "       [0.5],\n",
       "       [0.5],\n",
       "       [0.5],\n",
       "       [0.5],\n",
       "       [0.5],\n",
       "       [0.5],\n",
       "       [0.5],\n",
       "       [0.5],\n",
       "       [0.5],\n",
       "       [0.5],\n",
       "       [0.5],\n",
       "       [0.5],\n",
       "       [0.5],\n",
       "       [0.5],\n",
       "       [0.5],\n",
       "       [0.5],\n",
       "       [0.5],\n",
       "       [0.5],\n",
       "       [0.5],\n",
       "       [0.5],\n",
       "       [0.5],\n",
       "       [0.5],\n",
       "       [0.5],\n",
       "       [0.5],\n",
       "       [0.5],\n",
       "       [0.5],\n",
       "       [0.5],\n",
       "       [0.5],\n",
       "       [0.5],\n",
       "       [0.5],\n",
       "       [0.5],\n",
       "       [0.5],\n",
       "       [0.5],\n",
       "       [0.5],\n",
       "       [0.5],\n",
       "       [0.5],\n",
       "       [0.5],\n",
       "       [0.5],\n",
       "       [0.5],\n",
       "       [0.5],\n",
       "       [0.5],\n",
       "       [0.5],\n",
       "       [0.5],\n",
       "       [0.5],\n",
       "       [0.5],\n",
       "       [0.5],\n",
       "       [0.5],\n",
       "       [0.5],\n",
       "       [0.5],\n",
       "       [0.5],\n",
       "       [0.5],\n",
       "       [0.5],\n",
       "       [0.5],\n",
       "       [0.5],\n",
       "       [0.5],\n",
       "       [0.5],\n",
       "       [0.5],\n",
       "       [0.5],\n",
       "       [0.5],\n",
       "       [0.5],\n",
       "       [0.5],\n",
       "       [0.5],\n",
       "       [0.5],\n",
       "       [0.5],\n",
       "       [0.5],\n",
       "       [0.5],\n",
       "       [0.5],\n",
       "       [0.5],\n",
       "       [0.5],\n",
       "       [0.5],\n",
       "       [0.5],\n",
       "       [0.5],\n",
       "       [0.5],\n",
       "       [0.5],\n",
       "       [0.5],\n",
       "       [0.5],\n",
       "       [0.5],\n",
       "       [0.5],\n",
       "       [0.5],\n",
       "       [0.5],\n",
       "       [0.5],\n",
       "       [0.5],\n",
       "       [0.5],\n",
       "       [0.5],\n",
       "       [0.5],\n",
       "       [0.5],\n",
       "       [0.5],\n",
       "       [0.5],\n",
       "       [0.5],\n",
       "       [0.5],\n",
       "       [0.5],\n",
       "       [0.5],\n",
       "       [0.5],\n",
       "       [0.5],\n",
       "       [0.5],\n",
       "       [0.5],\n",
       "       [0.5],\n",
       "       [0.5],\n",
       "       [0.5],\n",
       "       [0.5],\n",
       "       [0.5],\n",
       "       [0.5],\n",
       "       [0.5],\n",
       "       [0.5],\n",
       "       [0.5],\n",
       "       [0.5],\n",
       "       [0.5],\n",
       "       [0.5],\n",
       "       [0.5],\n",
       "       [0.5],\n",
       "       [0.5],\n",
       "       [0.5],\n",
       "       [0.5],\n",
       "       [0.5],\n",
       "       [0.5],\n",
       "       [0.5],\n",
       "       [0.5],\n",
       "       [0.5],\n",
       "       [0.5],\n",
       "       [0.5],\n",
       "       [0.5],\n",
       "       [0.5],\n",
       "       [0.5],\n",
       "       [0.5],\n",
       "       [0.5],\n",
       "       [0.5],\n",
       "       [0.5],\n",
       "       [0.5],\n",
       "       [0.5],\n",
       "       [0.5],\n",
       "       [0.5],\n",
       "       [0.5],\n",
       "       [0.5],\n",
       "       [0.5],\n",
       "       [0.5],\n",
       "       [0.5],\n",
       "       [0.5],\n",
       "       [0.5],\n",
       "       [0.5],\n",
       "       [0.5],\n",
       "       [0.5],\n",
       "       [0.5],\n",
       "       [0.5],\n",
       "       [0.5],\n",
       "       [0.5],\n",
       "       [0.5],\n",
       "       [0.5],\n",
       "       [0.5],\n",
       "       [0.5],\n",
       "       [0.5],\n",
       "       [0.5],\n",
       "       [0.5],\n",
       "       [0.5],\n",
       "       [0.5],\n",
       "       [0.5],\n",
       "       [0.5],\n",
       "       [0.5],\n",
       "       [0.5],\n",
       "       [0.5],\n",
       "       [0.5],\n",
       "       [0.5],\n",
       "       [0.5],\n",
       "       [0.5],\n",
       "       [0.5],\n",
       "       [0.5],\n",
       "       [0.5],\n",
       "       [0.5],\n",
       "       [0.5],\n",
       "       [0.5],\n",
       "       [0.5],\n",
       "       [0.5],\n",
       "       [0.5],\n",
       "       [0.5],\n",
       "       [0.5],\n",
       "       [0.5],\n",
       "       [0.5],\n",
       "       [0.5],\n",
       "       [0.5],\n",
       "       [0.5],\n",
       "       [0.5],\n",
       "       [0.5],\n",
       "       [0.5],\n",
       "       [0.5],\n",
       "       [0.5],\n",
       "       [0.5],\n",
       "       [0.5],\n",
       "       [0.5],\n",
       "       [0.5],\n",
       "       [0.5],\n",
       "       [0.5],\n",
       "       [0.5],\n",
       "       [0.5],\n",
       "       [0.5],\n",
       "       [0.5],\n",
       "       [0.5],\n",
       "       [0.5],\n",
       "       [0.5],\n",
       "       [0.5],\n",
       "       [0.5],\n",
       "       [0.5],\n",
       "       [0.5],\n",
       "       [0.5],\n",
       "       [0.5],\n",
       "       [0.5],\n",
       "       [0.5],\n",
       "       [0.5],\n",
       "       [0.5],\n",
       "       [0.5],\n",
       "       [0.5],\n",
       "       [0.5],\n",
       "       [0.5],\n",
       "       [0.5],\n",
       "       [0.5],\n",
       "       [0.5],\n",
       "       [0.5],\n",
       "       [0.5],\n",
       "       [0.5],\n",
       "       [0.5],\n",
       "       [0.5],\n",
       "       [0.5],\n",
       "       [0.5],\n",
       "       [0.5],\n",
       "       [0.5],\n",
       "       [0.5],\n",
       "       [0.5],\n",
       "       [0.5],\n",
       "       [0.5],\n",
       "       [0.5],\n",
       "       [0.5],\n",
       "       [0.5],\n",
       "       [0.5],\n",
       "       [0.5],\n",
       "       [0.5],\n",
       "       [0.5],\n",
       "       [0.5],\n",
       "       [0.5],\n",
       "       [0.5],\n",
       "       [0.5],\n",
       "       [0.5],\n",
       "       [0.5],\n",
       "       [0.5],\n",
       "       [0.5],\n",
       "       [0.5],\n",
       "       [0.5],\n",
       "       [0.5],\n",
       "       [0.5],\n",
       "       [0.5],\n",
       "       [0.5],\n",
       "       [0.5],\n",
       "       [0.5],\n",
       "       [0.5],\n",
       "       [0.5],\n",
       "       [0.5],\n",
       "       [0.5],\n",
       "       [0.5],\n",
       "       [0.5],\n",
       "       [0.5],\n",
       "       [0.5],\n",
       "       [0.5],\n",
       "       [0.5],\n",
       "       [0.5],\n",
       "       [0.5],\n",
       "       [0.5],\n",
       "       [0.5],\n",
       "       [0.5],\n",
       "       [0.5],\n",
       "       [0.5],\n",
       "       [0.5],\n",
       "       [0.5],\n",
       "       [0.5],\n",
       "       [0.5],\n",
       "       [0.5],\n",
       "       [0.5],\n",
       "       [0.5],\n",
       "       [0.5],\n",
       "       [0.5],\n",
       "       [0.5],\n",
       "       [0.5],\n",
       "       [0.5],\n",
       "       [0.5],\n",
       "       [0.5],\n",
       "       [0.5],\n",
       "       [0.5],\n",
       "       [0.5],\n",
       "       [0.5],\n",
       "       [0.5],\n",
       "       [0.5],\n",
       "       [0.5],\n",
       "       [0.5],\n",
       "       [0.5],\n",
       "       [0.5],\n",
       "       [0.5],\n",
       "       [0.5],\n",
       "       [0.5],\n",
       "       [0.5],\n",
       "       [0.5],\n",
       "       [0.5],\n",
       "       [0.5],\n",
       "       [0.5],\n",
       "       [0.5],\n",
       "       [0.5],\n",
       "       [0.5],\n",
       "       [0.5],\n",
       "       [0.5],\n",
       "       [0.5],\n",
       "       [0.5],\n",
       "       [0.5],\n",
       "       [0.5],\n",
       "       [0.5],\n",
       "       [0.5],\n",
       "       [0.5],\n",
       "       [0.5],\n",
       "       [0.5],\n",
       "       [0.5],\n",
       "       [0.5],\n",
       "       [0.5],\n",
       "       [0.5],\n",
       "       [0.5],\n",
       "       [0.5],\n",
       "       [0.5],\n",
       "       [0.5],\n",
       "       [0.5],\n",
       "       [0.5],\n",
       "       [0.5],\n",
       "       [0.5],\n",
       "       [0.5],\n",
       "       [0.5],\n",
       "       [0.5],\n",
       "       [0.5],\n",
       "       [0.5],\n",
       "       [0.5],\n",
       "       [0.5],\n",
       "       [0.5],\n",
       "       [0.5],\n",
       "       [0.5],\n",
       "       [0.5],\n",
       "       [0.5],\n",
       "       [0.5],\n",
       "       [0.5],\n",
       "       [0.5],\n",
       "       [0.5],\n",
       "       [0.5],\n",
       "       [0.5],\n",
       "       [0.5],\n",
       "       [0.5],\n",
       "       [0.5],\n",
       "       [0.5],\n",
       "       [0.5],\n",
       "       [0.5],\n",
       "       [0.5],\n",
       "       [0.5],\n",
       "       [0.5],\n",
       "       [0.5],\n",
       "       [0.5],\n",
       "       [0.5],\n",
       "       [0.5],\n",
       "       [0.5],\n",
       "       [0.5],\n",
       "       [0.5],\n",
       "       [0.5],\n",
       "       [0.5],\n",
       "       [0.5],\n",
       "       [0.5],\n",
       "       [0.5],\n",
       "       [0.5],\n",
       "       [0.5],\n",
       "       [0.5],\n",
       "       [0.5],\n",
       "       [0.5],\n",
       "       [0.5],\n",
       "       [0.5],\n",
       "       [0.5],\n",
       "       [0.5],\n",
       "       [0.5],\n",
       "       [0.5],\n",
       "       [0.5],\n",
       "       [0.5],\n",
       "       [0.5],\n",
       "       [0.5],\n",
       "       [0.5],\n",
       "       [0.5],\n",
       "       [0.5],\n",
       "       [0.5],\n",
       "       [0.5],\n",
       "       [0.5],\n",
       "       [0.5],\n",
       "       [0.5],\n",
       "       [0.5],\n",
       "       [0.5],\n",
       "       [0.5],\n",
       "       [0.5],\n",
       "       [0.5],\n",
       "       [0.5],\n",
       "       [0.5],\n",
       "       [0.5],\n",
       "       [0.5],\n",
       "       [0.5],\n",
       "       [0.5],\n",
       "       [0.5],\n",
       "       [0.5],\n",
       "       [0.5],\n",
       "       [0.5],\n",
       "       [0.5],\n",
       "       [0.5],\n",
       "       [0.5],\n",
       "       [0.5],\n",
       "       [0.5],\n",
       "       [0.5],\n",
       "       [0.5],\n",
       "       [0.5],\n",
       "       [0.5],\n",
       "       [0.5],\n",
       "       [0.5],\n",
       "       [0.5],\n",
       "       [0.5],\n",
       "       [0.5],\n",
       "       [0.5],\n",
       "       [0.5],\n",
       "       [0.5],\n",
       "       [0.5],\n",
       "       [0.5],\n",
       "       [0.5],\n",
       "       [0.5],\n",
       "       [0.5],\n",
       "       [0.5],\n",
       "       [0.5],\n",
       "       [0.5],\n",
       "       [0.5],\n",
       "       [0.5],\n",
       "       [0.5],\n",
       "       [0.5],\n",
       "       [0.5],\n",
       "       [0.5],\n",
       "       [0.5],\n",
       "       [0.5],\n",
       "       [0.5],\n",
       "       [0.5],\n",
       "       [0.5],\n",
       "       [0.5],\n",
       "       [0.5],\n",
       "       [0.5],\n",
       "       [0.5],\n",
       "       [0.5],\n",
       "       [0.5],\n",
       "       [0.5],\n",
       "       [0.5],\n",
       "       [0.5],\n",
       "       [0.5],\n",
       "       [0.5],\n",
       "       [0.5],\n",
       "       [0.5],\n",
       "       [0.5],\n",
       "       [0.5],\n",
       "       [0.5],\n",
       "       [0.5],\n",
       "       [0.5],\n",
       "       [0.5],\n",
       "       [0.5],\n",
       "       [0.5],\n",
       "       [0.5],\n",
       "       [0.5],\n",
       "       [0.5],\n",
       "       [0.5],\n",
       "       [0.5],\n",
       "       [0.5],\n",
       "       [0.5],\n",
       "       [0.5],\n",
       "       [0.5],\n",
       "       [0.5],\n",
       "       [0.5],\n",
       "       [0.5],\n",
       "       [0.5],\n",
       "       [0.5],\n",
       "       [0.5],\n",
       "       [0.5],\n",
       "       [0.5],\n",
       "       [0.5],\n",
       "       [0.5],\n",
       "       [0.5],\n",
       "       [0.5],\n",
       "       [0.5],\n",
       "       [0.5],\n",
       "       [0.5],\n",
       "       [0.5],\n",
       "       [0.5],\n",
       "       [0.5],\n",
       "       [0.5],\n",
       "       [0.5],\n",
       "       [0.5],\n",
       "       [0.5],\n",
       "       [0.5],\n",
       "       [0.5],\n",
       "       [0.5],\n",
       "       [0.5],\n",
       "       [0.5],\n",
       "       [0.5],\n",
       "       [0.5],\n",
       "       [0.5],\n",
       "       [0.5],\n",
       "       [0.5],\n",
       "       [0.5],\n",
       "       [0.5],\n",
       "       [0.5],\n",
       "       [0.5],\n",
       "       [0.5],\n",
       "       [0.5],\n",
       "       [0.5],\n",
       "       [0.5],\n",
       "       [0.5],\n",
       "       [0.5],\n",
       "       [0.5],\n",
       "       [0.5],\n",
       "       [0.5],\n",
       "       [0.5],\n",
       "       [0.5],\n",
       "       [0.5],\n",
       "       [0.5],\n",
       "       [0.5],\n",
       "       [0.5],\n",
       "       [0.5],\n",
       "       [0.5],\n",
       "       [0.5],\n",
       "       [0.5],\n",
       "       [0.5],\n",
       "       [0.5],\n",
       "       [0.5],\n",
       "       [0.5],\n",
       "       [0.5],\n",
       "       [0.5],\n",
       "       [0.5],\n",
       "       [0.5],\n",
       "       [0.5],\n",
       "       [0.5],\n",
       "       [0.5],\n",
       "       [0.5],\n",
       "       [0.5],\n",
       "       [0.5],\n",
       "       [0.5],\n",
       "       [0.5],\n",
       "       [0.5],\n",
       "       [0.5],\n",
       "       [0.5],\n",
       "       [0.5],\n",
       "       [0.5],\n",
       "       [0.5],\n",
       "       [0.5],\n",
       "       [0.5],\n",
       "       [0.5],\n",
       "       [0.5],\n",
       "       [0.5],\n",
       "       [0.5],\n",
       "       [0.5],\n",
       "       [0.5],\n",
       "       [0.5],\n",
       "       [0.5],\n",
       "       [0.5],\n",
       "       [0.5],\n",
       "       [0.5],\n",
       "       [0.5],\n",
       "       [0.5],\n",
       "       [0.5],\n",
       "       [0.5],\n",
       "       [0.5],\n",
       "       [0.5],\n",
       "       [0.5],\n",
       "       [0.5],\n",
       "       [0.5],\n",
       "       [0.5],\n",
       "       [0.5],\n",
       "       [0.5],\n",
       "       [0.5],\n",
       "       [0.5],\n",
       "       [0.5],\n",
       "       [0.5],\n",
       "       [0.5],\n",
       "       [0.5],\n",
       "       [0.5],\n",
       "       [0.5],\n",
       "       [0.5],\n",
       "       [0.5],\n",
       "       [0.5],\n",
       "       [0.5],\n",
       "       [0.5],\n",
       "       [0.5],\n",
       "       [0.5],\n",
       "       [0.5],\n",
       "       [0.5],\n",
       "       [0.5],\n",
       "       [0.5],\n",
       "       [0.5],\n",
       "       [0.5],\n",
       "       [0.5],\n",
       "       [0.5],\n",
       "       [0.5],\n",
       "       [0.5],\n",
       "       [0.5],\n",
       "       [0.5],\n",
       "       [0.5],\n",
       "       [0.5],\n",
       "       [0.5],\n",
       "       [0.5],\n",
       "       [0.5],\n",
       "       [0.5],\n",
       "       [0.5],\n",
       "       [0.5],\n",
       "       [0.5],\n",
       "       [0.5],\n",
       "       [0.5],\n",
       "       [0.5],\n",
       "       [0.5],\n",
       "       [0.5],\n",
       "       [0.5],\n",
       "       [0.5],\n",
       "       [0.5],\n",
       "       [0.5],\n",
       "       [0.5],\n",
       "       [0.5],\n",
       "       [0.5],\n",
       "       [0.5],\n",
       "       [0.5],\n",
       "       [0.5],\n",
       "       [0.5],\n",
       "       [0.5],\n",
       "       [0.5],\n",
       "       [0.5],\n",
       "       [0.5],\n",
       "       [0.5],\n",
       "       [0.5],\n",
       "       [0.5],\n",
       "       [0.5],\n",
       "       [0.5],\n",
       "       [0.5],\n",
       "       [0.5],\n",
       "       [0.5],\n",
       "       [0.5],\n",
       "       [0.5],\n",
       "       [0.5],\n",
       "       [0.5],\n",
       "       [0.5],\n",
       "       [0.5],\n",
       "       [0.5],\n",
       "       [0.5],\n",
       "       [0.5],\n",
       "       [0.5],\n",
       "       [0.5],\n",
       "       [0.5],\n",
       "       [0.5],\n",
       "       [0.5],\n",
       "       [0.5],\n",
       "       [0.5],\n",
       "       [0.5],\n",
       "       [0.5],\n",
       "       [0.5],\n",
       "       [0.5],\n",
       "       [0.5],\n",
       "       [0.5],\n",
       "       [0.5],\n",
       "       [0.5],\n",
       "       [0.5],\n",
       "       [0.5],\n",
       "       [0.5],\n",
       "       [0.5],\n",
       "       [0.5],\n",
       "       [0.5],\n",
       "       [0.5],\n",
       "       [0.5],\n",
       "       [0.5],\n",
       "       [0.5],\n",
       "       [0.5],\n",
       "       [0.5],\n",
       "       [0.5],\n",
       "       [0.5],\n",
       "       [0.5],\n",
       "       [0.5],\n",
       "       [0.5],\n",
       "       [0.5],\n",
       "       [0.5],\n",
       "       [0.5],\n",
       "       [0.5],\n",
       "       [0.5],\n",
       "       [0.5],\n",
       "       [0.5],\n",
       "       [0.5],\n",
       "       [0.5]])"
      ]
     },
     "execution_count": 101,
     "metadata": {},
     "output_type": "execute_result"
    }
   ],
   "source": [
    "test_model.lamda_Q"
   ]
  },
  {
   "cell_type": "code",
   "execution_count": 100,
   "metadata": {},
   "outputs": [
    {
     "data": {
      "text/plain": [
       "array([15.00000004])"
      ]
     },
     "execution_count": 100,
     "metadata": {},
     "output_type": "execute_result"
    }
   ],
   "source": [
    "test_model.timer_state[926]"
   ]
  },
  {
   "cell_type": "code",
   "execution_count": 56,
   "metadata": {},
   "outputs": [
    {
     "data": {
      "image/png": "[encoded data removed]",
      "text/plain": [
       "<Figure size 1200x800 with 1 Axes>"
      ]
     },
     "metadata": {},
     "output_type": "display_data"
    },
    {
     "data": {
      "text/plain": [
       "(<Figure size 1200x800 with 1 Axes>,\n",
       " <AxesSubplot: xlabel='days', ylabel='number of individuals'>)"
      ]
     },
     "execution_count": 56,
     "metadata": {},
     "output_type": "execute_result"
    }
   ],
   "source": [
    "sim_correlated.model.figure_infections(plot_percentages=False)"
   ]
  },
  {
   "cell_type": "code",
   "execution_count": 57,
   "metadata": {},
   "outputs": [
    {
     "data": {
      "text/plain": [
       "array([0.00000000e+00, 1.00000000e-02, 2.00000000e-02, 3.00000000e-02,\n",
       "       4.00000000e-02, 5.00000000e-02, 6.00000000e-02, 7.00000000e-02,\n",
       "       8.00000000e-02, 9.00000000e-02, 1.00000000e-01, 1.10000000e-01,\n",
       "       1.20000000e-01, 1.30000000e-01, 1.40000000e-01, 1.50000000e-01,\n",
       "       1.60000000e-01, 1.70000000e-01, 1.80000000e-01, 1.90000000e-01,\n",
       "       2.00000000e-01, 2.10000000e-01, 2.20000000e-01, 2.30000000e-01,\n",
       "       2.40000000e-01, 2.50000000e-01, 2.60000000e-01, 2.70000000e-01,\n",
       "       2.80000000e-01, 2.90000000e-01, 3.00000000e-01, 3.10000000e-01,\n",
       "       3.20000000e-01, 3.30000000e-01, 3.40000000e-01, 3.50000000e-01,\n",
       "       3.60000000e-01, 3.70000000e-01, 3.80000000e-01, 3.90000000e-01,\n",
       "       4.00000000e-01, 4.10000000e-01, 4.20000000e-01, 4.30000000e-01,\n",
       "       4.40000000e-01, 4.50000000e-01, 4.60000000e-01, 4.70000000e-01,\n",
       "       4.80000000e-01, 4.90000000e-01, 5.00000000e-01, 5.10000000e-01,\n",
       "       5.20000000e-01, 5.30000000e-01, 5.40000000e-01, 5.50000000e-01,\n",
       "       5.60000000e-01, 5.70000000e-01, 5.80000000e-01, 5.90000000e-01,\n",
       "       6.00000000e-01, 6.10000000e-01, 6.20000000e-01, 6.30000000e-01,\n",
       "       6.40000000e-01, 6.50000000e-01, 6.60000000e-01, 6.70000000e-01,\n",
       "       6.80000000e-01, 6.90000000e-01, 7.00000000e-01, 7.10000000e-01,\n",
       "       7.20000000e-01, 7.30000000e-01, 7.40000000e-01, 7.50000000e-01,\n",
       "       7.60000000e-01, 7.70000000e-01, 7.80000000e-01, 7.90000000e-01,\n",
       "       8.00000000e-01, 8.10000000e-01, 8.20000000e-01, 8.30000000e-01,\n",
       "       8.40000000e-01, 8.50000000e-01, 8.60000000e-01, 8.70000000e-01,\n",
       "       8.80000000e-01, 8.90000000e-01, 9.00000000e-01, 9.10000000e-01,\n",
       "       9.20000000e-01, 9.30000000e-01, 9.40000000e-01, 9.50000000e-01,\n",
       "       9.60000000e-01, 9.70000000e-01, 9.80000000e-01, 9.90000000e-01,\n",
       "       1.00000000e+00, 1.01000000e+00, 1.02000000e+00, 1.03000000e+00,\n",
       "       1.04000000e+00, 1.05000000e+00, 1.06000000e+00, 1.07000000e+00,\n",
       "       1.08000000e+00, 1.09000000e+00, 1.10000000e+00, 1.11000000e+00,\n",
       "       1.12000000e+00, 1.13000000e+00, 1.14000000e+00, 1.15000000e+00,\n",
       "       1.16000000e+00, 1.17000000e+00, 1.18000000e+00, 1.19000000e+00,\n",
       "       1.20000000e+00, 1.21000000e+00, 1.22000000e+00, 1.23000000e+00,\n",
       "       1.24000000e+00, 1.25000000e+00, 1.26000000e+00, 1.27000000e+00,\n",
       "       1.28000000e+00, 1.29000000e+00, 1.30000000e+00, 1.31000000e+00,\n",
       "       1.32000000e+00, 1.33000000e+00, 1.34000000e+00, 1.35000000e+00,\n",
       "       1.36000000e+00, 1.37000000e+00, 1.38000000e+00, 1.39000000e+00,\n",
       "       1.40000000e+00, 1.41000000e+00, 1.42000000e+00, 1.43000000e+00,\n",
       "       1.44000000e+00, 1.45000000e+00, 1.46000000e+00, 1.47000000e+00,\n",
       "       1.48000000e+00, 1.49000000e+00, 1.50000000e+00, 1.51000000e+00,\n",
       "       1.52000000e+00, 1.53000000e+00, 1.54000000e+00, 1.55000000e+00,\n",
       "       1.56000000e+00, 1.57000000e+00, 1.58000000e+00, 1.59000000e+00,\n",
       "       1.60000000e+00, 1.61000000e+00, 1.62000000e+00, 1.63000000e+00,\n",
       "       1.64000000e+00, 1.65000000e+00, 1.66000000e+00, 1.67000000e+00,\n",
       "       1.68000000e+00, 1.69000000e+00, 1.70000000e+00, 1.71000000e+00,\n",
       "       1.72000000e+00, 1.73000000e+00, 1.74000000e+00, 1.75000000e+00,\n",
       "       1.76000000e+00, 1.77000000e+00, 1.78000000e+00, 1.79000000e+00,\n",
       "       1.80000000e+00, 1.81000000e+00, 1.82000000e+00, 1.83000000e+00,\n",
       "       1.84000000e+00, 1.85000000e+00, 1.86000000e+00, 1.87000000e+00,\n",
       "       1.88000000e+00, 1.89000000e+00, 1.90000000e+00, 1.91000000e+00,\n",
       "       1.92000000e+00, 1.93000000e+00, 1.94000000e+00, 1.95000000e+00,\n",
       "       1.96000000e+00, 1.97000000e+00, 1.98000000e+00, 1.99000000e+00,\n",
       "       2.00000000e+00, 2.01000000e+00, 2.02000000e+00, 2.03000000e+00,\n",
       "       2.04000000e+00, 2.05000000e+00, 2.06000000e+00, 2.07000000e+00,\n",
       "       2.08000000e+00, 2.09000000e+00, 2.10000000e+00, 2.11000000e+00,\n",
       "       2.12000000e+00, 2.13000000e+00, 2.14000000e+00, 2.15000000e+00,\n",
       "       2.16000000e+00, 2.17000000e+00, 2.18000000e+00, 2.19000000e+00,\n",
       "       2.20000000e+00, 2.21000000e+00, 2.22000000e+00, 2.23000000e+00,\n",
       "       2.24000000e+00, 2.25000000e+00, 2.26000000e+00, 2.27000000e+00,\n",
       "       2.28000000e+00, 2.29000000e+00, 2.30000000e+00, 2.31000000e+00,\n",
       "       2.32000000e+00, 2.33000000e+00, 2.34000000e+00, 2.35000000e+00,\n",
       "       2.36000000e+00, 2.37000000e+00, 2.38000000e+00, 2.39000000e+00,\n",
       "       2.40000000e+00, 2.41000000e+00, 2.42000000e+00, 2.43000000e+00,\n",
       "       2.44000000e+00, 2.45000000e+00, 2.46000000e+00, 2.47000000e+00,\n",
       "       2.48000000e+00, 2.49000000e+00, 2.50000000e+00, 2.51000000e+00,\n",
       "       2.52000000e+00, 2.53000000e+00, 2.54000000e+00, 2.55000000e+00,\n",
       "       2.56000000e+00, 2.57000000e+00, 2.58000000e+00, 2.59000000e+00,\n",
       "       2.60000000e+00, 2.61000000e+00, 2.62000000e+00, 2.63000000e+00,\n",
       "       2.64000000e+00, 2.65000000e+00, 2.66000000e+00, 2.67000000e+00,\n",
       "       2.68000000e+00, 2.69000000e+00, 2.70000000e+00, 2.71000000e+00,\n",
       "       2.72000000e+00, 2.73000000e+00, 2.74000000e+00, 2.75000000e+00,\n",
       "       2.76000000e+00, 2.77000000e+00, 2.78000000e+00, 2.79000000e+00,\n",
       "       2.80000000e+00, 2.81000000e+00, 2.82000000e+00, 2.83000000e+00,\n",
       "       2.84000000e+00, 2.85000000e+00, 2.86000000e+00, 2.87000000e+00,\n",
       "       2.88000000e+00, 2.89000000e+00, 2.90000000e+00, 2.91000000e+00,\n",
       "       2.92000000e+00, 2.93000000e+00, 2.94000000e+00, 2.95000000e+00,\n",
       "       2.96000000e+00, 2.97000000e+00, 2.98000000e+00, 2.99000000e+00,\n",
       "       3.00000000e+00, 3.01000000e+00, 3.02000000e+00, 3.03000000e+00,\n",
       "       3.04000000e+00, 3.05000000e+00, 3.06000000e+00, 3.07000000e+00,\n",
       "       3.08000000e+00, 3.09000000e+00, 3.10000000e+00, 3.11000000e+00,\n",
       "       3.12000000e+00, 3.13000000e+00, 3.14000000e+00, 3.15000000e+00,\n",
       "       3.16000000e+00, 3.17000000e+00, 3.18000000e+00, 3.19000000e+00,\n",
       "       3.20000000e+00, 3.21000000e+00, 3.22000000e+00, 3.23000000e+00,\n",
       "       3.24000000e+00, 3.25000000e+00, 3.26000000e+00, 3.27000000e+00,\n",
       "       3.28000000e+00, 3.29000000e+00, 3.30000000e+00, 3.31000000e+00,\n",
       "       3.32000000e+00, 3.33000000e+00, 3.34000000e+00, 3.35000000e+00,\n",
       "       3.36000000e+00, 3.37000000e+00, 3.38000000e+00, 3.39000000e+00,\n",
       "       3.40000000e+00, 3.41000000e+00, 3.42000000e+00, 3.43000000e+00,\n",
       "       3.44000000e+00, 3.45000000e+00, 3.46000000e+00, 3.47000000e+00,\n",
       "       3.48000000e+00, 3.49000000e+00, 3.50000000e+00, 3.51000000e+00,\n",
       "       3.52000000e+00, 3.53000000e+00, 3.54000000e+00, 3.55000000e+00,\n",
       "       3.56000000e+00, 3.57000000e+00, 3.58000000e+00, 3.59000000e+00,\n",
       "       3.60000000e+00, 3.61000000e+00, 3.62000000e+00, 3.63000000e+00,\n",
       "       3.64000000e+00, 3.65000000e+00, 3.66000000e+00, 3.67000000e+00,\n",
       "       3.68000000e+00, 3.69000000e+00, 3.70000000e+00, 3.71000000e+00,\n",
       "       3.72000000e+00, 3.73000000e+00, 3.74000000e+00, 3.75000000e+00,\n",
       "       3.76000000e+00, 3.77000000e+00, 3.78000000e+00, 3.79000000e+00,\n",
       "       3.80000000e+00, 3.81000000e+00, 3.82000000e+00, 3.83000000e+00,\n",
       "       3.84000000e+00, 3.85000000e+00, 3.86000000e+00, 3.87000000e+00,\n",
       "       3.88000000e+00, 3.89000000e+00, 3.90000000e+00, 3.91000000e+00,\n",
       "       3.92000000e+00, 3.93000000e+00, 3.94000000e+00, 3.95000000e+00,\n",
       "       3.96000000e+00, 3.97000000e+00, 3.98000000e+00, 3.99000000e+00,\n",
       "       4.00000000e+00, 4.01000000e+00, 4.02000000e+00, 4.03000000e+00,\n",
       "       4.04000000e+00, 4.05000000e+00, 4.06000000e+00, 4.07000000e+00,\n",
       "       4.08000000e+00, 4.09000000e+00, 4.10000000e+00, 4.11000000e+00,\n",
       "       4.12000000e+00, 4.13000000e+00, 4.14000000e+00, 4.15000000e+00,\n",
       "       4.16000000e+00, 4.17000000e+00, 4.18000000e+00, 4.19000000e+00,\n",
       "       4.20000000e+00, 4.21000000e+00, 4.22000000e+00, 4.23000000e+00,\n",
       "       4.24000000e+00, 4.25000000e+00, 4.26000000e+00, 4.27000000e+00,\n",
       "       4.28000000e+00, 4.29000000e+00, 4.30000000e+00, 4.31000000e+00,\n",
       "       4.32000000e+00, 4.33000000e+00, 4.34000000e+00, 4.35000000e+00,\n",
       "       4.36000000e+00, 4.37000000e+00, 4.38000000e+00, 4.39000000e+00,\n",
       "       4.40000000e+00, 4.41000000e+00, 4.42000000e+00, 4.43000000e+00,\n",
       "       4.44000000e+00, 4.45000000e+00, 4.46000000e+00, 4.47000000e+00,\n",
       "       4.48000000e+00, 4.49000000e+00, 4.50000000e+00, 4.51000000e+00,\n",
       "       4.52000000e+00, 4.53000000e+00, 4.54000000e+00, 4.55000000e+00,\n",
       "       4.56000000e+00, 4.57000000e+00, 4.58000000e+00, 4.59000000e+00,\n",
       "       4.60000000e+00, 4.61000000e+00, 4.62000000e+00, 4.63000000e+00,\n",
       "       4.64000000e+00, 4.65000000e+00, 4.66000000e+00, 4.67000000e+00,\n",
       "       4.68000000e+00, 4.69000000e+00, 4.70000000e+00, 4.71000000e+00,\n",
       "       4.72000000e+00, 4.73000000e+00, 4.74000000e+00, 4.75000000e+00,\n",
       "       4.76000000e+00, 4.77000000e+00, 4.78000000e+00, 4.79000000e+00,\n",
       "       4.80000000e+00, 4.81000000e+00, 4.82000000e+00, 4.83000000e+00,\n",
       "       4.84000000e+00, 4.85000000e+00, 4.86000000e+00, 4.87000000e+00,\n",
       "       4.88000000e+00, 4.89000000e+00, 4.90000000e+00, 4.91000000e+00,\n",
       "       4.92000000e+00, 4.93000000e+00, 4.94000000e+00, 4.95000000e+00,\n",
       "       4.96000000e+00, 4.97000000e+00, 4.98000000e+00, 4.99000000e+00,\n",
       "       5.00000000e+00, 5.01000000e+00, 5.01000212e+00, 5.01000212e+00,\n",
       "       5.01000212e+00, 5.01000212e+00, 5.01000212e+00, 5.01000213e+00,\n",
       "       3.50100078e+01])"
      ]
     },
     "execution_count": 57,
     "metadata": {},
     "output_type": "execute_result"
    }
   ],
   "source": [
    "sim_correlated.model.tseries"
   ]
  },
  {
   "cell_type": "code",
   "execution_count": null,
   "metadata": {},
   "outputs": [],
   "source": []
  }
 ],
 "metadata": {
  "kernelspec": {
   "display_name": "py39cp",
   "language": "python",
   "name": "python3"
  },
  "language_info": {
   "codemirror_mode": {
    "name": "ipython",
    "version": 3
   },
   "file_extension": ".py",
   "mimetype": "text/x-python",
   "name": "python",
   "nbconvert_exporter": "python",
   "pygments_lexer": "ipython3",
   "version": "3.9.16"
  },
  "orig_nbformat": 4
 },
 "nbformat": 4,
 "nbformat_minor": 2
}
