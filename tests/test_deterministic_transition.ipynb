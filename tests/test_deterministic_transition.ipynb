{
 "cells": [
  {
   "cell_type": "code",
   "execution_count": 1,
   "metadata": {},
   "outputs": [],
   "source": [
    "%load_ext autoreload\n",
    "%autoreload 2"
   ]
  },
  {
   "cell_type": "code",
   "execution_count": 2,
   "metadata": {},
   "outputs": [],
   "source": [
    "import warnings\n",
    "\n",
    "warnings.filterwarnings(\"ignore\")"
   ]
  },
  {
   "cell_type": "code",
   "execution_count": 3,
   "metadata": {},
   "outputs": [],
   "source": [
    "import matplotlib.pyplot as plt\n",
    "import random\n",
    "import numpy as np"
   ]
  },
  {
   "cell_type": "code",
   "execution_count": 11,
   "metadata": {},
   "outputs": [],
   "source": [
    "from seirsplus.networks import generate_demographic_contact_network, household_country_data\n",
    "from seirsplus.viral_model import ViralExtSEIRNetworkModel\n",
    "from seirsplus.sim_loops_pooled_test import SimulationRunner"
   ]
  },
  {
   "cell_type": "code",
   "execution_count": 56,
   "metadata": {},
   "outputs": [
    {
     "name": "stdout",
     "output_type": "stream",
     "text": [
      "Generated overall age distribution:\n",
      "0-9: 0.1140\t(-0.0070 from target)\n",
      "10-19: 0.1310\t(0.0000 from target)\n",
      "20-29: 0.1410\t(0.0040 from target)\n",
      "30-39: 0.1440\t(0.0110 from target)\n",
      "40-49: 0.1170\t(-0.0070 from target)\n",
      "50-59: 0.1290\t(-0.0020 from target)\n",
      "60-69: 0.1020\t(-0.0130 from target)\n",
      "70-79: 0.0720\t(0.0020 from target)\n",
      "80+: 0.0500\t(0.0120 from target)\n",
      "\n",
      "Generated household size distribution:\n",
      "1: 0.3259\t(0.0422 from target)\n",
      "2: 0.2988\t(-0.0463 from target)\n",
      "3: 0.1160\t(-0.0346 from target)\n",
      "4: 0.1481\t(0.0205 from target)\n",
      "5: 0.0691\t(0.0114 from target)\n",
      "6: 0.0346\t(0.0119 from target)\n",
      "7: 0.0074\t(-0.0051 from target)\n",
      "Num households: 405\n",
      "mean household size: 2.448393594\n",
      "\n",
      "Generating graph for 0-9...\n",
      "Generating graph for 10-19...\n",
      "Generating graph for 20-59...\n",
      "Generating graph for 60+...\n"
     ]
    }
   ],
   "source": [
    "random.seed(0)\n",
    "np.random.seed(0)\n",
    "\n",
    "N = 1000\n",
    "INIT_EXPOSED = int(N * 0.001)\n",
    "\n",
    "demographic_graphs, _, _ = generate_demographic_contact_network(\n",
    "    N=N, \n",
    "    demographic_data=household_country_data('US'),\n",
    "    distancing_scales=[0.7], \n",
    "    isolation_groups=[],\n",
    ")\n",
    "\n",
    "G = demographic_graphs['baseline']\n",
    "# assign higher weights to inter-household edges\n",
    "for e in G.edges():\n",
    "    if \"weight\" not in G[e[0]][e[1]]:\n",
    "        G[e[0]][e[1]][\"weight\"] = 10**10"
   ]
  },
  {
   "cell_type": "code",
   "execution_count": 57,
   "metadata": {},
   "outputs": [],
   "source": [
    "from seirsplus.viral_model import ViralExtSEIRNetworkModel\n",
    "\n",
    "test_model = ViralExtSEIRNetworkModel(\n",
    "    G = G,\n",
    "    beta = 0.5,\n",
    "    sigma = 0.2,\n",
    "    lamda = 0.5,\n",
    "    gamma  = 0.25,\n",
    "    seed = 0,\n",
    "    initE = INIT_EXPOSED,\n",
    "    transition_mode = \"time_in_state\",\n",
    ")"
   ]
  },
  {
   "cell_type": "code",
   "execution_count": 58,
   "metadata": {},
   "outputs": [
    {
     "name": "stdout",
     "output_type": "stream",
     "text": [
      "926\n"
     ]
    }
   ],
   "source": [
    "for i in range(1000):\n",
    "    if test_model.X[i] == test_model.E:\n",
    "        print(i)"
   ]
  },
  {
   "cell_type": "code",
   "execution_count": 59,
   "metadata": {},
   "outputs": [
    {
     "name": "stderr",
     "output_type": "stream",
     "text": [
      "Computing transition probabilities: 100%|██████████| 1000/1000 [00:06<00:00, 165.09it/s]\n",
      "Generating walks (CPU: 1): 100%|██████████| 10/10 [00:02<00:00,  4.03it/s]\n"
     ]
    },
    {
     "name": "stdout",
     "output_type": "stream",
     "text": [
      "Running simulation with seed 0 for strategy correlated...\n"
     ]
    }
   ],
   "source": [
    "sim_correlated = SimulationRunner(\n",
    "    model=test_model,\n",
    "    pooling_strategy='correlated',\n",
    "    T = 15,\n",
    "    num_groups = 10,\n",
    "    pool_size = 5,\n",
    "    seed = 0,\n",
    "    verbose=True,\n",
    "    save_results=False,\n",
    ")"
   ]
  },
  {
   "cell_type": "code",
   "execution_count": 60,
   "metadata": {},
   "outputs": [
    {
     "name": "stdout",
     "output_type": "stream",
     "text": [
      "    calling model.run_iteration(), time:  0 , propensities.sum():  0.0 , propensities of node 926:  [0. 0. 0. 0. 0. 0. 0. 0. 0. 0. 0. 0. 0. 0. 0. 0. 0. 0. 0. 0. 0. 0. 0.]\n",
      "Running screening for group 0 on day 0...\n"
     ]
    },
    {
     "name": "stderr",
     "output_type": "stream",
     "text": [
      "Computing transition probabilities: 100%|██████████| 100/100 [00:00<00:00, 1107.46it/s]\n",
      "Generating walks (CPU: 1): 100%|██████████| 10/10 [00:00<00:00, 48.64it/s]\n"
     ]
    },
    {
     "name": "stdout",
     "output_type": "stream",
     "text": [
      "Screening day:  0  self.model.t:  0.01\n",
      "    calling model.run_iteration(), time:  0.01 , propensities.sum():  0.0 , propensities of node 926:  [0. 0. 0. 0. 0. 0. 0. 0. 0. 0. 0. 0. 0. 0. 0. 0. 0. 0. 0. 0. 0. 0. 0.]\n",
      "    calling model.run_iteration(), time:  0.02 , propensities.sum():  0.0 , propensities of node 926:  [0. 0. 0. 0. 0. 0. 0. 0. 0. 0. 0. 0. 0. 0. 0. 0. 0. 0. 0. 0. 0. 0. 0.]\n",
      "    calling model.run_iteration(), time:  0.03 , propensities.sum():  0.0 , propensities of node 926:  [0. 0. 0. 0. 0. 0. 0. 0. 0. 0. 0. 0. 0. 0. 0. 0. 0. 0. 0. 0. 0. 0. 0.]\n",
      "    calling model.run_iteration(), time:  0.04 , propensities.sum():  0.0 , propensities of node 926:  [0. 0. 0. 0. 0. 0. 0. 0. 0. 0. 0. 0. 0. 0. 0. 0. 0. 0. 0. 0. 0. 0. 0.]\n",
      "    calling model.run_iteration(), time:  0.05 , propensities.sum():  0.0 , propensities of node 926:  [0. 0. 0. 0. 0. 0. 0. 0. 0. 0. 0. 0. 0. 0. 0. 0. 0. 0. 0. 0. 0. 0. 0.]\n",
      "    calling model.run_iteration(), time:  0.060000000000000005 , propensities.sum():  0.0 , propensities of node 926:  [0. 0. 0. 0. 0. 0. 0. 0. 0. 0. 0. 0. 0. 0. 0. 0. 0. 0. 0. 0. 0. 0. 0.]\n",
      "    calling model.run_iteration(), time:  0.07 , propensities.sum():  0.0 , propensities of node 926:  [0. 0. 0. 0. 0. 0. 0. 0. 0. 0. 0. 0. 0. 0. 0. 0. 0. 0. 0. 0. 0. 0. 0.]\n",
      "    calling model.run_iteration(), time:  0.08 , propensities.sum():  0.0 , propensities of node 926:  [0. 0. 0. 0. 0. 0. 0. 0. 0. 0. 0. 0. 0. 0. 0. 0. 0. 0. 0. 0. 0. 0. 0.]\n",
      "    calling model.run_iteration(), time:  0.09 , propensities.sum():  0.0 , propensities of node 926:  [0. 0. 0. 0. 0. 0. 0. 0. 0. 0. 0. 0. 0. 0. 0. 0. 0. 0. 0. 0. 0. 0. 0.]\n",
      "    calling model.run_iteration(), time:  0.09999999999999999 , propensities.sum():  0.0 , propensities of node 926:  [0. 0. 0. 0. 0. 0. 0. 0. 0. 0. 0. 0. 0. 0. 0. 0. 0. 0. 0. 0. 0. 0. 0.]\n",
      "    calling model.run_iteration(), time:  0.10999999999999999 , propensities.sum():  0.0 , propensities of node 926:  [0. 0. 0. 0. 0. 0. 0. 0. 0. 0. 0. 0. 0. 0. 0. 0. 0. 0. 0. 0. 0. 0. 0.]\n",
      "    calling model.run_iteration(), time:  0.11999999999999998 , propensities.sum():  0.0 , propensities of node 926:  [0. 0. 0. 0. 0. 0. 0. 0. 0. 0. 0. 0. 0. 0. 0. 0. 0. 0. 0. 0. 0. 0. 0.]\n",
      "    calling model.run_iteration(), time:  0.12999999999999998 , propensities.sum():  0.0 , propensities of node 926:  [0. 0. 0. 0. 0. 0. 0. 0. 0. 0. 0. 0. 0. 0. 0. 0. 0. 0. 0. 0. 0. 0. 0.]\n",
      "    calling model.run_iteration(), time:  0.13999999999999999 , propensities.sum():  0.0 , propensities of node 926:  [0. 0. 0. 0. 0. 0. 0. 0. 0. 0. 0. 0. 0. 0. 0. 0. 0. 0. 0. 0. 0. 0. 0.]\n",
      "    calling model.run_iteration(), time:  0.15 , propensities.sum():  0.0 , propensities of node 926:  [0. 0. 0. 0. 0. 0. 0. 0. 0. 0. 0. 0. 0. 0. 0. 0. 0. 0. 0. 0. 0. 0. 0.]\n",
      "    calling model.run_iteration(), time:  0.16 , propensities.sum():  0.0 , propensities of node 926:  [0. 0. 0. 0. 0. 0. 0. 0. 0. 0. 0. 0. 0. 0. 0. 0. 0. 0. 0. 0. 0. 0. 0.]\n",
      "    calling model.run_iteration(), time:  0.17 , propensities.sum():  0.0 , propensities of node 926:  [0. 0. 0. 0. 0. 0. 0. 0. 0. 0. 0. 0. 0. 0. 0. 0. 0. 0. 0. 0. 0. 0. 0.]\n",
      "    calling model.run_iteration(), time:  0.18000000000000002 , propensities.sum():  0.0 , propensities of node 926:  [0. 0. 0. 0. 0. 0. 0. 0. 0. 0. 0. 0. 0. 0. 0. 0. 0. 0. 0. 0. 0. 0. 0.]\n",
      "    calling model.run_iteration(), time:  0.19000000000000003 , propensities.sum():  0.0 , propensities of node 926:  [0. 0. 0. 0. 0. 0. 0. 0. 0. 0. 0. 0. 0. 0. 0. 0. 0. 0. 0. 0. 0. 0. 0.]\n",
      "    calling model.run_iteration(), time:  0.20000000000000004 , propensities.sum():  0.0 , propensities of node 926:  [0. 0. 0. 0. 0. 0. 0. 0. 0. 0. 0. 0. 0. 0. 0. 0. 0. 0. 0. 0. 0. 0. 0.]\n",
      "    calling model.run_iteration(), time:  0.21000000000000005 , propensities.sum():  0.0 , propensities of node 926:  [0. 0. 0. 0. 0. 0. 0. 0. 0. 0. 0. 0. 0. 0. 0. 0. 0. 0. 0. 0. 0. 0. 0.]\n",
      "    calling model.run_iteration(), time:  0.22000000000000006 , propensities.sum():  0.0 , propensities of node 926:  [0. 0. 0. 0. 0. 0. 0. 0. 0. 0. 0. 0. 0. 0. 0. 0. 0. 0. 0. 0. 0. 0. 0.]\n",
      "    calling model.run_iteration(), time:  0.23000000000000007 , propensities.sum():  0.0 , propensities of node 926:  [0. 0. 0. 0. 0. 0. 0. 0. 0. 0. 0. 0. 0. 0. 0. 0. 0. 0. 0. 0. 0. 0. 0.]\n",
      "    calling model.run_iteration(), time:  0.24000000000000007 , propensities.sum():  0.0 , propensities of node 926:  [0. 0. 0. 0. 0. 0. 0. 0. 0. 0. 0. 0. 0. 0. 0. 0. 0. 0. 0. 0. 0. 0. 0.]\n",
      "    calling model.run_iteration(), time:  0.25000000000000006 , propensities.sum():  0.0 , propensities of node 926:  [0. 0. 0. 0. 0. 0. 0. 0. 0. 0. 0. 0. 0. 0. 0. 0. 0. 0. 0. 0. 0. 0. 0.]\n",
      "    calling model.run_iteration(), time:  0.26000000000000006 , propensities.sum():  0.0 , propensities of node 926:  [0. 0. 0. 0. 0. 0. 0. 0. 0. 0. 0. 0. 0. 0. 0. 0. 0. 0. 0. 0. 0. 0. 0.]\n",
      "    calling model.run_iteration(), time:  0.2700000000000001 , propensities.sum():  0.0 , propensities of node 926:  [0. 0. 0. 0. 0. 0. 0. 0. 0. 0. 0. 0. 0. 0. 0. 0. 0. 0. 0. 0. 0. 0. 0.]\n",
      "    calling model.run_iteration(), time:  0.2800000000000001 , propensities.sum():  0.0 , propensities of node 926:  [0. 0. 0. 0. 0. 0. 0. 0. 0. 0. 0. 0. 0. 0. 0. 0. 0. 0. 0. 0. 0. 0. 0.]\n",
      "    calling model.run_iteration(), time:  0.2900000000000001 , propensities.sum():  0.0 , propensities of node 926:  [0. 0. 0. 0. 0. 0. 0. 0. 0. 0. 0. 0. 0. 0. 0. 0. 0. 0. 0. 0. 0. 0. 0.]\n",
      "    calling model.run_iteration(), time:  0.3000000000000001 , propensities.sum():  0.0 , propensities of node 926:  [0. 0. 0. 0. 0. 0. 0. 0. 0. 0. 0. 0. 0. 0. 0. 0. 0. 0. 0. 0. 0. 0. 0.]\n",
      "    calling model.run_iteration(), time:  0.3100000000000001 , propensities.sum():  0.0 , propensities of node 926:  [0. 0. 0. 0. 0. 0. 0. 0. 0. 0. 0. 0. 0. 0. 0. 0. 0. 0. 0. 0. 0. 0. 0.]\n",
      "    calling model.run_iteration(), time:  0.3200000000000001 , propensities.sum():  0.0 , propensities of node 926:  [0. 0. 0. 0. 0. 0. 0. 0. 0. 0. 0. 0. 0. 0. 0. 0. 0. 0. 0. 0. 0. 0. 0.]\n",
      "    calling model.run_iteration(), time:  0.3300000000000001 , propensities.sum():  0.0 , propensities of node 926:  [0. 0. 0. 0. 0. 0. 0. 0. 0. 0. 0. 0. 0. 0. 0. 0. 0. 0. 0. 0. 0. 0. 0.]\n",
      "    calling model.run_iteration(), time:  0.34000000000000014 , propensities.sum():  0.0 , propensities of node 926:  [0. 0. 0. 0. 0. 0. 0. 0. 0. 0. 0. 0. 0. 0. 0. 0. 0. 0. 0. 0. 0. 0. 0.]\n",
      "    calling model.run_iteration(), time:  0.35000000000000014 , propensities.sum():  0.0 , propensities of node 926:  [0. 0. 0. 0. 0. 0. 0. 0. 0. 0. 0. 0. 0. 0. 0. 0. 0. 0. 0. 0. 0. 0. 0.]\n",
      "    calling model.run_iteration(), time:  0.36000000000000015 , propensities.sum():  0.0 , propensities of node 926:  [0. 0. 0. 0. 0. 0. 0. 0. 0. 0. 0. 0. 0. 0. 0. 0. 0. 0. 0. 0. 0. 0. 0.]\n",
      "    calling model.run_iteration(), time:  0.37000000000000016 , propensities.sum():  0.0 , propensities of node 926:  [0. 0. 0. 0. 0. 0. 0. 0. 0. 0. 0. 0. 0. 0. 0. 0. 0. 0. 0. 0. 0. 0. 0.]\n",
      "    calling model.run_iteration(), time:  0.38000000000000017 , propensities.sum():  0.0 , propensities of node 926:  [0. 0. 0. 0. 0. 0. 0. 0. 0. 0. 0. 0. 0. 0. 0. 0. 0. 0. 0. 0. 0. 0. 0.]\n",
      "    calling model.run_iteration(), time:  0.3900000000000002 , propensities.sum():  0.0 , propensities of node 926:  [0. 0. 0. 0. 0. 0. 0. 0. 0. 0. 0. 0. 0. 0. 0. 0. 0. 0. 0. 0. 0. 0. 0.]\n",
      "    calling model.run_iteration(), time:  0.4000000000000002 , propensities.sum():  0.0 , propensities of node 926:  [0. 0. 0. 0. 0. 0. 0. 0. 0. 0. 0. 0. 0. 0. 0. 0. 0. 0. 0. 0. 0. 0. 0.]\n",
      "    calling model.run_iteration(), time:  0.4100000000000002 , propensities.sum():  0.0 , propensities of node 926:  [0. 0. 0. 0. 0. 0. 0. 0. 0. 0. 0. 0. 0. 0. 0. 0. 0. 0. 0. 0. 0. 0. 0.]\n",
      "    calling model.run_iteration(), time:  0.4200000000000002 , propensities.sum():  0.0 , propensities of node 926:  [0. 0. 0. 0. 0. 0. 0. 0. 0. 0. 0. 0. 0. 0. 0. 0. 0. 0. 0. 0. 0. 0. 0.]\n",
      "    calling model.run_iteration(), time:  0.4300000000000002 , propensities.sum():  0.0 , propensities of node 926:  [0. 0. 0. 0. 0. 0. 0. 0. 0. 0. 0. 0. 0. 0. 0. 0. 0. 0. 0. 0. 0. 0. 0.]\n",
      "    calling model.run_iteration(), time:  0.4400000000000002 , propensities.sum():  0.0 , propensities of node 926:  [0. 0. 0. 0. 0. 0. 0. 0. 0. 0. 0. 0. 0. 0. 0. 0. 0. 0. 0. 0. 0. 0. 0.]\n",
      "    calling model.run_iteration(), time:  0.45000000000000023 , propensities.sum():  0.0 , propensities of node 926:  [0. 0. 0. 0. 0. 0. 0. 0. 0. 0. 0. 0. 0. 0. 0. 0. 0. 0. 0. 0. 0. 0. 0.]\n",
      "    calling model.run_iteration(), time:  0.46000000000000024 , propensities.sum():  0.0 , propensities of node 926:  [0. 0. 0. 0. 0. 0. 0. 0. 0. 0. 0. 0. 0. 0. 0. 0. 0. 0. 0. 0. 0. 0. 0.]\n",
      "    calling model.run_iteration(), time:  0.47000000000000025 , propensities.sum():  0.0 , propensities of node 926:  [0. 0. 0. 0. 0. 0. 0. 0. 0. 0. 0. 0. 0. 0. 0. 0. 0. 0. 0. 0. 0. 0. 0.]\n",
      "    calling model.run_iteration(), time:  0.48000000000000026 , propensities.sum():  0.0 , propensities of node 926:  [0. 0. 0. 0. 0. 0. 0. 0. 0. 0. 0. 0. 0. 0. 0. 0. 0. 0. 0. 0. 0. 0. 0.]\n",
      "    calling model.run_iteration(), time:  0.49000000000000027 , propensities.sum():  0.0 , propensities of node 926:  [0. 0. 0. 0. 0. 0. 0. 0. 0. 0. 0. 0. 0. 0. 0. 0. 0. 0. 0. 0. 0. 0. 0.]\n",
      "    calling model.run_iteration(), time:  0.5000000000000002 , propensities.sum():  0.0 , propensities of node 926:  [0. 0. 0. 0. 0. 0. 0. 0. 0. 0. 0. 0. 0. 0. 0. 0. 0. 0. 0. 0. 0. 0. 0.]\n",
      "    calling model.run_iteration(), time:  0.5100000000000002 , propensities.sum():  0.0 , propensities of node 926:  [0. 0. 0. 0. 0. 0. 0. 0. 0. 0. 0. 0. 0. 0. 0. 0. 0. 0. 0. 0. 0. 0. 0.]\n",
      "    calling model.run_iteration(), time:  0.5200000000000002 , propensities.sum():  0.0 , propensities of node 926:  [0. 0. 0. 0. 0. 0. 0. 0. 0. 0. 0. 0. 0. 0. 0. 0. 0. 0. 0. 0. 0. 0. 0.]\n",
      "    calling model.run_iteration(), time:  0.5300000000000002 , propensities.sum():  0.0 , propensities of node 926:  [0. 0. 0. 0. 0. 0. 0. 0. 0. 0. 0. 0. 0. 0. 0. 0. 0. 0. 0. 0. 0. 0. 0.]\n",
      "    calling model.run_iteration(), time:  0.5400000000000003 , propensities.sum():  0.0 , propensities of node 926:  [0. 0. 0. 0. 0. 0. 0. 0. 0. 0. 0. 0. 0. 0. 0. 0. 0. 0. 0. 0. 0. 0. 0.]\n",
      "    calling model.run_iteration(), time:  0.5500000000000003 , propensities.sum():  0.0 , propensities of node 926:  [0. 0. 0. 0. 0. 0. 0. 0. 0. 0. 0. 0. 0. 0. 0. 0. 0. 0. 0. 0. 0. 0. 0.]\n",
      "    calling model.run_iteration(), time:  0.5600000000000003 , propensities.sum():  0.0 , propensities of node 926:  [0. 0. 0. 0. 0. 0. 0. 0. 0. 0. 0. 0. 0. 0. 0. 0. 0. 0. 0. 0. 0. 0. 0.]\n",
      "    calling model.run_iteration(), time:  0.5700000000000003 , propensities.sum():  0.0 , propensities of node 926:  [0. 0. 0. 0. 0. 0. 0. 0. 0. 0. 0. 0. 0. 0. 0. 0. 0. 0. 0. 0. 0. 0. 0.]\n",
      "    calling model.run_iteration(), time:  0.5800000000000003 , propensities.sum():  0.0 , propensities of node 926:  [0. 0. 0. 0. 0. 0. 0. 0. 0. 0. 0. 0. 0. 0. 0. 0. 0. 0. 0. 0. 0. 0. 0.]\n",
      "    calling model.run_iteration(), time:  0.5900000000000003 , propensities.sum():  0.0 , propensities of node 926:  [0. 0. 0. 0. 0. 0. 0. 0. 0. 0. 0. 0. 0. 0. 0. 0. 0. 0. 0. 0. 0. 0. 0.]\n",
      "    calling model.run_iteration(), time:  0.6000000000000003 , propensities.sum():  0.0 , propensities of node 926:  [0. 0. 0. 0. 0. 0. 0. 0. 0. 0. 0. 0. 0. 0. 0. 0. 0. 0. 0. 0. 0. 0. 0.]\n",
      "    calling model.run_iteration(), time:  0.6100000000000003 , propensities.sum():  0.0 , propensities of node 926:  [0. 0. 0. 0. 0. 0. 0. 0. 0. 0. 0. 0. 0. 0. 0. 0. 0. 0. 0. 0. 0. 0. 0.]\n",
      "    calling model.run_iteration(), time:  0.6200000000000003 , propensities.sum():  0.0 , propensities of node 926:  [0. 0. 0. 0. 0. 0. 0. 0. 0. 0. 0. 0. 0. 0. 0. 0. 0. 0. 0. 0. 0. 0. 0.]\n",
      "    calling model.run_iteration(), time:  0.6300000000000003 , propensities.sum():  0.0 , propensities of node 926:  [0. 0. 0. 0. 0. 0. 0. 0. 0. 0. 0. 0. 0. 0. 0. 0. 0. 0. 0. 0. 0. 0. 0.]\n",
      "    calling model.run_iteration(), time:  0.6400000000000003 , propensities.sum():  0.0 , propensities of node 926:  [0. 0. 0. 0. 0. 0. 0. 0. 0. 0. 0. 0. 0. 0. 0. 0. 0. 0. 0. 0. 0. 0. 0.]\n",
      "    calling model.run_iteration(), time:  0.6500000000000004 , propensities.sum():  0.0 , propensities of node 926:  [0. 0. 0. 0. 0. 0. 0. 0. 0. 0. 0. 0. 0. 0. 0. 0. 0. 0. 0. 0. 0. 0. 0.]\n",
      "    calling model.run_iteration(), time:  0.6600000000000004 , propensities.sum():  0.0 , propensities of node 926:  [0. 0. 0. 0. 0. 0. 0. 0. 0. 0. 0. 0. 0. 0. 0. 0. 0. 0. 0. 0. 0. 0. 0.]\n",
      "    calling model.run_iteration(), time:  0.6700000000000004 , propensities.sum():  0.0 , propensities of node 926:  [0. 0. 0. 0. 0. 0. 0. 0. 0. 0. 0. 0. 0. 0. 0. 0. 0. 0. 0. 0. 0. 0. 0.]\n",
      "    calling model.run_iteration(), time:  0.6800000000000004 , propensities.sum():  0.0 , propensities of node 926:  [0. 0. 0. 0. 0. 0. 0. 0. 0. 0. 0. 0. 0. 0. 0. 0. 0. 0. 0. 0. 0. 0. 0.]\n",
      "    calling model.run_iteration(), time:  0.6900000000000004 , propensities.sum():  0.0 , propensities of node 926:  [0. 0. 0. 0. 0. 0. 0. 0. 0. 0. 0. 0. 0. 0. 0. 0. 0. 0. 0. 0. 0. 0. 0.]\n",
      "    calling model.run_iteration(), time:  0.7000000000000004 , propensities.sum():  0.0 , propensities of node 926:  [0. 0. 0. 0. 0. 0. 0. 0. 0. 0. 0. 0. 0. 0. 0. 0. 0. 0. 0. 0. 0. 0. 0.]\n",
      "    calling model.run_iteration(), time:  0.7100000000000004 , propensities.sum():  0.0 , propensities of node 926:  [0. 0. 0. 0. 0. 0. 0. 0. 0. 0. 0. 0. 0. 0. 0. 0. 0. 0. 0. 0. 0. 0. 0.]\n",
      "    calling model.run_iteration(), time:  0.7200000000000004 , propensities.sum():  0.0 , propensities of node 926:  [0. 0. 0. 0. 0. 0. 0. 0. 0. 0. 0. 0. 0. 0. 0. 0. 0. 0. 0. 0. 0. 0. 0.]\n",
      "    calling model.run_iteration(), time:  0.7300000000000004 , propensities.sum():  0.0 , propensities of node 926:  [0. 0. 0. 0. 0. 0. 0. 0. 0. 0. 0. 0. 0. 0. 0. 0. 0. 0. 0. 0. 0. 0. 0.]\n",
      "    calling model.run_iteration(), time:  0.7400000000000004 , propensities.sum():  0.0 , propensities of node 926:  [0. 0. 0. 0. 0. 0. 0. 0. 0. 0. 0. 0. 0. 0. 0. 0. 0. 0. 0. 0. 0. 0. 0.]\n",
      "    calling model.run_iteration(), time:  0.7500000000000004 , propensities.sum():  0.0 , propensities of node 926:  [0. 0. 0. 0. 0. 0. 0. 0. 0. 0. 0. 0. 0. 0. 0. 0. 0. 0. 0. 0. 0. 0. 0.]\n",
      "    calling model.run_iteration(), time:  0.7600000000000005 , propensities.sum():  0.0 , propensities of node 926:  [0. 0. 0. 0. 0. 0. 0. 0. 0. 0. 0. 0. 0. 0. 0. 0. 0. 0. 0. 0. 0. 0. 0.]\n",
      "    calling model.run_iteration(), time:  0.7700000000000005 , propensities.sum():  0.0 , propensities of node 926:  [0. 0. 0. 0. 0. 0. 0. 0. 0. 0. 0. 0. 0. 0. 0. 0. 0. 0. 0. 0. 0. 0. 0.]\n",
      "    calling model.run_iteration(), time:  0.7800000000000005 , propensities.sum():  0.0 , propensities of node 926:  [0. 0. 0. 0. 0. 0. 0. 0. 0. 0. 0. 0. 0. 0. 0. 0. 0. 0. 0. 0. 0. 0. 0.]\n",
      "    calling model.run_iteration(), time:  0.7900000000000005 , propensities.sum():  0.0 , propensities of node 926:  [0. 0. 0. 0. 0. 0. 0. 0. 0. 0. 0. 0. 0. 0. 0. 0. 0. 0. 0. 0. 0. 0. 0.]\n",
      "    calling model.run_iteration(), time:  0.8000000000000005 , propensities.sum():  0.0 , propensities of node 926:  [0. 0. 0. 0. 0. 0. 0. 0. 0. 0. 0. 0. 0. 0. 0. 0. 0. 0. 0. 0. 0. 0. 0.]\n",
      "    calling model.run_iteration(), time:  0.8100000000000005 , propensities.sum():  0.0 , propensities of node 926:  [0. 0. 0. 0. 0. 0. 0. 0. 0. 0. 0. 0. 0. 0. 0. 0. 0. 0. 0. 0. 0. 0. 0.]\n",
      "    calling model.run_iteration(), time:  0.8200000000000005 , propensities.sum():  0.0 , propensities of node 926:  [0. 0. 0. 0. 0. 0. 0. 0. 0. 0. 0. 0. 0. 0. 0. 0. 0. 0. 0. 0. 0. 0. 0.]\n",
      "    calling model.run_iteration(), time:  0.8300000000000005 , propensities.sum():  0.0 , propensities of node 926:  [0. 0. 0. 0. 0. 0. 0. 0. 0. 0. 0. 0. 0. 0. 0. 0. 0. 0. 0. 0. 0. 0. 0.]\n",
      "    calling model.run_iteration(), time:  0.8400000000000005 , propensities.sum():  0.0 , propensities of node 926:  [0. 0. 0. 0. 0. 0. 0. 0. 0. 0. 0. 0. 0. 0. 0. 0. 0. 0. 0. 0. 0. 0. 0.]\n",
      "    calling model.run_iteration(), time:  0.8500000000000005 , propensities.sum():  0.0 , propensities of node 926:  [0. 0. 0. 0. 0. 0. 0. 0. 0. 0. 0. 0. 0. 0. 0. 0. 0. 0. 0. 0. 0. 0. 0.]\n",
      "    calling model.run_iteration(), time:  0.8600000000000005 , propensities.sum():  0.0 , propensities of node 926:  [0. 0. 0. 0. 0. 0. 0. 0. 0. 0. 0. 0. 0. 0. 0. 0. 0. 0. 0. 0. 0. 0. 0.]\n",
      "    calling model.run_iteration(), time:  0.8700000000000006 , propensities.sum():  0.0 , propensities of node 926:  [0. 0. 0. 0. 0. 0. 0. 0. 0. 0. 0. 0. 0. 0. 0. 0. 0. 0. 0. 0. 0. 0. 0.]\n",
      "    calling model.run_iteration(), time:  0.8800000000000006 , propensities.sum():  0.0 , propensities of node 926:  [0. 0. 0. 0. 0. 0. 0. 0. 0. 0. 0. 0. 0. 0. 0. 0. 0. 0. 0. 0. 0. 0. 0.]\n",
      "    calling model.run_iteration(), time:  0.8900000000000006 , propensities.sum():  0.0 , propensities of node 926:  [0. 0. 0. 0. 0. 0. 0. 0. 0. 0. 0. 0. 0. 0. 0. 0. 0. 0. 0. 0. 0. 0. 0.]\n",
      "    calling model.run_iteration(), time:  0.9000000000000006 , propensities.sum():  0.0 , propensities of node 926:  [0. 0. 0. 0. 0. 0. 0. 0. 0. 0. 0. 0. 0. 0. 0. 0. 0. 0. 0. 0. 0. 0. 0.]\n",
      "    calling model.run_iteration(), time:  0.9100000000000006 , propensities.sum():  0.0 , propensities of node 926:  [0. 0. 0. 0. 0. 0. 0. 0. 0. 0. 0. 0. 0. 0. 0. 0. 0. 0. 0. 0. 0. 0. 0.]\n",
      "    calling model.run_iteration(), time:  0.9200000000000006 , propensities.sum():  0.0 , propensities of node 926:  [0. 0. 0. 0. 0. 0. 0. 0. 0. 0. 0. 0. 0. 0. 0. 0. 0. 0. 0. 0. 0. 0. 0.]\n",
      "    calling model.run_iteration(), time:  0.9300000000000006 , propensities.sum():  0.0 , propensities of node 926:  [0. 0. 0. 0. 0. 0. 0. 0. 0. 0. 0. 0. 0. 0. 0. 0. 0. 0. 0. 0. 0. 0. 0.]\n",
      "    calling model.run_iteration(), time:  0.9400000000000006 , propensities.sum():  0.0 , propensities of node 926:  [0. 0. 0. 0. 0. 0. 0. 0. 0. 0. 0. 0. 0. 0. 0. 0. 0. 0. 0. 0. 0. 0. 0.]\n",
      "    calling model.run_iteration(), time:  0.9500000000000006 , propensities.sum():  0.0 , propensities of node 926:  [0. 0. 0. 0. 0. 0. 0. 0. 0. 0. 0. 0. 0. 0. 0. 0. 0. 0. 0. 0. 0. 0. 0.]\n",
      "    calling model.run_iteration(), time:  0.9600000000000006 , propensities.sum():  0.0 , propensities of node 926:  [0. 0. 0. 0. 0. 0. 0. 0. 0. 0. 0. 0. 0. 0. 0. 0. 0. 0. 0. 0. 0. 0. 0.]\n",
      "    calling model.run_iteration(), time:  0.9700000000000006 , propensities.sum():  0.0 , propensities of node 926:  [0. 0. 0. 0. 0. 0. 0. 0. 0. 0. 0. 0. 0. 0. 0. 0. 0. 0. 0. 0. 0. 0. 0.]\n",
      "    calling model.run_iteration(), time:  0.9800000000000006 , propensities.sum():  0.0 , propensities of node 926:  [0. 0. 0. 0. 0. 0. 0. 0. 0. 0. 0. 0. 0. 0. 0. 0. 0. 0. 0. 0. 0. 0. 0.]\n",
      "    calling model.run_iteration(), time:  0.9900000000000007 , propensities.sum():  0.0 , propensities of node 926:  [0. 0. 0. 0. 0. 0. 0. 0. 0. 0. 0. 0. 0. 0. 0. 0. 0. 0. 0. 0. 0. 0. 0.]\n",
      "Running screening for group 1 on day 1...\n"
     ]
    },
    {
     "name": "stderr",
     "output_type": "stream",
     "text": [
      "Computing transition probabilities: 100%|██████████| 100/100 [00:00<00:00, 2195.63it/s]\n",
      "Generating walks (CPU: 1): 100%|██████████| 10/10 [00:00<00:00, 74.74it/s]\n"
     ]
    },
    {
     "name": "stdout",
     "output_type": "stream",
     "text": [
      "Screening day:  1  self.model.t:  1.0000000000000007\n",
      "    calling model.run_iteration(), time:  1.0000000000000007 , propensities.sum():  0.0 , propensities of node 926:  [0. 0. 0. 0. 0. 0. 0. 0. 0. 0. 0. 0. 0. 0. 0. 0. 0. 0. 0. 0. 0. 0. 0.]\n",
      "    calling model.run_iteration(), time:  1.0100000000000007 , propensities.sum():  0.0 , propensities of node 926:  [0. 0. 0. 0. 0. 0. 0. 0. 0. 0. 0. 0. 0. 0. 0. 0. 0. 0. 0. 0. 0. 0. 0.]\n",
      "    calling model.run_iteration(), time:  1.0200000000000007 , propensities.sum():  0.0 , propensities of node 926:  [0. 0. 0. 0. 0. 0. 0. 0. 0. 0. 0. 0. 0. 0. 0. 0. 0. 0. 0. 0. 0. 0. 0.]\n",
      "    calling model.run_iteration(), time:  1.0300000000000007 , propensities.sum():  0.0 , propensities of node 926:  [0. 0. 0. 0. 0. 0. 0. 0. 0. 0. 0. 0. 0. 0. 0. 0. 0. 0. 0. 0. 0. 0. 0.]\n",
      "    calling model.run_iteration(), time:  1.0400000000000007 , propensities.sum():  0.0 , propensities of node 926:  [0. 0. 0. 0. 0. 0. 0. 0. 0. 0. 0. 0. 0. 0. 0. 0. 0. 0. 0. 0. 0. 0. 0.]\n",
      "    calling model.run_iteration(), time:  1.0500000000000007 , propensities.sum():  0.0 , propensities of node 926:  [0. 0. 0. 0. 0. 0. 0. 0. 0. 0. 0. 0. 0. 0. 0. 0. 0. 0. 0. 0. 0. 0. 0.]\n",
      "    calling model.run_iteration(), time:  1.0600000000000007 , propensities.sum():  0.0 , propensities of node 926:  [0. 0. 0. 0. 0. 0. 0. 0. 0. 0. 0. 0. 0. 0. 0. 0. 0. 0. 0. 0. 0. 0. 0.]\n",
      "    calling model.run_iteration(), time:  1.0700000000000007 , propensities.sum():  0.0 , propensities of node 926:  [0. 0. 0. 0. 0. 0. 0. 0. 0. 0. 0. 0. 0. 0. 0. 0. 0. 0. 0. 0. 0. 0. 0.]\n",
      "    calling model.run_iteration(), time:  1.0800000000000007 , propensities.sum():  0.0 , propensities of node 926:  [0. 0. 0. 0. 0. 0. 0. 0. 0. 0. 0. 0. 0. 0. 0. 0. 0. 0. 0. 0. 0. 0. 0.]\n",
      "    calling model.run_iteration(), time:  1.0900000000000007 , propensities.sum():  0.0 , propensities of node 926:  [0. 0. 0. 0. 0. 0. 0. 0. 0. 0. 0. 0. 0. 0. 0. 0. 0. 0. 0. 0. 0. 0. 0.]\n",
      "    calling model.run_iteration(), time:  1.1000000000000008 , propensities.sum():  0.0 , propensities of node 926:  [0. 0. 0. 0. 0. 0. 0. 0. 0. 0. 0. 0. 0. 0. 0. 0. 0. 0. 0. 0. 0. 0. 0.]\n",
      "    calling model.run_iteration(), time:  1.1100000000000008 , propensities.sum():  0.0 , propensities of node 926:  [0. 0. 0. 0. 0. 0. 0. 0. 0. 0. 0. 0. 0. 0. 0. 0. 0. 0. 0. 0. 0. 0. 0.]\n",
      "    calling model.run_iteration(), time:  1.1200000000000008 , propensities.sum():  0.0 , propensities of node 926:  [0. 0. 0. 0. 0. 0. 0. 0. 0. 0. 0. 0. 0. 0. 0. 0. 0. 0. 0. 0. 0. 0. 0.]\n",
      "    calling model.run_iteration(), time:  1.1300000000000008 , propensities.sum():  0.0 , propensities of node 926:  [0. 0. 0. 0. 0. 0. 0. 0. 0. 0. 0. 0. 0. 0. 0. 0. 0. 0. 0. 0. 0. 0. 0.]\n",
      "    calling model.run_iteration(), time:  1.1400000000000008 , propensities.sum():  0.0 , propensities of node 926:  [0. 0. 0. 0. 0. 0. 0. 0. 0. 0. 0. 0. 0. 0. 0. 0. 0. 0. 0. 0. 0. 0. 0.]\n",
      "    calling model.run_iteration(), time:  1.1500000000000008 , propensities.sum():  0.0 , propensities of node 926:  [0. 0. 0. 0. 0. 0. 0. 0. 0. 0. 0. 0. 0. 0. 0. 0. 0. 0. 0. 0. 0. 0. 0.]\n",
      "    calling model.run_iteration(), time:  1.1600000000000008 , propensities.sum():  0.0 , propensities of node 926:  [0. 0. 0. 0. 0. 0. 0. 0. 0. 0. 0. 0. 0. 0. 0. 0. 0. 0. 0. 0. 0. 0. 0.]\n",
      "    calling model.run_iteration(), time:  1.1700000000000008 , propensities.sum():  0.0 , propensities of node 926:  [0. 0. 0. 0. 0. 0. 0. 0. 0. 0. 0. 0. 0. 0. 0. 0. 0. 0. 0. 0. 0. 0. 0.]\n",
      "    calling model.run_iteration(), time:  1.1800000000000008 , propensities.sum():  0.0 , propensities of node 926:  [0. 0. 0. 0. 0. 0. 0. 0. 0. 0. 0. 0. 0. 0. 0. 0. 0. 0. 0. 0. 0. 0. 0.]\n",
      "    calling model.run_iteration(), time:  1.1900000000000008 , propensities.sum():  0.0 , propensities of node 926:  [0. 0. 0. 0. 0. 0. 0. 0. 0. 0. 0. 0. 0. 0. 0. 0. 0. 0. 0. 0. 0. 0. 0.]\n",
      "    calling model.run_iteration(), time:  1.2000000000000008 , propensities.sum():  0.0 , propensities of node 926:  [0. 0. 0. 0. 0. 0. 0. 0. 0. 0. 0. 0. 0. 0. 0. 0. 0. 0. 0. 0. 0. 0. 0.]\n",
      "    calling model.run_iteration(), time:  1.2100000000000009 , propensities.sum():  0.0 , propensities of node 926:  [0. 0. 0. 0. 0. 0. 0. 0. 0. 0. 0. 0. 0. 0. 0. 0. 0. 0. 0. 0. 0. 0. 0.]\n",
      "    calling model.run_iteration(), time:  1.2200000000000009 , propensities.sum():  0.0 , propensities of node 926:  [0. 0. 0. 0. 0. 0. 0. 0. 0. 0. 0. 0. 0. 0. 0. 0. 0. 0. 0. 0. 0. 0. 0.]\n",
      "    calling model.run_iteration(), time:  1.2300000000000009 , propensities.sum():  0.0 , propensities of node 926:  [0. 0. 0. 0. 0. 0. 0. 0. 0. 0. 0. 0. 0. 0. 0. 0. 0. 0. 0. 0. 0. 0. 0.]\n",
      "    calling model.run_iteration(), time:  1.2400000000000009 , propensities.sum():  0.0 , propensities of node 926:  [0. 0. 0. 0. 0. 0. 0. 0. 0. 0. 0. 0. 0. 0. 0. 0. 0. 0. 0. 0. 0. 0. 0.]\n",
      "    calling model.run_iteration(), time:  1.2500000000000009 , propensities.sum():  0.0 , propensities of node 926:  [0. 0. 0. 0. 0. 0. 0. 0. 0. 0. 0. 0. 0. 0. 0. 0. 0. 0. 0. 0. 0. 0. 0.]\n",
      "    calling model.run_iteration(), time:  1.260000000000001 , propensities.sum():  0.0 , propensities of node 926:  [0. 0. 0. 0. 0. 0. 0. 0. 0. 0. 0. 0. 0. 0. 0. 0. 0. 0. 0. 0. 0. 0. 0.]\n",
      "    calling model.run_iteration(), time:  1.270000000000001 , propensities.sum():  0.0 , propensities of node 926:  [0. 0. 0. 0. 0. 0. 0. 0. 0. 0. 0. 0. 0. 0. 0. 0. 0. 0. 0. 0. 0. 0. 0.]\n",
      "    calling model.run_iteration(), time:  1.280000000000001 , propensities.sum():  0.0 , propensities of node 926:  [0. 0. 0. 0. 0. 0. 0. 0. 0. 0. 0. 0. 0. 0. 0. 0. 0. 0. 0. 0. 0. 0. 0.]\n",
      "    calling model.run_iteration(), time:  1.290000000000001 , propensities.sum():  0.0 , propensities of node 926:  [0. 0. 0. 0. 0. 0. 0. 0. 0. 0. 0. 0. 0. 0. 0. 0. 0. 0. 0. 0. 0. 0. 0.]\n",
      "    calling model.run_iteration(), time:  1.300000000000001 , propensities.sum():  0.0 , propensities of node 926:  [0. 0. 0. 0. 0. 0. 0. 0. 0. 0. 0. 0. 0. 0. 0. 0. 0. 0. 0. 0. 0. 0. 0.]\n",
      "    calling model.run_iteration(), time:  1.310000000000001 , propensities.sum():  0.0 , propensities of node 926:  [0. 0. 0. 0. 0. 0. 0. 0. 0. 0. 0. 0. 0. 0. 0. 0. 0. 0. 0. 0. 0. 0. 0.]\n",
      "    calling model.run_iteration(), time:  1.320000000000001 , propensities.sum():  0.0 , propensities of node 926:  [0. 0. 0. 0. 0. 0. 0. 0. 0. 0. 0. 0. 0. 0. 0. 0. 0. 0. 0. 0. 0. 0. 0.]\n",
      "    calling model.run_iteration(), time:  1.330000000000001 , propensities.sum():  0.0 , propensities of node 926:  [0. 0. 0. 0. 0. 0. 0. 0. 0. 0. 0. 0. 0. 0. 0. 0. 0. 0. 0. 0. 0. 0. 0.]\n",
      "    calling model.run_iteration(), time:  1.340000000000001 , propensities.sum():  0.0 , propensities of node 926:  [0. 0. 0. 0. 0. 0. 0. 0. 0. 0. 0. 0. 0. 0. 0. 0. 0. 0. 0. 0. 0. 0. 0.]\n",
      "    calling model.run_iteration(), time:  1.350000000000001 , propensities.sum():  0.0 , propensities of node 926:  [0. 0. 0. 0. 0. 0. 0. 0. 0. 0. 0. 0. 0. 0. 0. 0. 0. 0. 0. 0. 0. 0. 0.]\n",
      "    calling model.run_iteration(), time:  1.360000000000001 , propensities.sum():  0.0 , propensities of node 926:  [0. 0. 0. 0. 0. 0. 0. 0. 0. 0. 0. 0. 0. 0. 0. 0. 0. 0. 0. 0. 0. 0. 0.]\n",
      "    calling model.run_iteration(), time:  1.370000000000001 , propensities.sum():  0.0 , propensities of node 926:  [0. 0. 0. 0. 0. 0. 0. 0. 0. 0. 0. 0. 0. 0. 0. 0. 0. 0. 0. 0. 0. 0. 0.]\n",
      "    calling model.run_iteration(), time:  1.380000000000001 , propensities.sum():  0.0 , propensities of node 926:  [0. 0. 0. 0. 0. 0. 0. 0. 0. 0. 0. 0. 0. 0. 0. 0. 0. 0. 0. 0. 0. 0. 0.]\n",
      "    calling model.run_iteration(), time:  1.390000000000001 , propensities.sum():  0.0 , propensities of node 926:  [0. 0. 0. 0. 0. 0. 0. 0. 0. 0. 0. 0. 0. 0. 0. 0. 0. 0. 0. 0. 0. 0. 0.]\n",
      "    calling model.run_iteration(), time:  1.400000000000001 , propensities.sum():  0.0 , propensities of node 926:  [0. 0. 0. 0. 0. 0. 0. 0. 0. 0. 0. 0. 0. 0. 0. 0. 0. 0. 0. 0. 0. 0. 0.]\n",
      "    calling model.run_iteration(), time:  1.410000000000001 , propensities.sum():  0.0 , propensities of node 926:  [0. 0. 0. 0. 0. 0. 0. 0. 0. 0. 0. 0. 0. 0. 0. 0. 0. 0. 0. 0. 0. 0. 0.]\n",
      "    calling model.run_iteration(), time:  1.420000000000001 , propensities.sum():  0.0 , propensities of node 926:  [0. 0. 0. 0. 0. 0. 0. 0. 0. 0. 0. 0. 0. 0. 0. 0. 0. 0. 0. 0. 0. 0. 0.]\n",
      "    calling model.run_iteration(), time:  1.430000000000001 , propensities.sum():  0.0 , propensities of node 926:  [0. 0. 0. 0. 0. 0. 0. 0. 0. 0. 0. 0. 0. 0. 0. 0. 0. 0. 0. 0. 0. 0. 0.]\n",
      "    calling model.run_iteration(), time:  1.440000000000001 , propensities.sum():  0.0 , propensities of node 926:  [0. 0. 0. 0. 0. 0. 0. 0. 0. 0. 0. 0. 0. 0. 0. 0. 0. 0. 0. 0. 0. 0. 0.]\n",
      "    calling model.run_iteration(), time:  1.450000000000001 , propensities.sum():  0.0 , propensities of node 926:  [0. 0. 0. 0. 0. 0. 0. 0. 0. 0. 0. 0. 0. 0. 0. 0. 0. 0. 0. 0. 0. 0. 0.]\n",
      "    calling model.run_iteration(), time:  1.460000000000001 , propensities.sum():  0.0 , propensities of node 926:  [0. 0. 0. 0. 0. 0. 0. 0. 0. 0. 0. 0. 0. 0. 0. 0. 0. 0. 0. 0. 0. 0. 0.]\n",
      "    calling model.run_iteration(), time:  1.470000000000001 , propensities.sum():  0.0 , propensities of node 926:  [0. 0. 0. 0. 0. 0. 0. 0. 0. 0. 0. 0. 0. 0. 0. 0. 0. 0. 0. 0. 0. 0. 0.]\n",
      "    calling model.run_iteration(), time:  1.480000000000001 , propensities.sum():  0.0 , propensities of node 926:  [0. 0. 0. 0. 0. 0. 0. 0. 0. 0. 0. 0. 0. 0. 0. 0. 0. 0. 0. 0. 0. 0. 0.]\n",
      "    calling model.run_iteration(), time:  1.490000000000001 , propensities.sum():  0.0 , propensities of node 926:  [0. 0. 0. 0. 0. 0. 0. 0. 0. 0. 0. 0. 0. 0. 0. 0. 0. 0. 0. 0. 0. 0. 0.]\n",
      "    calling model.run_iteration(), time:  1.500000000000001 , propensities.sum():  0.0 , propensities of node 926:  [0. 0. 0. 0. 0. 0. 0. 0. 0. 0. 0. 0. 0. 0. 0. 0. 0. 0. 0. 0. 0. 0. 0.]\n",
      "    calling model.run_iteration(), time:  1.5100000000000011 , propensities.sum():  0.0 , propensities of node 926:  [0. 0. 0. 0. 0. 0. 0. 0. 0. 0. 0. 0. 0. 0. 0. 0. 0. 0. 0. 0. 0. 0. 0.]\n",
      "    calling model.run_iteration(), time:  1.5200000000000011 , propensities.sum():  0.0 , propensities of node 926:  [0. 0. 0. 0. 0. 0. 0. 0. 0. 0. 0. 0. 0. 0. 0. 0. 0. 0. 0. 0. 0. 0. 0.]\n",
      "    calling model.run_iteration(), time:  1.5300000000000011 , propensities.sum():  0.0 , propensities of node 926:  [0. 0. 0. 0. 0. 0. 0. 0. 0. 0. 0. 0. 0. 0. 0. 0. 0. 0. 0. 0. 0. 0. 0.]\n",
      "    calling model.run_iteration(), time:  1.5400000000000011 , propensities.sum():  0.0 , propensities of node 926:  [0. 0. 0. 0. 0. 0. 0. 0. 0. 0. 0. 0. 0. 0. 0. 0. 0. 0. 0. 0. 0. 0. 0.]\n",
      "    calling model.run_iteration(), time:  1.5500000000000012 , propensities.sum():  0.0 , propensities of node 926:  [0. 0. 0. 0. 0. 0. 0. 0. 0. 0. 0. 0. 0. 0. 0. 0. 0. 0. 0. 0. 0. 0. 0.]\n",
      "    calling model.run_iteration(), time:  1.5600000000000012 , propensities.sum():  0.0 , propensities of node 926:  [0. 0. 0. 0. 0. 0. 0. 0. 0. 0. 0. 0. 0. 0. 0. 0. 0. 0. 0. 0. 0. 0. 0.]\n",
      "    calling model.run_iteration(), time:  1.5700000000000012 , propensities.sum():  0.0 , propensities of node 926:  [0. 0. 0. 0. 0. 0. 0. 0. 0. 0. 0. 0. 0. 0. 0. 0. 0. 0. 0. 0. 0. 0. 0.]\n",
      "    calling model.run_iteration(), time:  1.5800000000000012 , propensities.sum():  0.0 , propensities of node 926:  [0. 0. 0. 0. 0. 0. 0. 0. 0. 0. 0. 0. 0. 0. 0. 0. 0. 0. 0. 0. 0. 0. 0.]\n",
      "    calling model.run_iteration(), time:  1.5900000000000012 , propensities.sum():  0.0 , propensities of node 926:  [0. 0. 0. 0. 0. 0. 0. 0. 0. 0. 0. 0. 0. 0. 0. 0. 0. 0. 0. 0. 0. 0. 0.]\n",
      "    calling model.run_iteration(), time:  1.6000000000000012 , propensities.sum():  0.0 , propensities of node 926:  [0. 0. 0. 0. 0. 0. 0. 0. 0. 0. 0. 0. 0. 0. 0. 0. 0. 0. 0. 0. 0. 0. 0.]\n",
      "    calling model.run_iteration(), time:  1.6100000000000012 , propensities.sum():  0.0 , propensities of node 926:  [0. 0. 0. 0. 0. 0. 0. 0. 0. 0. 0. 0. 0. 0. 0. 0. 0. 0. 0. 0. 0. 0. 0.]\n",
      "    calling model.run_iteration(), time:  1.6200000000000012 , propensities.sum():  0.0 , propensities of node 926:  [0. 0. 0. 0. 0. 0. 0. 0. 0. 0. 0. 0. 0. 0. 0. 0. 0. 0. 0. 0. 0. 0. 0.]\n",
      "    calling model.run_iteration(), time:  1.6300000000000012 , propensities.sum():  0.0 , propensities of node 926:  [0. 0. 0. 0. 0. 0. 0. 0. 0. 0. 0. 0. 0. 0. 0. 0. 0. 0. 0. 0. 0. 0. 0.]\n",
      "    calling model.run_iteration(), time:  1.6400000000000012 , propensities.sum():  0.0 , propensities of node 926:  [0. 0. 0. 0. 0. 0. 0. 0. 0. 0. 0. 0. 0. 0. 0. 0. 0. 0. 0. 0. 0. 0. 0.]\n",
      "    calling model.run_iteration(), time:  1.6500000000000012 , propensities.sum():  0.0 , propensities of node 926:  [0. 0. 0. 0. 0. 0. 0. 0. 0. 0. 0. 0. 0. 0. 0. 0. 0. 0. 0. 0. 0. 0. 0.]\n",
      "    calling model.run_iteration(), time:  1.6600000000000013 , propensities.sum():  0.0 , propensities of node 926:  [0. 0. 0. 0. 0. 0. 0. 0. 0. 0. 0. 0. 0. 0. 0. 0. 0. 0. 0. 0. 0. 0. 0.]\n",
      "    calling model.run_iteration(), time:  1.6700000000000013 , propensities.sum():  0.0 , propensities of node 926:  [0. 0. 0. 0. 0. 0. 0. 0. 0. 0. 0. 0. 0. 0. 0. 0. 0. 0. 0. 0. 0. 0. 0.]\n",
      "    calling model.run_iteration(), time:  1.6800000000000013 , propensities.sum():  0.0 , propensities of node 926:  [0. 0. 0. 0. 0. 0. 0. 0. 0. 0. 0. 0. 0. 0. 0. 0. 0. 0. 0. 0. 0. 0. 0.]\n",
      "    calling model.run_iteration(), time:  1.6900000000000013 , propensities.sum():  0.0 , propensities of node 926:  [0. 0. 0. 0. 0. 0. 0. 0. 0. 0. 0. 0. 0. 0. 0. 0. 0. 0. 0. 0. 0. 0. 0.]\n",
      "    calling model.run_iteration(), time:  1.7000000000000013 , propensities.sum():  0.0 , propensities of node 926:  [0. 0. 0. 0. 0. 0. 0. 0. 0. 0. 0. 0. 0. 0. 0. 0. 0. 0. 0. 0. 0. 0. 0.]\n",
      "    calling model.run_iteration(), time:  1.7100000000000013 , propensities.sum():  0.0 , propensities of node 926:  [0. 0. 0. 0. 0. 0. 0. 0. 0. 0. 0. 0. 0. 0. 0. 0. 0. 0. 0. 0. 0. 0. 0.]\n",
      "    calling model.run_iteration(), time:  1.7200000000000013 , propensities.sum():  0.0 , propensities of node 926:  [0. 0. 0. 0. 0. 0. 0. 0. 0. 0. 0. 0. 0. 0. 0. 0. 0. 0. 0. 0. 0. 0. 0.]\n",
      "    calling model.run_iteration(), time:  1.7300000000000013 , propensities.sum():  0.0 , propensities of node 926:  [0. 0. 0. 0. 0. 0. 0. 0. 0. 0. 0. 0. 0. 0. 0. 0. 0. 0. 0. 0. 0. 0. 0.]\n",
      "    calling model.run_iteration(), time:  1.7400000000000013 , propensities.sum():  0.0 , propensities of node 926:  [0. 0. 0. 0. 0. 0. 0. 0. 0. 0. 0. 0. 0. 0. 0. 0. 0. 0. 0. 0. 0. 0. 0.]\n",
      "    calling model.run_iteration(), time:  1.7500000000000013 , propensities.sum():  0.0 , propensities of node 926:  [0. 0. 0. 0. 0. 0. 0. 0. 0. 0. 0. 0. 0. 0. 0. 0. 0. 0. 0. 0. 0. 0. 0.]\n",
      "    calling model.run_iteration(), time:  1.7600000000000013 , propensities.sum():  0.0 , propensities of node 926:  [0. 0. 0. 0. 0. 0. 0. 0. 0. 0. 0. 0. 0. 0. 0. 0. 0. 0. 0. 0. 0. 0. 0.]\n",
      "    calling model.run_iteration(), time:  1.7700000000000014 , propensities.sum():  0.0 , propensities of node 926:  [0. 0. 0. 0. 0. 0. 0. 0. 0. 0. 0. 0. 0. 0. 0. 0. 0. 0. 0. 0. 0. 0. 0.]\n",
      "    calling model.run_iteration(), time:  1.7800000000000014 , propensities.sum():  0.0 , propensities of node 926:  [0. 0. 0. 0. 0. 0. 0. 0. 0. 0. 0. 0. 0. 0. 0. 0. 0. 0. 0. 0. 0. 0. 0.]\n",
      "    calling model.run_iteration(), time:  1.7900000000000014 , propensities.sum():  0.0 , propensities of node 926:  [0. 0. 0. 0. 0. 0. 0. 0. 0. 0. 0. 0. 0. 0. 0. 0. 0. 0. 0. 0. 0. 0. 0.]\n",
      "    calling model.run_iteration(), time:  1.8000000000000014 , propensities.sum():  0.0 , propensities of node 926:  [0. 0. 0. 0. 0. 0. 0. 0. 0. 0. 0. 0. 0. 0. 0. 0. 0. 0. 0. 0. 0. 0. 0.]\n",
      "    calling model.run_iteration(), time:  1.8100000000000014 , propensities.sum():  0.0 , propensities of node 926:  [0. 0. 0. 0. 0. 0. 0. 0. 0. 0. 0. 0. 0. 0. 0. 0. 0. 0. 0. 0. 0. 0. 0.]\n",
      "    calling model.run_iteration(), time:  1.8200000000000014 , propensities.sum():  0.0 , propensities of node 926:  [0. 0. 0. 0. 0. 0. 0. 0. 0. 0. 0. 0. 0. 0. 0. 0. 0. 0. 0. 0. 0. 0. 0.]\n",
      "    calling model.run_iteration(), time:  1.8300000000000014 , propensities.sum():  0.0 , propensities of node 926:  [0. 0. 0. 0. 0. 0. 0. 0. 0. 0. 0. 0. 0. 0. 0. 0. 0. 0. 0. 0. 0. 0. 0.]\n",
      "    calling model.run_iteration(), time:  1.8400000000000014 , propensities.sum():  0.0 , propensities of node 926:  [0. 0. 0. 0. 0. 0. 0. 0. 0. 0. 0. 0. 0. 0. 0. 0. 0. 0. 0. 0. 0. 0. 0.]\n",
      "    calling model.run_iteration(), time:  1.8500000000000014 , propensities.sum():  0.0 , propensities of node 926:  [0. 0. 0. 0. 0. 0. 0. 0. 0. 0. 0. 0. 0. 0. 0. 0. 0. 0. 0. 0. 0. 0. 0.]\n",
      "    calling model.run_iteration(), time:  1.8600000000000014 , propensities.sum():  0.0 , propensities of node 926:  [0. 0. 0. 0. 0. 0. 0. 0. 0. 0. 0. 0. 0. 0. 0. 0. 0. 0. 0. 0. 0. 0. 0.]\n",
      "    calling model.run_iteration(), time:  1.8700000000000014 , propensities.sum():  0.0 , propensities of node 926:  [0. 0. 0. 0. 0. 0. 0. 0. 0. 0. 0. 0. 0. 0. 0. 0. 0. 0. 0. 0. 0. 0. 0.]\n",
      "    calling model.run_iteration(), time:  1.8800000000000014 , propensities.sum():  0.0 , propensities of node 926:  [0. 0. 0. 0. 0. 0. 0. 0. 0. 0. 0. 0. 0. 0. 0. 0. 0. 0. 0. 0. 0. 0. 0.]\n",
      "    calling model.run_iteration(), time:  1.8900000000000015 , propensities.sum():  0.0 , propensities of node 926:  [0. 0. 0. 0. 0. 0. 0. 0. 0. 0. 0. 0. 0. 0. 0. 0. 0. 0. 0. 0. 0. 0. 0.]\n",
      "    calling model.run_iteration(), time:  1.9000000000000015 , propensities.sum():  0.0 , propensities of node 926:  [0. 0. 0. 0. 0. 0. 0. 0. 0. 0. 0. 0. 0. 0. 0. 0. 0. 0. 0. 0. 0. 0. 0.]\n",
      "    calling model.run_iteration(), time:  1.9100000000000015 , propensities.sum():  0.0 , propensities of node 926:  [0. 0. 0. 0. 0. 0. 0. 0. 0. 0. 0. 0. 0. 0. 0. 0. 0. 0. 0. 0. 0. 0. 0.]\n",
      "    calling model.run_iteration(), time:  1.9200000000000015 , propensities.sum():  0.0 , propensities of node 926:  [0. 0. 0. 0. 0. 0. 0. 0. 0. 0. 0. 0. 0. 0. 0. 0. 0. 0. 0. 0. 0. 0. 0.]\n",
      "    calling model.run_iteration(), time:  1.9300000000000015 , propensities.sum():  0.0 , propensities of node 926:  [0. 0. 0. 0. 0. 0. 0. 0. 0. 0. 0. 0. 0. 0. 0. 0. 0. 0. 0. 0. 0. 0. 0.]\n",
      "    calling model.run_iteration(), time:  1.9400000000000015 , propensities.sum():  0.0 , propensities of node 926:  [0. 0. 0. 0. 0. 0. 0. 0. 0. 0. 0. 0. 0. 0. 0. 0. 0. 0. 0. 0. 0. 0. 0.]\n",
      "    calling model.run_iteration(), time:  1.9500000000000015 , propensities.sum():  0.0 , propensities of node 926:  [0. 0. 0. 0. 0. 0. 0. 0. 0. 0. 0. 0. 0. 0. 0. 0. 0. 0. 0. 0. 0. 0. 0.]\n",
      "    calling model.run_iteration(), time:  1.9600000000000015 , propensities.sum():  0.0 , propensities of node 926:  [0. 0. 0. 0. 0. 0. 0. 0. 0. 0. 0. 0. 0. 0. 0. 0. 0. 0. 0. 0. 0. 0. 0.]\n",
      "    calling model.run_iteration(), time:  1.9700000000000015 , propensities.sum():  0.0 , propensities of node 926:  [0. 0. 0. 0. 0. 0. 0. 0. 0. 0. 0. 0. 0. 0. 0. 0. 0. 0. 0. 0. 0. 0. 0.]\n",
      "    calling model.run_iteration(), time:  1.9800000000000015 , propensities.sum():  0.0 , propensities of node 926:  [0. 0. 0. 0. 0. 0. 0. 0. 0. 0. 0. 0. 0. 0. 0. 0. 0. 0. 0. 0. 0. 0. 0.]\n",
      "    calling model.run_iteration(), time:  1.9900000000000015 , propensities.sum():  0.0 , propensities of node 926:  [0. 0. 0. 0. 0. 0. 0. 0. 0. 0. 0. 0. 0. 0. 0. 0. 0. 0. 0. 0. 0. 0. 0.]\n",
      "Running screening for group 2 on day 2...\n"
     ]
    },
    {
     "name": "stderr",
     "output_type": "stream",
     "text": [
      "Computing transition probabilities: 100%|██████████| 100/100 [00:00<00:00, 1627.61it/s]\n",
      "Generating walks (CPU: 1): 100%|██████████| 10/10 [00:00<00:00, 61.29it/s]\n"
     ]
    },
    {
     "name": "stdout",
     "output_type": "stream",
     "text": [
      "Screening day:  2  self.model.t:  2.0000000000000013\n",
      "    calling model.run_iteration(), time:  2.0000000000000013 , propensities.sum():  0.0 , propensities of node 926:  [0. 0. 0. 0. 0. 0. 0. 0. 0. 0. 0. 0. 0. 0. 0. 0. 0. 0. 0. 0. 0. 0. 0.]\n",
      "    calling model.run_iteration(), time:  2.010000000000001 , propensities.sum():  0.0 , propensities of node 926:  [0. 0. 0. 0. 0. 0. 0. 0. 0. 0. 0. 0. 0. 0. 0. 0. 0. 0. 0. 0. 0. 0. 0.]\n",
      "    calling model.run_iteration(), time:  2.020000000000001 , propensities.sum():  0.0 , propensities of node 926:  [0. 0. 0. 0. 0. 0. 0. 0. 0. 0. 0. 0. 0. 0. 0. 0. 0. 0. 0. 0. 0. 0. 0.]\n",
      "    calling model.run_iteration(), time:  2.0300000000000007 , propensities.sum():  0.0 , propensities of node 926:  [0. 0. 0. 0. 0. 0. 0. 0. 0. 0. 0. 0. 0. 0. 0. 0. 0. 0. 0. 0. 0. 0. 0.]\n",
      "    calling model.run_iteration(), time:  2.0400000000000005 , propensities.sum():  0.0 , propensities of node 926:  [0. 0. 0. 0. 0. 0. 0. 0. 0. 0. 0. 0. 0. 0. 0. 0. 0. 0. 0. 0. 0. 0. 0.]\n",
      "    calling model.run_iteration(), time:  2.0500000000000003 , propensities.sum():  0.0 , propensities of node 926:  [0. 0. 0. 0. 0. 0. 0. 0. 0. 0. 0. 0. 0. 0. 0. 0. 0. 0. 0. 0. 0. 0. 0.]\n",
      "    calling model.run_iteration(), time:  2.06 , propensities.sum():  0.0 , propensities of node 926:  [0. 0. 0. 0. 0. 0. 0. 0. 0. 0. 0. 0. 0. 0. 0. 0. 0. 0. 0. 0. 0. 0. 0.]\n",
      "    calling model.run_iteration(), time:  2.07 , propensities.sum():  0.0 , propensities of node 926:  [0. 0. 0. 0. 0. 0. 0. 0. 0. 0. 0. 0. 0. 0. 0. 0. 0. 0. 0. 0. 0. 0. 0.]\n",
      "    calling model.run_iteration(), time:  2.0799999999999996 , propensities.sum():  0.0 , propensities of node 926:  [0. 0. 0. 0. 0. 0. 0. 0. 0. 0. 0. 0. 0. 0. 0. 0. 0. 0. 0. 0. 0. 0. 0.]\n",
      "    calling model.run_iteration(), time:  2.0899999999999994 , propensities.sum():  0.0 , propensities of node 926:  [0. 0. 0. 0. 0. 0. 0. 0. 0. 0. 0. 0. 0. 0. 0. 0. 0. 0. 0. 0. 0. 0. 0.]\n",
      "    calling model.run_iteration(), time:  2.099999999999999 , propensities.sum():  0.0 , propensities of node 926:  [0. 0. 0. 0. 0. 0. 0. 0. 0. 0. 0. 0. 0. 0. 0. 0. 0. 0. 0. 0. 0. 0. 0.]\n",
      "    calling model.run_iteration(), time:  2.109999999999999 , propensities.sum():  0.0 , propensities of node 926:  [0. 0. 0. 0. 0. 0. 0. 0. 0. 0. 0. 0. 0. 0. 0. 0. 0. 0. 0. 0. 0. 0. 0.]\n",
      "    calling model.run_iteration(), time:  2.1199999999999988 , propensities.sum():  0.0 , propensities of node 926:  [0. 0. 0. 0. 0. 0. 0. 0. 0. 0. 0. 0. 0. 0. 0. 0. 0. 0. 0. 0. 0. 0. 0.]\n",
      "    calling model.run_iteration(), time:  2.1299999999999986 , propensities.sum():  0.0 , propensities of node 926:  [0. 0. 0. 0. 0. 0. 0. 0. 0. 0. 0. 0. 0. 0. 0. 0. 0. 0. 0. 0. 0. 0. 0.]\n",
      "    calling model.run_iteration(), time:  2.1399999999999983 , propensities.sum():  0.0 , propensities of node 926:  [0. 0. 0. 0. 0. 0. 0. 0. 0. 0. 0. 0. 0. 0. 0. 0. 0. 0. 0. 0. 0. 0. 0.]\n",
      "    calling model.run_iteration(), time:  2.149999999999998 , propensities.sum():  0.0 , propensities of node 926:  [0. 0. 0. 0. 0. 0. 0. 0. 0. 0. 0. 0. 0. 0. 0. 0. 0. 0. 0. 0. 0. 0. 0.]\n",
      "    calling model.run_iteration(), time:  2.159999999999998 , propensities.sum():  0.0 , propensities of node 926:  [0. 0. 0. 0. 0. 0. 0. 0. 0. 0. 0. 0. 0. 0. 0. 0. 0. 0. 0. 0. 0. 0. 0.]\n",
      "    calling model.run_iteration(), time:  2.1699999999999977 , propensities.sum():  0.0 , propensities of node 926:  [0. 0. 0. 0. 0. 0. 0. 0. 0. 0. 0. 0. 0. 0. 0. 0. 0. 0. 0. 0. 0. 0. 0.]\n",
      "    calling model.run_iteration(), time:  2.1799999999999975 , propensities.sum():  0.0 , propensities of node 926:  [0. 0. 0. 0. 0. 0. 0. 0. 0. 0. 0. 0. 0. 0. 0. 0. 0. 0. 0. 0. 0. 0. 0.]\n",
      "    calling model.run_iteration(), time:  2.1899999999999973 , propensities.sum():  0.0 , propensities of node 926:  [0. 0. 0. 0. 0. 0. 0. 0. 0. 0. 0. 0. 0. 0. 0. 0. 0. 0. 0. 0. 0. 0. 0.]\n",
      "    calling model.run_iteration(), time:  2.199999999999997 , propensities.sum():  0.0 , propensities of node 926:  [0. 0. 0. 0. 0. 0. 0. 0. 0. 0. 0. 0. 0. 0. 0. 0. 0. 0. 0. 0. 0. 0. 0.]\n",
      "    calling model.run_iteration(), time:  2.209999999999997 , propensities.sum():  0.0 , propensities of node 926:  [0. 0. 0. 0. 0. 0. 0. 0. 0. 0. 0. 0. 0. 0. 0. 0. 0. 0. 0. 0. 0. 0. 0.]\n",
      "    calling model.run_iteration(), time:  2.2199999999999966 , propensities.sum():  0.0 , propensities of node 926:  [0. 0. 0. 0. 0. 0. 0. 0. 0. 0. 0. 0. 0. 0. 0. 0. 0. 0. 0. 0. 0. 0. 0.]\n",
      "    calling model.run_iteration(), time:  2.2299999999999964 , propensities.sum():  0.0 , propensities of node 926:  [0. 0. 0. 0. 0. 0. 0. 0. 0. 0. 0. 0. 0. 0. 0. 0. 0. 0. 0. 0. 0. 0. 0.]\n",
      "    calling model.run_iteration(), time:  2.239999999999996 , propensities.sum():  0.0 , propensities of node 926:  [0. 0. 0. 0. 0. 0. 0. 0. 0. 0. 0. 0. 0. 0. 0. 0. 0. 0. 0. 0. 0. 0. 0.]\n",
      "    calling model.run_iteration(), time:  2.249999999999996 , propensities.sum():  0.0 , propensities of node 926:  [0. 0. 0. 0. 0. 0. 0. 0. 0. 0. 0. 0. 0. 0. 0. 0. 0. 0. 0. 0. 0. 0. 0.]\n",
      "    calling model.run_iteration(), time:  2.259999999999996 , propensities.sum():  0.0 , propensities of node 926:  [0. 0. 0. 0. 0. 0. 0. 0. 0. 0. 0. 0. 0. 0. 0. 0. 0. 0. 0. 0. 0. 0. 0.]\n",
      "    calling model.run_iteration(), time:  2.2699999999999956 , propensities.sum():  0.0 , propensities of node 926:  [0. 0. 0. 0. 0. 0. 0. 0. 0. 0. 0. 0. 0. 0. 0. 0. 0. 0. 0. 0. 0. 0. 0.]\n",
      "    calling model.run_iteration(), time:  2.2799999999999954 , propensities.sum():  0.0 , propensities of node 926:  [0. 0. 0. 0. 0. 0. 0. 0. 0. 0. 0. 0. 0. 0. 0. 0. 0. 0. 0. 0. 0. 0. 0.]\n",
      "    calling model.run_iteration(), time:  2.289999999999995 , propensities.sum():  0.0 , propensities of node 926:  [0. 0. 0. 0. 0. 0. 0. 0. 0. 0. 0. 0. 0. 0. 0. 0. 0. 0. 0. 0. 0. 0. 0.]\n",
      "    calling model.run_iteration(), time:  2.299999999999995 , propensities.sum():  0.0 , propensities of node 926:  [0. 0. 0. 0. 0. 0. 0. 0. 0. 0. 0. 0. 0. 0. 0. 0. 0. 0. 0. 0. 0. 0. 0.]\n",
      "    calling model.run_iteration(), time:  2.3099999999999947 , propensities.sum():  0.0 , propensities of node 926:  [0. 0. 0. 0. 0. 0. 0. 0. 0. 0. 0. 0. 0. 0. 0. 0. 0. 0. 0. 0. 0. 0. 0.]\n",
      "    calling model.run_iteration(), time:  2.3199999999999945 , propensities.sum():  0.0 , propensities of node 926:  [0. 0. 0. 0. 0. 0. 0. 0. 0. 0. 0. 0. 0. 0. 0. 0. 0. 0. 0. 0. 0. 0. 0.]\n",
      "    calling model.run_iteration(), time:  2.3299999999999943 , propensities.sum():  0.0 , propensities of node 926:  [0. 0. 0. 0. 0. 0. 0. 0. 0. 0. 0. 0. 0. 0. 0. 0. 0. 0. 0. 0. 0. 0. 0.]\n",
      "    calling model.run_iteration(), time:  2.339999999999994 , propensities.sum():  0.0 , propensities of node 926:  [0. 0. 0. 0. 0. 0. 0. 0. 0. 0. 0. 0. 0. 0. 0. 0. 0. 0. 0. 0. 0. 0. 0.]\n",
      "    calling model.run_iteration(), time:  2.349999999999994 , propensities.sum():  0.0 , propensities of node 926:  [0. 0. 0. 0. 0. 0. 0. 0. 0. 0. 0. 0. 0. 0. 0. 0. 0. 0. 0. 0. 0. 0. 0.]\n",
      "    calling model.run_iteration(), time:  2.3599999999999937 , propensities.sum():  0.0 , propensities of node 926:  [0. 0. 0. 0. 0. 0. 0. 0. 0. 0. 0. 0. 0. 0. 0. 0. 0. 0. 0. 0. 0. 0. 0.]\n",
      "    calling model.run_iteration(), time:  2.3699999999999934 , propensities.sum():  0.0 , propensities of node 926:  [0. 0. 0. 0. 0. 0. 0. 0. 0. 0. 0. 0. 0. 0. 0. 0. 0. 0. 0. 0. 0. 0. 0.]\n",
      "    calling model.run_iteration(), time:  2.3799999999999932 , propensities.sum():  0.0 , propensities of node 926:  [0. 0. 0. 0. 0. 0. 0. 0. 0. 0. 0. 0. 0. 0. 0. 0. 0. 0. 0. 0. 0. 0. 0.]\n",
      "    calling model.run_iteration(), time:  2.389999999999993 , propensities.sum():  0.0 , propensities of node 926:  [0. 0. 0. 0. 0. 0. 0. 0. 0. 0. 0. 0. 0. 0. 0. 0. 0. 0. 0. 0. 0. 0. 0.]\n",
      "    calling model.run_iteration(), time:  2.399999999999993 , propensities.sum():  0.0 , propensities of node 926:  [0. 0. 0. 0. 0. 0. 0. 0. 0. 0. 0. 0. 0. 0. 0. 0. 0. 0. 0. 0. 0. 0. 0.]\n",
      "    calling model.run_iteration(), time:  2.4099999999999926 , propensities.sum():  0.0 , propensities of node 926:  [0. 0. 0. 0. 0. 0. 0. 0. 0. 0. 0. 0. 0. 0. 0. 0. 0. 0. 0. 0. 0. 0. 0.]\n",
      "    calling model.run_iteration(), time:  2.4199999999999924 , propensities.sum():  0.0 , propensities of node 926:  [0. 0. 0. 0. 0. 0. 0. 0. 0. 0. 0. 0. 0. 0. 0. 0. 0. 0. 0. 0. 0. 0. 0.]\n",
      "    calling model.run_iteration(), time:  2.429999999999992 , propensities.sum():  0.0 , propensities of node 926:  [0. 0. 0. 0. 0. 0. 0. 0. 0. 0. 0. 0. 0. 0. 0. 0. 0. 0. 0. 0. 0. 0. 0.]\n",
      "    calling model.run_iteration(), time:  2.439999999999992 , propensities.sum():  0.0 , propensities of node 926:  [0. 0. 0. 0. 0. 0. 0. 0. 0. 0. 0. 0. 0. 0. 0. 0. 0. 0. 0. 0. 0. 0. 0.]\n",
      "    calling model.run_iteration(), time:  2.4499999999999917 , propensities.sum():  0.0 , propensities of node 926:  [0. 0. 0. 0. 0. 0. 0. 0. 0. 0. 0. 0. 0. 0. 0. 0. 0. 0. 0. 0. 0. 0. 0.]\n",
      "    calling model.run_iteration(), time:  2.4599999999999915 , propensities.sum():  0.0 , propensities of node 926:  [0. 0. 0. 0. 0. 0. 0. 0. 0. 0. 0. 0. 0. 0. 0. 0. 0. 0. 0. 0. 0. 0. 0.]\n",
      "    calling model.run_iteration(), time:  2.4699999999999913 , propensities.sum():  0.0 , propensities of node 926:  [0. 0. 0. 0. 0. 0. 0. 0. 0. 0. 0. 0. 0. 0. 0. 0. 0. 0. 0. 0. 0. 0. 0.]\n",
      "    calling model.run_iteration(), time:  2.479999999999991 , propensities.sum():  0.0 , propensities of node 926:  [0. 0. 0. 0. 0. 0. 0. 0. 0. 0. 0. 0. 0. 0. 0. 0. 0. 0. 0. 0. 0. 0. 0.]\n",
      "    calling model.run_iteration(), time:  2.489999999999991 , propensities.sum():  0.0 , propensities of node 926:  [0. 0. 0. 0. 0. 0. 0. 0. 0. 0. 0. 0. 0. 0. 0. 0. 0. 0. 0. 0. 0. 0. 0.]\n",
      "    calling model.run_iteration(), time:  2.4999999999999907 , propensities.sum():  0.0 , propensities of node 926:  [0. 0. 0. 0. 0. 0. 0. 0. 0. 0. 0. 0. 0. 0. 0. 0. 0. 0. 0. 0. 0. 0. 0.]\n",
      "    calling model.run_iteration(), time:  2.5099999999999905 , propensities.sum():  0.0 , propensities of node 926:  [0. 0. 0. 0. 0. 0. 0. 0. 0. 0. 0. 0. 0. 0. 0. 0. 0. 0. 0. 0. 0. 0. 0.]\n",
      "    calling model.run_iteration(), time:  2.5199999999999902 , propensities.sum():  0.0 , propensities of node 926:  [0. 0. 0. 0. 0. 0. 0. 0. 0. 0. 0. 0. 0. 0. 0. 0. 0. 0. 0. 0. 0. 0. 0.]\n",
      "    calling model.run_iteration(), time:  2.52999999999999 , propensities.sum():  0.0 , propensities of node 926:  [0. 0. 0. 0. 0. 0. 0. 0. 0. 0. 0. 0. 0. 0. 0. 0. 0. 0. 0. 0. 0. 0. 0.]\n",
      "    calling model.run_iteration(), time:  2.53999999999999 , propensities.sum():  0.0 , propensities of node 926:  [0. 0. 0. 0. 0. 0. 0. 0. 0. 0. 0. 0. 0. 0. 0. 0. 0. 0. 0. 0. 0. 0. 0.]\n",
      "    calling model.run_iteration(), time:  2.5499999999999896 , propensities.sum():  0.0 , propensities of node 926:  [0. 0. 0. 0. 0. 0. 0. 0. 0. 0. 0. 0. 0. 0. 0. 0. 0. 0. 0. 0. 0. 0. 0.]\n",
      "    calling model.run_iteration(), time:  2.5599999999999894 , propensities.sum():  0.0 , propensities of node 926:  [0. 0. 0. 0. 0. 0. 0. 0. 0. 0. 0. 0. 0. 0. 0. 0. 0. 0. 0. 0. 0. 0. 0.]\n",
      "    calling model.run_iteration(), time:  2.569999999999989 , propensities.sum():  0.0 , propensities of node 926:  [0. 0. 0. 0. 0. 0. 0. 0. 0. 0. 0. 0. 0. 0. 0. 0. 0. 0. 0. 0. 0. 0. 0.]\n",
      "    calling model.run_iteration(), time:  2.579999999999989 , propensities.sum():  0.0 , propensities of node 926:  [0. 0. 0. 0. 0. 0. 0. 0. 0. 0. 0. 0. 0. 0. 0. 0. 0. 0. 0. 0. 0. 0. 0.]\n",
      "    calling model.run_iteration(), time:  2.5899999999999888 , propensities.sum():  0.0 , propensities of node 926:  [0. 0. 0. 0. 0. 0. 0. 0. 0. 0. 0. 0. 0. 0. 0. 0. 0. 0. 0. 0. 0. 0. 0.]\n",
      "    calling model.run_iteration(), time:  2.5999999999999885 , propensities.sum():  0.0 , propensities of node 926:  [0. 0. 0. 0. 0. 0. 0. 0. 0. 0. 0. 0. 0. 0. 0. 0. 0. 0. 0. 0. 0. 0. 0.]\n",
      "    calling model.run_iteration(), time:  2.6099999999999883 , propensities.sum():  0.0 , propensities of node 926:  [0. 0. 0. 0. 0. 0. 0. 0. 0. 0. 0. 0. 0. 0. 0. 0. 0. 0. 0. 0. 0. 0. 0.]\n",
      "    calling model.run_iteration(), time:  2.619999999999988 , propensities.sum():  0.0 , propensities of node 926:  [0. 0. 0. 0. 0. 0. 0. 0. 0. 0. 0. 0. 0. 0. 0. 0. 0. 0. 0. 0. 0. 0. 0.]\n",
      "    calling model.run_iteration(), time:  2.629999999999988 , propensities.sum():  0.0 , propensities of node 926:  [0. 0. 0. 0. 0. 0. 0. 0. 0. 0. 0. 0. 0. 0. 0. 0. 0. 0. 0. 0. 0. 0. 0.]\n",
      "    calling model.run_iteration(), time:  2.6399999999999877 , propensities.sum():  0.0 , propensities of node 926:  [0. 0. 0. 0. 0. 0. 0. 0. 0. 0. 0. 0. 0. 0. 0. 0. 0. 0. 0. 0. 0. 0. 0.]\n",
      "    calling model.run_iteration(), time:  2.6499999999999875 , propensities.sum():  0.0 , propensities of node 926:  [0. 0. 0. 0. 0. 0. 0. 0. 0. 0. 0. 0. 0. 0. 0. 0. 0. 0. 0. 0. 0. 0. 0.]\n",
      "    calling model.run_iteration(), time:  2.6599999999999873 , propensities.sum():  0.0 , propensities of node 926:  [0. 0. 0. 0. 0. 0. 0. 0. 0. 0. 0. 0. 0. 0. 0. 0. 0. 0. 0. 0. 0. 0. 0.]\n",
      "    calling model.run_iteration(), time:  2.669999999999987 , propensities.sum():  0.0 , propensities of node 926:  [0. 0. 0. 0. 0. 0. 0. 0. 0. 0. 0. 0. 0. 0. 0. 0. 0. 0. 0. 0. 0. 0. 0.]\n",
      "    calling model.run_iteration(), time:  2.679999999999987 , propensities.sum():  0.0 , propensities of node 926:  [0. 0. 0. 0. 0. 0. 0. 0. 0. 0. 0. 0. 0. 0. 0. 0. 0. 0. 0. 0. 0. 0. 0.]\n",
      "    calling model.run_iteration(), time:  2.6899999999999866 , propensities.sum():  0.0 , propensities of node 926:  [0. 0. 0. 0. 0. 0. 0. 0. 0. 0. 0. 0. 0. 0. 0. 0. 0. 0. 0. 0. 0. 0. 0.]\n",
      "    calling model.run_iteration(), time:  2.6999999999999864 , propensities.sum():  0.0 , propensities of node 926:  [0. 0. 0. 0. 0. 0. 0. 0. 0. 0. 0. 0. 0. 0. 0. 0. 0. 0. 0. 0. 0. 0. 0.]\n",
      "    calling model.run_iteration(), time:  2.709999999999986 , propensities.sum():  0.0 , propensities of node 926:  [0. 0. 0. 0. 0. 0. 0. 0. 0. 0. 0. 0. 0. 0. 0. 0. 0. 0. 0. 0. 0. 0. 0.]\n",
      "    calling model.run_iteration(), time:  2.719999999999986 , propensities.sum():  0.0 , propensities of node 926:  [0. 0. 0. 0. 0. 0. 0. 0. 0. 0. 0. 0. 0. 0. 0. 0. 0. 0. 0. 0. 0. 0. 0.]\n",
      "    calling model.run_iteration(), time:  2.7299999999999858 , propensities.sum():  0.0 , propensities of node 926:  [0. 0. 0. 0. 0. 0. 0. 0. 0. 0. 0. 0. 0. 0. 0. 0. 0. 0. 0. 0. 0. 0. 0.]\n",
      "    calling model.run_iteration(), time:  2.7399999999999856 , propensities.sum():  0.0 , propensities of node 926:  [0. 0. 0. 0. 0. 0. 0. 0. 0. 0. 0. 0. 0. 0. 0. 0. 0. 0. 0. 0. 0. 0. 0.]\n",
      "    calling model.run_iteration(), time:  2.7499999999999853 , propensities.sum():  0.0 , propensities of node 926:  [0. 0. 0. 0. 0. 0. 0. 0. 0. 0. 0. 0. 0. 0. 0. 0. 0. 0. 0. 0. 0. 0. 0.]\n",
      "    calling model.run_iteration(), time:  2.759999999999985 , propensities.sum():  0.0 , propensities of node 926:  [0. 0. 0. 0. 0. 0. 0. 0. 0. 0. 0. 0. 0. 0. 0. 0. 0. 0. 0. 0. 0. 0. 0.]\n",
      "    calling model.run_iteration(), time:  2.769999999999985 , propensities.sum():  0.0 , propensities of node 926:  [0. 0. 0. 0. 0. 0. 0. 0. 0. 0. 0. 0. 0. 0. 0. 0. 0. 0. 0. 0. 0. 0. 0.]\n",
      "    calling model.run_iteration(), time:  2.7799999999999847 , propensities.sum():  0.0 , propensities of node 926:  [0. 0. 0. 0. 0. 0. 0. 0. 0. 0. 0. 0. 0. 0. 0. 0. 0. 0. 0. 0. 0. 0. 0.]\n",
      "    calling model.run_iteration(), time:  2.7899999999999845 , propensities.sum():  0.0 , propensities of node 926:  [0. 0. 0. 0. 0. 0. 0. 0. 0. 0. 0. 0. 0. 0. 0. 0. 0. 0. 0. 0. 0. 0. 0.]\n",
      "    calling model.run_iteration(), time:  2.7999999999999843 , propensities.sum():  0.0 , propensities of node 926:  [0. 0. 0. 0. 0. 0. 0. 0. 0. 0. 0. 0. 0. 0. 0. 0. 0. 0. 0. 0. 0. 0. 0.]\n",
      "    calling model.run_iteration(), time:  2.809999999999984 , propensities.sum():  0.0 , propensities of node 926:  [0. 0. 0. 0. 0. 0. 0. 0. 0. 0. 0. 0. 0. 0. 0. 0. 0. 0. 0. 0. 0. 0. 0.]\n",
      "    calling model.run_iteration(), time:  2.819999999999984 , propensities.sum():  0.0 , propensities of node 926:  [0. 0. 0. 0. 0. 0. 0. 0. 0. 0. 0. 0. 0. 0. 0. 0. 0. 0. 0. 0. 0. 0. 0.]\n",
      "    calling model.run_iteration(), time:  2.8299999999999836 , propensities.sum():  0.0 , propensities of node 926:  [0. 0. 0. 0. 0. 0. 0. 0. 0. 0. 0. 0. 0. 0. 0. 0. 0. 0. 0. 0. 0. 0. 0.]\n",
      "    calling model.run_iteration(), time:  2.8399999999999834 , propensities.sum():  0.0 , propensities of node 926:  [0. 0. 0. 0. 0. 0. 0. 0. 0. 0. 0. 0. 0. 0. 0. 0. 0. 0. 0. 0. 0. 0. 0.]\n",
      "    calling model.run_iteration(), time:  2.849999999999983 , propensities.sum():  0.0 , propensities of node 926:  [0. 0. 0. 0. 0. 0. 0. 0. 0. 0. 0. 0. 0. 0. 0. 0. 0. 0. 0. 0. 0. 0. 0.]\n",
      "    calling model.run_iteration(), time:  2.859999999999983 , propensities.sum():  0.0 , propensities of node 926:  [0. 0. 0. 0. 0. 0. 0. 0. 0. 0. 0. 0. 0. 0. 0. 0. 0. 0. 0. 0. 0. 0. 0.]\n",
      "    calling model.run_iteration(), time:  2.869999999999983 , propensities.sum():  0.0 , propensities of node 926:  [0. 0. 0. 0. 0. 0. 0. 0. 0. 0. 0. 0. 0. 0. 0. 0. 0. 0. 0. 0. 0. 0. 0.]\n",
      "    calling model.run_iteration(), time:  2.8799999999999826 , propensities.sum():  0.0 , propensities of node 926:  [0. 0. 0. 0. 0. 0. 0. 0. 0. 0. 0. 0. 0. 0. 0. 0. 0. 0. 0. 0. 0. 0. 0.]\n",
      "    calling model.run_iteration(), time:  2.8899999999999824 , propensities.sum():  0.0 , propensities of node 926:  [0. 0. 0. 0. 0. 0. 0. 0. 0. 0. 0. 0. 0. 0. 0. 0. 0. 0. 0. 0. 0. 0. 0.]\n",
      "    calling model.run_iteration(), time:  2.899999999999982 , propensities.sum():  0.0 , propensities of node 926:  [0. 0. 0. 0. 0. 0. 0. 0. 0. 0. 0. 0. 0. 0. 0. 0. 0. 0. 0. 0. 0. 0. 0.]\n",
      "    calling model.run_iteration(), time:  2.909999999999982 , propensities.sum():  0.0 , propensities of node 926:  [0. 0. 0. 0. 0. 0. 0. 0. 0. 0. 0. 0. 0. 0. 0. 0. 0. 0. 0. 0. 0. 0. 0.]\n",
      "    calling model.run_iteration(), time:  2.9199999999999817 , propensities.sum():  0.0 , propensities of node 926:  [0. 0. 0. 0. 0. 0. 0. 0. 0. 0. 0. 0. 0. 0. 0. 0. 0. 0. 0. 0. 0. 0. 0.]\n",
      "    calling model.run_iteration(), time:  2.9299999999999815 , propensities.sum():  0.0 , propensities of node 926:  [0. 0. 0. 0. 0. 0. 0. 0. 0. 0. 0. 0. 0. 0. 0. 0. 0. 0. 0. 0. 0. 0. 0.]\n",
      "    calling model.run_iteration(), time:  2.9399999999999813 , propensities.sum():  0.0 , propensities of node 926:  [0. 0. 0. 0. 0. 0. 0. 0. 0. 0. 0. 0. 0. 0. 0. 0. 0. 0. 0. 0. 0. 0. 0.]\n",
      "    calling model.run_iteration(), time:  2.949999999999981 , propensities.sum():  0.0 , propensities of node 926:  [0. 0. 0. 0. 0. 0. 0. 0. 0. 0. 0. 0. 0. 0. 0. 0. 0. 0. 0. 0. 0. 0. 0.]\n",
      "    calling model.run_iteration(), time:  2.959999999999981 , propensities.sum():  0.0 , propensities of node 926:  [0. 0. 0. 0. 0. 0. 0. 0. 0. 0. 0. 0. 0. 0. 0. 0. 0. 0. 0. 0. 0. 0. 0.]\n",
      "    calling model.run_iteration(), time:  2.9699999999999807 , propensities.sum():  0.0 , propensities of node 926:  [0. 0. 0. 0. 0. 0. 0. 0. 0. 0. 0. 0. 0. 0. 0. 0. 0. 0. 0. 0. 0. 0. 0.]\n",
      "    calling model.run_iteration(), time:  2.9799999999999804 , propensities.sum():  0.0 , propensities of node 926:  [0. 0. 0. 0. 0. 0. 0. 0. 0. 0. 0. 0. 0. 0. 0. 0. 0. 0. 0. 0. 0. 0. 0.]\n",
      "    calling model.run_iteration(), time:  2.9899999999999802 , propensities.sum():  0.0 , propensities of node 926:  [0. 0. 0. 0. 0. 0. 0. 0. 0. 0. 0. 0. 0. 0. 0. 0. 0. 0. 0. 0. 0. 0. 0.]\n",
      "    calling model.run_iteration(), time:  2.99999999999998 , propensities.sum():  0.0 , propensities of node 926:  [0. 0. 0. 0. 0. 0. 0. 0. 0. 0. 0. 0. 0. 0. 0. 0. 0. 0. 0. 0. 0. 0. 0.]\n",
      "Running screening for group 3 on day 3...\n"
     ]
    },
    {
     "name": "stderr",
     "output_type": "stream",
     "text": [
      "Computing transition probabilities: 100%|██████████| 100/100 [00:00<00:00, 645.63it/s]\n",
      "Generating walks (CPU: 1): 100%|██████████| 10/10 [00:00<00:00, 43.00it/s]\n"
     ]
    },
    {
     "name": "stdout",
     "output_type": "stream",
     "text": [
      "Screening day:  3  self.model.t:  3.00999999999998\n",
      "    calling model.run_iteration(), time:  3.00999999999998 , propensities.sum():  0.0 , propensities of node 926:  [0. 0. 0. 0. 0. 0. 0. 0. 0. 0. 0. 0. 0. 0. 0. 0. 0. 0. 0. 0. 0. 0. 0.]\n",
      "    calling model.run_iteration(), time:  3.0199999999999796 , propensities.sum():  0.0 , propensities of node 926:  [0. 0. 0. 0. 0. 0. 0. 0. 0. 0. 0. 0. 0. 0. 0. 0. 0. 0. 0. 0. 0. 0. 0.]\n",
      "    calling model.run_iteration(), time:  3.0299999999999794 , propensities.sum():  0.0 , propensities of node 926:  [0. 0. 0. 0. 0. 0. 0. 0. 0. 0. 0. 0. 0. 0. 0. 0. 0. 0. 0. 0. 0. 0. 0.]\n",
      "    calling model.run_iteration(), time:  3.039999999999979 , propensities.sum():  0.0 , propensities of node 926:  [0. 0. 0. 0. 0. 0. 0. 0. 0. 0. 0. 0. 0. 0. 0. 0. 0. 0. 0. 0. 0. 0. 0.]\n",
      "    calling model.run_iteration(), time:  3.049999999999979 , propensities.sum():  0.0 , propensities of node 926:  [0. 0. 0. 0. 0. 0. 0. 0. 0. 0. 0. 0. 0. 0. 0. 0. 0. 0. 0. 0. 0. 0. 0.]\n",
      "    calling model.run_iteration(), time:  3.0599999999999787 , propensities.sum():  0.0 , propensities of node 926:  [0. 0. 0. 0. 0. 0. 0. 0. 0. 0. 0. 0. 0. 0. 0. 0. 0. 0. 0. 0. 0. 0. 0.]\n",
      "    calling model.run_iteration(), time:  3.0699999999999785 , propensities.sum():  0.0 , propensities of node 926:  [0. 0. 0. 0. 0. 0. 0. 0. 0. 0. 0. 0. 0. 0. 0. 0. 0. 0. 0. 0. 0. 0. 0.]\n",
      "    calling model.run_iteration(), time:  3.0799999999999783 , propensities.sum():  0.0 , propensities of node 926:  [0. 0. 0. 0. 0. 0. 0. 0. 0. 0. 0. 0. 0. 0. 0. 0. 0. 0. 0. 0. 0. 0. 0.]\n",
      "    calling model.run_iteration(), time:  3.089999999999978 , propensities.sum():  0.0 , propensities of node 926:  [0. 0. 0. 0. 0. 0. 0. 0. 0. 0. 0. 0. 0. 0. 0. 0. 0. 0. 0. 0. 0. 0. 0.]\n",
      "    calling model.run_iteration(), time:  3.099999999999978 , propensities.sum():  0.0 , propensities of node 926:  [0. 0. 0. 0. 0. 0. 0. 0. 0. 0. 0. 0. 0. 0. 0. 0. 0. 0. 0. 0. 0. 0. 0.]\n",
      "    calling model.run_iteration(), time:  3.1099999999999777 , propensities.sum():  0.0 , propensities of node 926:  [0. 0. 0. 0. 0. 0. 0. 0. 0. 0. 0. 0. 0. 0. 0. 0. 0. 0. 0. 0. 0. 0. 0.]\n",
      "    calling model.run_iteration(), time:  3.1199999999999775 , propensities.sum():  0.0 , propensities of node 926:  [0. 0. 0. 0. 0. 0. 0. 0. 0. 0. 0. 0. 0. 0. 0. 0. 0. 0. 0. 0. 0. 0. 0.]\n",
      "    calling model.run_iteration(), time:  3.1299999999999772 , propensities.sum():  0.0 , propensities of node 926:  [0. 0. 0. 0. 0. 0. 0. 0. 0. 0. 0. 0. 0. 0. 0. 0. 0. 0. 0. 0. 0. 0. 0.]\n",
      "    calling model.run_iteration(), time:  3.139999999999977 , propensities.sum():  0.0 , propensities of node 926:  [0. 0. 0. 0. 0. 0. 0. 0. 0. 0. 0. 0. 0. 0. 0. 0. 0. 0. 0. 0. 0. 0. 0.]\n",
      "    calling model.run_iteration(), time:  3.149999999999977 , propensities.sum():  0.0 , propensities of node 926:  [0. 0. 0. 0. 0. 0. 0. 0. 0. 0. 0. 0. 0. 0. 0. 0. 0. 0. 0. 0. 0. 0. 0.]\n",
      "    calling model.run_iteration(), time:  3.1599999999999766 , propensities.sum():  0.0 , propensities of node 926:  [0. 0. 0. 0. 0. 0. 0. 0. 0. 0. 0. 0. 0. 0. 0. 0. 0. 0. 0. 0. 0. 0. 0.]\n",
      "    calling model.run_iteration(), time:  3.1699999999999764 , propensities.sum():  0.0 , propensities of node 926:  [0. 0. 0. 0. 0. 0. 0. 0. 0. 0. 0. 0. 0. 0. 0. 0. 0. 0. 0. 0. 0. 0. 0.]\n",
      "    calling model.run_iteration(), time:  3.179999999999976 , propensities.sum():  0.0 , propensities of node 926:  [0. 0. 0. 0. 0. 0. 0. 0. 0. 0. 0. 0. 0. 0. 0. 0. 0. 0. 0. 0. 0. 0. 0.]\n",
      "    calling model.run_iteration(), time:  3.189999999999976 , propensities.sum():  0.0 , propensities of node 926:  [0. 0. 0. 0. 0. 0. 0. 0. 0. 0. 0. 0. 0. 0. 0. 0. 0. 0. 0. 0. 0. 0. 0.]\n",
      "    calling model.run_iteration(), time:  3.1999999999999758 , propensities.sum():  0.0 , propensities of node 926:  [0. 0. 0. 0. 0. 0. 0. 0. 0. 0. 0. 0. 0. 0. 0. 0. 0. 0. 0. 0. 0. 0. 0.]\n",
      "    calling model.run_iteration(), time:  3.2099999999999755 , propensities.sum():  0.0 , propensities of node 926:  [0. 0. 0. 0. 0. 0. 0. 0. 0. 0. 0. 0. 0. 0. 0. 0. 0. 0. 0. 0. 0. 0. 0.]\n",
      "    calling model.run_iteration(), time:  3.2199999999999753 , propensities.sum():  0.0 , propensities of node 926:  [0. 0. 0. 0. 0. 0. 0. 0. 0. 0. 0. 0. 0. 0. 0. 0. 0. 0. 0. 0. 0. 0. 0.]\n",
      "    calling model.run_iteration(), time:  3.229999999999975 , propensities.sum():  0.0 , propensities of node 926:  [0. 0. 0. 0. 0. 0. 0. 0. 0. 0. 0. 0. 0. 0. 0. 0. 0. 0. 0. 0. 0. 0. 0.]\n",
      "    calling model.run_iteration(), time:  3.239999999999975 , propensities.sum():  0.0 , propensities of node 926:  [0. 0. 0. 0. 0. 0. 0. 0. 0. 0. 0. 0. 0. 0. 0. 0. 0. 0. 0. 0. 0. 0. 0.]\n",
      "    calling model.run_iteration(), time:  3.2499999999999747 , propensities.sum():  0.0 , propensities of node 926:  [0. 0. 0. 0. 0. 0. 0. 0. 0. 0. 0. 0. 0. 0. 0. 0. 0. 0. 0. 0. 0. 0. 0.]\n",
      "    calling model.run_iteration(), time:  3.2599999999999745 , propensities.sum():  0.0 , propensities of node 926:  [0. 0. 0. 0. 0. 0. 0. 0. 0. 0. 0. 0. 0. 0. 0. 0. 0. 0. 0. 0. 0. 0. 0.]\n",
      "    calling model.run_iteration(), time:  3.2699999999999743 , propensities.sum():  0.0 , propensities of node 926:  [0. 0. 0. 0. 0. 0. 0. 0. 0. 0. 0. 0. 0. 0. 0. 0. 0. 0. 0. 0. 0. 0. 0.]\n",
      "    calling model.run_iteration(), time:  3.279999999999974 , propensities.sum():  0.0 , propensities of node 926:  [0. 0. 0. 0. 0. 0. 0. 0. 0. 0. 0. 0. 0. 0. 0. 0. 0. 0. 0. 0. 0. 0. 0.]\n",
      "    calling model.run_iteration(), time:  3.289999999999974 , propensities.sum():  0.0 , propensities of node 926:  [0. 0. 0. 0. 0. 0. 0. 0. 0. 0. 0. 0. 0. 0. 0. 0. 0. 0. 0. 0. 0. 0. 0.]\n",
      "    calling model.run_iteration(), time:  3.2999999999999736 , propensities.sum():  0.0 , propensities of node 926:  [0. 0. 0. 0. 0. 0. 0. 0. 0. 0. 0. 0. 0. 0. 0. 0. 0. 0. 0. 0. 0. 0. 0.]\n",
      "    calling model.run_iteration(), time:  3.3099999999999734 , propensities.sum():  0.0 , propensities of node 926:  [0. 0. 0. 0. 0. 0. 0. 0. 0. 0. 0. 0. 0. 0. 0. 0. 0. 0. 0. 0. 0. 0. 0.]\n",
      "    calling model.run_iteration(), time:  3.319999999999973 , propensities.sum():  0.0 , propensities of node 926:  [0. 0. 0. 0. 0. 0. 0. 0. 0. 0. 0. 0. 0. 0. 0. 0. 0. 0. 0. 0. 0. 0. 0.]\n",
      "    calling model.run_iteration(), time:  3.329999999999973 , propensities.sum():  0.0 , propensities of node 926:  [0. 0. 0. 0. 0. 0. 0. 0. 0. 0. 0. 0. 0. 0. 0. 0. 0. 0. 0. 0. 0. 0. 0.]\n",
      "    calling model.run_iteration(), time:  3.3399999999999728 , propensities.sum():  0.0 , propensities of node 926:  [0. 0. 0. 0. 0. 0. 0. 0. 0. 0. 0. 0. 0. 0. 0. 0. 0. 0. 0. 0. 0. 0. 0.]\n",
      "    calling model.run_iteration(), time:  3.3499999999999726 , propensities.sum():  0.0 , propensities of node 926:  [0. 0. 0. 0. 0. 0. 0. 0. 0. 0. 0. 0. 0. 0. 0. 0. 0. 0. 0. 0. 0. 0. 0.]\n",
      "    calling model.run_iteration(), time:  3.3599999999999723 , propensities.sum():  0.0 , propensities of node 926:  [0. 0. 0. 0. 0. 0. 0. 0. 0. 0. 0. 0. 0. 0. 0. 0. 0. 0. 0. 0. 0. 0. 0.]\n",
      "    calling model.run_iteration(), time:  3.369999999999972 , propensities.sum():  0.0 , propensities of node 926:  [0. 0. 0. 0. 0. 0. 0. 0. 0. 0. 0. 0. 0. 0. 0. 0. 0. 0. 0. 0. 0. 0. 0.]\n",
      "    calling model.run_iteration(), time:  3.379999999999972 , propensities.sum():  0.0 , propensities of node 926:  [0. 0. 0. 0. 0. 0. 0. 0. 0. 0. 0. 0. 0. 0. 0. 0. 0. 0. 0. 0. 0. 0. 0.]\n",
      "    calling model.run_iteration(), time:  3.3899999999999717 , propensities.sum():  0.0 , propensities of node 926:  [0. 0. 0. 0. 0. 0. 0. 0. 0. 0. 0. 0. 0. 0. 0. 0. 0. 0. 0. 0. 0. 0. 0.]\n",
      "    calling model.run_iteration(), time:  3.3999999999999715 , propensities.sum():  0.0 , propensities of node 926:  [0. 0. 0. 0. 0. 0. 0. 0. 0. 0. 0. 0. 0. 0. 0. 0. 0. 0. 0. 0. 0. 0. 0.]\n",
      "    calling model.run_iteration(), time:  3.4099999999999713 , propensities.sum():  0.0 , propensities of node 926:  [0. 0. 0. 0. 0. 0. 0. 0. 0. 0. 0. 0. 0. 0. 0. 0. 0. 0. 0. 0. 0. 0. 0.]\n",
      "    calling model.run_iteration(), time:  3.419999999999971 , propensities.sum():  0.0 , propensities of node 926:  [0. 0. 0. 0. 0. 0. 0. 0. 0. 0. 0. 0. 0. 0. 0. 0. 0. 0. 0. 0. 0. 0. 0.]\n",
      "    calling model.run_iteration(), time:  3.429999999999971 , propensities.sum():  0.0 , propensities of node 926:  [0. 0. 0. 0. 0. 0. 0. 0. 0. 0. 0. 0. 0. 0. 0. 0. 0. 0. 0. 0. 0. 0. 0.]\n",
      "    calling model.run_iteration(), time:  3.4399999999999706 , propensities.sum():  0.0 , propensities of node 926:  [0. 0. 0. 0. 0. 0. 0. 0. 0. 0. 0. 0. 0. 0. 0. 0. 0. 0. 0. 0. 0. 0. 0.]\n",
      "    calling model.run_iteration(), time:  3.4499999999999704 , propensities.sum():  0.0 , propensities of node 926:  [0. 0. 0. 0. 0. 0. 0. 0. 0. 0. 0. 0. 0. 0. 0. 0. 0. 0. 0. 0. 0. 0. 0.]\n",
      "    calling model.run_iteration(), time:  3.45999999999997 , propensities.sum():  0.0 , propensities of node 926:  [0. 0. 0. 0. 0. 0. 0. 0. 0. 0. 0. 0. 0. 0. 0. 0. 0. 0. 0. 0. 0. 0. 0.]\n",
      "    calling model.run_iteration(), time:  3.46999999999997 , propensities.sum():  0.0 , propensities of node 926:  [0. 0. 0. 0. 0. 0. 0. 0. 0. 0. 0. 0. 0. 0. 0. 0. 0. 0. 0. 0. 0. 0. 0.]\n",
      "    calling model.run_iteration(), time:  3.47999999999997 , propensities.sum():  0.0 , propensities of node 926:  [0. 0. 0. 0. 0. 0. 0. 0. 0. 0. 0. 0. 0. 0. 0. 0. 0. 0. 0. 0. 0. 0. 0.]\n",
      "    calling model.run_iteration(), time:  3.4899999999999696 , propensities.sum():  0.0 , propensities of node 926:  [0. 0. 0. 0. 0. 0. 0. 0. 0. 0. 0. 0. 0. 0. 0. 0. 0. 0. 0. 0. 0. 0. 0.]\n",
      "    calling model.run_iteration(), time:  3.4999999999999694 , propensities.sum():  0.0 , propensities of node 926:  [0. 0. 0. 0. 0. 0. 0. 0. 0. 0. 0. 0. 0. 0. 0. 0. 0. 0. 0. 0. 0. 0. 0.]\n",
      "    calling model.run_iteration(), time:  3.509999999999969 , propensities.sum():  0.0 , propensities of node 926:  [0. 0. 0. 0. 0. 0. 0. 0. 0. 0. 0. 0. 0. 0. 0. 0. 0. 0. 0. 0. 0. 0. 0.]\n",
      "    calling model.run_iteration(), time:  3.519999999999969 , propensities.sum():  0.0 , propensities of node 926:  [0. 0. 0. 0. 0. 0. 0. 0. 0. 0. 0. 0. 0. 0. 0. 0. 0. 0. 0. 0. 0. 0. 0.]\n",
      "    calling model.run_iteration(), time:  3.5299999999999687 , propensities.sum():  0.0 , propensities of node 926:  [0. 0. 0. 0. 0. 0. 0. 0. 0. 0. 0. 0. 0. 0. 0. 0. 0. 0. 0. 0. 0. 0. 0.]\n",
      "    calling model.run_iteration(), time:  3.5399999999999685 , propensities.sum():  0.0 , propensities of node 926:  [0. 0. 0. 0. 0. 0. 0. 0. 0. 0. 0. 0. 0. 0. 0. 0. 0. 0. 0. 0. 0. 0. 0.]\n",
      "    calling model.run_iteration(), time:  3.5499999999999683 , propensities.sum():  0.0 , propensities of node 926:  [0. 0. 0. 0. 0. 0. 0. 0. 0. 0. 0. 0. 0. 0. 0. 0. 0. 0. 0. 0. 0. 0. 0.]\n",
      "    calling model.run_iteration(), time:  3.559999999999968 , propensities.sum():  0.0 , propensities of node 926:  [0. 0. 0. 0. 0. 0. 0. 0. 0. 0. 0. 0. 0. 0. 0. 0. 0. 0. 0. 0. 0. 0. 0.]\n",
      "    calling model.run_iteration(), time:  3.569999999999968 , propensities.sum():  0.0 , propensities of node 926:  [0. 0. 0. 0. 0. 0. 0. 0. 0. 0. 0. 0. 0. 0. 0. 0. 0. 0. 0. 0. 0. 0. 0.]\n",
      "    calling model.run_iteration(), time:  3.5799999999999677 , propensities.sum():  0.0 , propensities of node 926:  [0. 0. 0. 0. 0. 0. 0. 0. 0. 0. 0. 0. 0. 0. 0. 0. 0. 0. 0. 0. 0. 0. 0.]\n",
      "    calling model.run_iteration(), time:  3.5899999999999674 , propensities.sum():  0.0 , propensities of node 926:  [0. 0. 0. 0. 0. 0. 0. 0. 0. 0. 0. 0. 0. 0. 0. 0. 0. 0. 0. 0. 0. 0. 0.]\n",
      "    calling model.run_iteration(), time:  3.5999999999999672 , propensities.sum():  0.0 , propensities of node 926:  [0. 0. 0. 0. 0. 0. 0. 0. 0. 0. 0. 0. 0. 0. 0. 0. 0. 0. 0. 0. 0. 0. 0.]\n",
      "    calling model.run_iteration(), time:  3.609999999999967 , propensities.sum():  0.0 , propensities of node 926:  [0. 0. 0. 0. 0. 0. 0. 0. 0. 0. 0. 0. 0. 0. 0. 0. 0. 0. 0. 0. 0. 0. 0.]\n",
      "    calling model.run_iteration(), time:  3.619999999999967 , propensities.sum():  0.0 , propensities of node 926:  [0. 0. 0. 0. 0. 0. 0. 0. 0. 0. 0. 0. 0. 0. 0. 0. 0. 0. 0. 0. 0. 0. 0.]\n",
      "    calling model.run_iteration(), time:  3.6299999999999666 , propensities.sum():  0.0 , propensities of node 926:  [0. 0. 0. 0. 0. 0. 0. 0. 0. 0. 0. 0. 0. 0. 0. 0. 0. 0. 0. 0. 0. 0. 0.]\n",
      "    calling model.run_iteration(), time:  3.6399999999999664 , propensities.sum():  0.0 , propensities of node 926:  [0. 0. 0. 0. 0. 0. 0. 0. 0. 0. 0. 0. 0. 0. 0. 0. 0. 0. 0. 0. 0. 0. 0.]\n",
      "    calling model.run_iteration(), time:  3.649999999999966 , propensities.sum():  0.0 , propensities of node 926:  [0. 0. 0. 0. 0. 0. 0. 0. 0. 0. 0. 0. 0. 0. 0. 0. 0. 0. 0. 0. 0. 0. 0.]\n",
      "    calling model.run_iteration(), time:  3.659999999999966 , propensities.sum():  0.0 , propensities of node 926:  [0. 0. 0. 0. 0. 0. 0. 0. 0. 0. 0. 0. 0. 0. 0. 0. 0. 0. 0. 0. 0. 0. 0.]\n",
      "    calling model.run_iteration(), time:  3.6699999999999657 , propensities.sum():  0.0 , propensities of node 926:  [0. 0. 0. 0. 0. 0. 0. 0. 0. 0. 0. 0. 0. 0. 0. 0. 0. 0. 0. 0. 0. 0. 0.]\n",
      "    calling model.run_iteration(), time:  3.6799999999999655 , propensities.sum():  0.0 , propensities of node 926:  [0. 0. 0. 0. 0. 0. 0. 0. 0. 0. 0. 0. 0. 0. 0. 0. 0. 0. 0. 0. 0. 0. 0.]\n",
      "    calling model.run_iteration(), time:  3.6899999999999653 , propensities.sum():  0.0 , propensities of node 926:  [0. 0. 0. 0. 0. 0. 0. 0. 0. 0. 0. 0. 0. 0. 0. 0. 0. 0. 0. 0. 0. 0. 0.]\n",
      "    calling model.run_iteration(), time:  3.699999999999965 , propensities.sum():  0.0 , propensities of node 926:  [0. 0. 0. 0. 0. 0. 0. 0. 0. 0. 0. 0. 0. 0. 0. 0. 0. 0. 0. 0. 0. 0. 0.]\n",
      "    calling model.run_iteration(), time:  3.709999999999965 , propensities.sum():  0.0 , propensities of node 926:  [0. 0. 0. 0. 0. 0. 0. 0. 0. 0. 0. 0. 0. 0. 0. 0. 0. 0. 0. 0. 0. 0. 0.]\n",
      "    calling model.run_iteration(), time:  3.7199999999999647 , propensities.sum():  0.0 , propensities of node 926:  [0. 0. 0. 0. 0. 0. 0. 0. 0. 0. 0. 0. 0. 0. 0. 0. 0. 0. 0. 0. 0. 0. 0.]\n",
      "    calling model.run_iteration(), time:  3.7299999999999645 , propensities.sum():  0.0 , propensities of node 926:  [0. 0. 0. 0. 0. 0. 0. 0. 0. 0. 0. 0. 0. 0. 0. 0. 0. 0. 0. 0. 0. 0. 0.]\n",
      "    calling model.run_iteration(), time:  3.7399999999999642 , propensities.sum():  0.0 , propensities of node 926:  [0. 0. 0. 0. 0. 0. 0. 0. 0. 0. 0. 0. 0. 0. 0. 0. 0. 0. 0. 0. 0. 0. 0.]\n",
      "    calling model.run_iteration(), time:  3.749999999999964 , propensities.sum():  0.0 , propensities of node 926:  [0. 0. 0. 0. 0. 0. 0. 0. 0. 0. 0. 0. 0. 0. 0. 0. 0. 0. 0. 0. 0. 0. 0.]\n",
      "    calling model.run_iteration(), time:  3.759999999999964 , propensities.sum():  0.0 , propensities of node 926:  [0. 0. 0. 0. 0. 0. 0. 0. 0. 0. 0. 0. 0. 0. 0. 0. 0. 0. 0. 0. 0. 0. 0.]\n",
      "    calling model.run_iteration(), time:  3.7699999999999636 , propensities.sum():  0.0 , propensities of node 926:  [0. 0. 0. 0. 0. 0. 0. 0. 0. 0. 0. 0. 0. 0. 0. 0. 0. 0. 0. 0. 0. 0. 0.]\n",
      "    calling model.run_iteration(), time:  3.7799999999999634 , propensities.sum():  0.0 , propensities of node 926:  [0. 0. 0. 0. 0. 0. 0. 0. 0. 0. 0. 0. 0. 0. 0. 0. 0. 0. 0. 0. 0. 0. 0.]\n",
      "    calling model.run_iteration(), time:  3.789999999999963 , propensities.sum():  0.0 , propensities of node 926:  [0. 0. 0. 0. 0. 0. 0. 0. 0. 0. 0. 0. 0. 0. 0. 0. 0. 0. 0. 0. 0. 0. 0.]\n",
      "    calling model.run_iteration(), time:  3.799999999999963 , propensities.sum():  0.0 , propensities of node 926:  [0. 0. 0. 0. 0. 0. 0. 0. 0. 0. 0. 0. 0. 0. 0. 0. 0. 0. 0. 0. 0. 0. 0.]\n",
      "    calling model.run_iteration(), time:  3.8099999999999627 , propensities.sum():  0.0 , propensities of node 926:  [0. 0. 0. 0. 0. 0. 0. 0. 0. 0. 0. 0. 0. 0. 0. 0. 0. 0. 0. 0. 0. 0. 0.]\n",
      "    calling model.run_iteration(), time:  3.8199999999999625 , propensities.sum():  0.0 , propensities of node 926:  [0. 0. 0. 0. 0. 0. 0. 0. 0. 0. 0. 0. 0. 0. 0. 0. 0. 0. 0. 0. 0. 0. 0.]\n",
      "    calling model.run_iteration(), time:  3.8299999999999623 , propensities.sum():  0.0 , propensities of node 926:  [0. 0. 0. 0. 0. 0. 0. 0. 0. 0. 0. 0. 0. 0. 0. 0. 0. 0. 0. 0. 0. 0. 0.]\n",
      "    calling model.run_iteration(), time:  3.839999999999962 , propensities.sum():  0.0 , propensities of node 926:  [0. 0. 0. 0. 0. 0. 0. 0. 0. 0. 0. 0. 0. 0. 0. 0. 0. 0. 0. 0. 0. 0. 0.]\n",
      "    calling model.run_iteration(), time:  3.849999999999962 , propensities.sum():  0.0 , propensities of node 926:  [0. 0. 0. 0. 0. 0. 0. 0. 0. 0. 0. 0. 0. 0. 0. 0. 0. 0. 0. 0. 0. 0. 0.]\n",
      "    calling model.run_iteration(), time:  3.8599999999999617 , propensities.sum():  0.0 , propensities of node 926:  [0. 0. 0. 0. 0. 0. 0. 0. 0. 0. 0. 0. 0. 0. 0. 0. 0. 0. 0. 0. 0. 0. 0.]\n",
      "    calling model.run_iteration(), time:  3.8699999999999615 , propensities.sum():  0.0 , propensities of node 926:  [0. 0. 0. 0. 0. 0. 0. 0. 0. 0. 0. 0. 0. 0. 0. 0. 0. 0. 0. 0. 0. 0. 0.]\n",
      "    calling model.run_iteration(), time:  3.8799999999999613 , propensities.sum():  0.0 , propensities of node 926:  [0. 0. 0. 0. 0. 0. 0. 0. 0. 0. 0. 0. 0. 0. 0. 0. 0. 0. 0. 0. 0. 0. 0.]\n",
      "    calling model.run_iteration(), time:  3.889999999999961 , propensities.sum():  0.0 , propensities of node 926:  [0. 0. 0. 0. 0. 0. 0. 0. 0. 0. 0. 0. 0. 0. 0. 0. 0. 0. 0. 0. 0. 0. 0.]\n",
      "    calling model.run_iteration(), time:  3.899999999999961 , propensities.sum():  0.0 , propensities of node 926:  [0. 0. 0. 0. 0. 0. 0. 0. 0. 0. 0. 0. 0. 0. 0. 0. 0. 0. 0. 0. 0. 0. 0.]\n",
      "    calling model.run_iteration(), time:  3.9099999999999606 , propensities.sum():  0.0 , propensities of node 926:  [0. 0. 0. 0. 0. 0. 0. 0. 0. 0. 0. 0. 0. 0. 0. 0. 0. 0. 0. 0. 0. 0. 0.]\n",
      "    calling model.run_iteration(), time:  3.9199999999999604 , propensities.sum():  0.0 , propensities of node 926:  [0. 0. 0. 0. 0. 0. 0. 0. 0. 0. 0. 0. 0. 0. 0. 0. 0. 0. 0. 0. 0. 0. 0.]\n",
      "    calling model.run_iteration(), time:  3.92999999999996 , propensities.sum():  0.0 , propensities of node 926:  [0. 0. 0. 0. 0. 0. 0. 0. 0. 0. 0. 0. 0. 0. 0. 0. 0. 0. 0. 0. 0. 0. 0.]\n",
      "    calling model.run_iteration(), time:  3.93999999999996 , propensities.sum():  0.0 , propensities of node 926:  [0. 0. 0. 0. 0. 0. 0. 0. 0. 0. 0. 0. 0. 0. 0. 0. 0. 0. 0. 0. 0. 0. 0.]\n",
      "    calling model.run_iteration(), time:  3.9499999999999598 , propensities.sum():  0.0 , propensities of node 926:  [0. 0. 0. 0. 0. 0. 0. 0. 0. 0. 0. 0. 0. 0. 0. 0. 0. 0. 0. 0. 0. 0. 0.]\n",
      "    calling model.run_iteration(), time:  3.9599999999999596 , propensities.sum():  0.0 , propensities of node 926:  [0. 0. 0. 0. 0. 0. 0. 0. 0. 0. 0. 0. 0. 0. 0. 0. 0. 0. 0. 0. 0. 0. 0.]\n",
      "    calling model.run_iteration(), time:  3.9699999999999593 , propensities.sum():  0.0 , propensities of node 926:  [0. 0. 0. 0. 0. 0. 0. 0. 0. 0. 0. 0. 0. 0. 0. 0. 0. 0. 0. 0. 0. 0. 0.]\n",
      "    calling model.run_iteration(), time:  3.979999999999959 , propensities.sum():  0.0 , propensities of node 926:  [0. 0. 0. 0. 0. 0. 0. 0. 0. 0. 0. 0. 0. 0. 0. 0. 0. 0. 0. 0. 0. 0. 0.]\n",
      "    calling model.run_iteration(), time:  3.989999999999959 , propensities.sum():  0.0 , propensities of node 926:  [0. 0. 0. 0. 0. 0. 0. 0. 0. 0. 0. 0. 0. 0. 0. 0. 0. 0. 0. 0. 0. 0. 0.]\n",
      "    calling model.run_iteration(), time:  3.9999999999999587 , propensities.sum():  0.0 , propensities of node 926:  [0. 0. 0. 0. 0. 0. 0. 0. 0. 0. 0. 0. 0. 0. 0. 0. 0. 0. 0. 0. 0. 0. 0.]\n",
      "Running screening for group 4 on day 4...\n"
     ]
    },
    {
     "name": "stderr",
     "output_type": "stream",
     "text": [
      "Computing transition probabilities: 100%|██████████| 100/100 [00:00<00:00, 447.70it/s]\n",
      "Generating walks (CPU: 1): 100%|██████████| 10/10 [00:00<00:00, 35.92it/s]\n"
     ]
    },
    {
     "name": "stdout",
     "output_type": "stream",
     "text": [
      "Screening day:  4  self.model.t:  4.009999999999959\n",
      "    calling model.run_iteration(), time:  4.009999999999959 , propensities.sum():  0.0 , propensities of node 926:  [0. 0. 0. 0. 0. 0. 0. 0. 0. 0. 0. 0. 0. 0. 0. 0. 0. 0. 0. 0. 0. 0. 0.]\n",
      "    calling model.run_iteration(), time:  4.019999999999959 , propensities.sum():  0.0 , propensities of node 926:  [0. 0. 0. 0. 0. 0. 0. 0. 0. 0. 0. 0. 0. 0. 0. 0. 0. 0. 0. 0. 0. 0. 0.]\n",
      "    calling model.run_iteration(), time:  4.0299999999999585 , propensities.sum():  0.0 , propensities of node 926:  [0. 0. 0. 0. 0. 0. 0. 0. 0. 0. 0. 0. 0. 0. 0. 0. 0. 0. 0. 0. 0. 0. 0.]\n",
      "    calling model.run_iteration(), time:  4.039999999999958 , propensities.sum():  0.0 , propensities of node 926:  [0. 0. 0. 0. 0. 0. 0. 0. 0. 0. 0. 0. 0. 0. 0. 0. 0. 0. 0. 0. 0. 0. 0.]\n",
      "    calling model.run_iteration(), time:  4.049999999999958 , propensities.sum():  0.0 , propensities of node 926:  [0. 0. 0. 0. 0. 0. 0. 0. 0. 0. 0. 0. 0. 0. 0. 0. 0. 0. 0. 0. 0. 0. 0.]\n",
      "    calling model.run_iteration(), time:  4.059999999999958 , propensities.sum():  0.0 , propensities of node 926:  [0. 0. 0. 0. 0. 0. 0. 0. 0. 0. 0. 0. 0. 0. 0. 0. 0. 0. 0. 0. 0. 0. 0.]\n",
      "    calling model.run_iteration(), time:  4.069999999999958 , propensities.sum():  0.0 , propensities of node 926:  [0. 0. 0. 0. 0. 0. 0. 0. 0. 0. 0. 0. 0. 0. 0. 0. 0. 0. 0. 0. 0. 0. 0.]\n",
      "    calling model.run_iteration(), time:  4.079999999999957 , propensities.sum():  0.0 , propensities of node 926:  [0. 0. 0. 0. 0. 0. 0. 0. 0. 0. 0. 0. 0. 0. 0. 0. 0. 0. 0. 0. 0. 0. 0.]\n",
      "    calling model.run_iteration(), time:  4.089999999999957 , propensities.sum():  0.0 , propensities of node 926:  [0. 0. 0. 0. 0. 0. 0. 0. 0. 0. 0. 0. 0. 0. 0. 0. 0. 0. 0. 0. 0. 0. 0.]\n",
      "    calling model.run_iteration(), time:  4.099999999999957 , propensities.sum():  0.0 , propensities of node 926:  [0. 0. 0. 0. 0. 0. 0. 0. 0. 0. 0. 0. 0. 0. 0. 0. 0. 0. 0. 0. 0. 0. 0.]\n",
      "    calling model.run_iteration(), time:  4.109999999999957 , propensities.sum():  0.0 , propensities of node 926:  [0. 0. 0. 0. 0. 0. 0. 0. 0. 0. 0. 0. 0. 0. 0. 0. 0. 0. 0. 0. 0. 0. 0.]\n",
      "    calling model.run_iteration(), time:  4.119999999999957 , propensities.sum():  0.0 , propensities of node 926:  [0. 0. 0. 0. 0. 0. 0. 0. 0. 0. 0. 0. 0. 0. 0. 0. 0. 0. 0. 0. 0. 0. 0.]\n",
      "    calling model.run_iteration(), time:  4.129999999999956 , propensities.sum():  0.0 , propensities of node 926:  [0. 0. 0. 0. 0. 0. 0. 0. 0. 0. 0. 0. 0. 0. 0. 0. 0. 0. 0. 0. 0. 0. 0.]\n",
      "    calling model.run_iteration(), time:  4.139999999999956 , propensities.sum():  0.0 , propensities of node 926:  [0. 0. 0. 0. 0. 0. 0. 0. 0. 0. 0. 0. 0. 0. 0. 0. 0. 0. 0. 0. 0. 0. 0.]\n",
      "    calling model.run_iteration(), time:  4.149999999999956 , propensities.sum():  0.0 , propensities of node 926:  [0. 0. 0. 0. 0. 0. 0. 0. 0. 0. 0. 0. 0. 0. 0. 0. 0. 0. 0. 0. 0. 0. 0.]\n",
      "    calling model.run_iteration(), time:  4.159999999999956 , propensities.sum():  0.0 , propensities of node 926:  [0. 0. 0. 0. 0. 0. 0. 0. 0. 0. 0. 0. 0. 0. 0. 0. 0. 0. 0. 0. 0. 0. 0.]\n",
      "    calling model.run_iteration(), time:  4.1699999999999555 , propensities.sum():  0.0 , propensities of node 926:  [0. 0. 0. 0. 0. 0. 0. 0. 0. 0. 0. 0. 0. 0. 0. 0. 0. 0. 0. 0. 0. 0. 0.]\n",
      "    calling model.run_iteration(), time:  4.179999999999955 , propensities.sum():  0.0 , propensities of node 926:  [0. 0. 0. 0. 0. 0. 0. 0. 0. 0. 0. 0. 0. 0. 0. 0. 0. 0. 0. 0. 0. 0. 0.]\n",
      "    calling model.run_iteration(), time:  4.189999999999955 , propensities.sum():  0.0 , propensities of node 926:  [0. 0. 0. 0. 0. 0. 0. 0. 0. 0. 0. 0. 0. 0. 0. 0. 0. 0. 0. 0. 0. 0. 0.]\n",
      "    calling model.run_iteration(), time:  4.199999999999955 , propensities.sum():  0.0 , propensities of node 926:  [0. 0. 0. 0. 0. 0. 0. 0. 0. 0. 0. 0. 0. 0. 0. 0. 0. 0. 0. 0. 0. 0. 0.]\n",
      "    calling model.run_iteration(), time:  4.209999999999955 , propensities.sum():  0.0 , propensities of node 926:  [0. 0. 0. 0. 0. 0. 0. 0. 0. 0. 0. 0. 0. 0. 0. 0. 0. 0. 0. 0. 0. 0. 0.]\n",
      "    calling model.run_iteration(), time:  4.2199999999999545 , propensities.sum():  0.0 , propensities of node 926:  [0. 0. 0. 0. 0. 0. 0. 0. 0. 0. 0. 0. 0. 0. 0. 0. 0. 0. 0. 0. 0. 0. 0.]\n",
      "    calling model.run_iteration(), time:  4.229999999999954 , propensities.sum():  0.0 , propensities of node 926:  [0. 0. 0. 0. 0. 0. 0. 0. 0. 0. 0. 0. 0. 0. 0. 0. 0. 0. 0. 0. 0. 0. 0.]\n",
      "    calling model.run_iteration(), time:  4.239999999999954 , propensities.sum():  0.0 , propensities of node 926:  [0. 0. 0. 0. 0. 0. 0. 0. 0. 0. 0. 0. 0. 0. 0. 0. 0. 0. 0. 0. 0. 0. 0.]\n",
      "    calling model.run_iteration(), time:  4.249999999999954 , propensities.sum():  0.0 , propensities of node 926:  [0. 0. 0. 0. 0. 0. 0. 0. 0. 0. 0. 0. 0. 0. 0. 0. 0. 0. 0. 0. 0. 0. 0.]\n",
      "    calling model.run_iteration(), time:  4.259999999999954 , propensities.sum():  0.0 , propensities of node 926:  [0. 0. 0. 0. 0. 0. 0. 0. 0. 0. 0. 0. 0. 0. 0. 0. 0. 0. 0. 0. 0. 0. 0.]\n",
      "    calling model.run_iteration(), time:  4.269999999999953 , propensities.sum():  0.0 , propensities of node 926:  [0. 0. 0. 0. 0. 0. 0. 0. 0. 0. 0. 0. 0. 0. 0. 0. 0. 0. 0. 0. 0. 0. 0.]\n",
      "    calling model.run_iteration(), time:  4.279999999999953 , propensities.sum():  0.0 , propensities of node 926:  [0. 0. 0. 0. 0. 0. 0. 0. 0. 0. 0. 0. 0. 0. 0. 0. 0. 0. 0. 0. 0. 0. 0.]\n",
      "    calling model.run_iteration(), time:  4.289999999999953 , propensities.sum():  0.0 , propensities of node 926:  [0. 0. 0. 0. 0. 0. 0. 0. 0. 0. 0. 0. 0. 0. 0. 0. 0. 0. 0. 0. 0. 0. 0.]\n",
      "    calling model.run_iteration(), time:  4.299999999999953 , propensities.sum():  0.0 , propensities of node 926:  [0. 0. 0. 0. 0. 0. 0. 0. 0. 0. 0. 0. 0. 0. 0. 0. 0. 0. 0. 0. 0. 0. 0.]\n",
      "    calling model.run_iteration(), time:  4.3099999999999525 , propensities.sum():  0.0 , propensities of node 926:  [0. 0. 0. 0. 0. 0. 0. 0. 0. 0. 0. 0. 0. 0. 0. 0. 0. 0. 0. 0. 0. 0. 0.]\n",
      "    calling model.run_iteration(), time:  4.319999999999952 , propensities.sum():  0.0 , propensities of node 926:  [0. 0. 0. 0. 0. 0. 0. 0. 0. 0. 0. 0. 0. 0. 0. 0. 0. 0. 0. 0. 0. 0. 0.]\n",
      "    calling model.run_iteration(), time:  4.329999999999952 , propensities.sum():  0.0 , propensities of node 926:  [0. 0. 0. 0. 0. 0. 0. 0. 0. 0. 0. 0. 0. 0. 0. 0. 0. 0. 0. 0. 0. 0. 0.]\n",
      "    calling model.run_iteration(), time:  4.339999999999952 , propensities.sum():  0.0 , propensities of node 926:  [0. 0. 0. 0. 0. 0. 0. 0. 0. 0. 0. 0. 0. 0. 0. 0. 0. 0. 0. 0. 0. 0. 0.]\n",
      "    calling model.run_iteration(), time:  4.349999999999952 , propensities.sum():  0.0 , propensities of node 926:  [0. 0. 0. 0. 0. 0. 0. 0. 0. 0. 0. 0. 0. 0. 0. 0. 0. 0. 0. 0. 0. 0. 0.]\n",
      "    calling model.run_iteration(), time:  4.3599999999999515 , propensities.sum():  0.0 , propensities of node 926:  [0. 0. 0. 0. 0. 0. 0. 0. 0. 0. 0. 0. 0. 0. 0. 0. 0. 0. 0. 0. 0. 0. 0.]\n",
      "    calling model.run_iteration(), time:  4.369999999999951 , propensities.sum():  0.0 , propensities of node 926:  [0. 0. 0. 0. 0. 0. 0. 0. 0. 0. 0. 0. 0. 0. 0. 0. 0. 0. 0. 0. 0. 0. 0.]\n",
      "    calling model.run_iteration(), time:  4.379999999999951 , propensities.sum():  0.0 , propensities of node 926:  [0. 0. 0. 0. 0. 0. 0. 0. 0. 0. 0. 0. 0. 0. 0. 0. 0. 0. 0. 0. 0. 0. 0.]\n",
      "    calling model.run_iteration(), time:  4.389999999999951 , propensities.sum():  0.0 , propensities of node 926:  [0. 0. 0. 0. 0. 0. 0. 0. 0. 0. 0. 0. 0. 0. 0. 0. 0. 0. 0. 0. 0. 0. 0.]\n",
      "    calling model.run_iteration(), time:  4.399999999999951 , propensities.sum():  0.0 , propensities of node 926:  [0. 0. 0. 0. 0. 0. 0. 0. 0. 0. 0. 0. 0. 0. 0. 0. 0. 0. 0. 0. 0. 0. 0.]\n",
      "    calling model.run_iteration(), time:  4.40999999999995 , propensities.sum():  0.0 , propensities of node 926:  [0. 0. 0. 0. 0. 0. 0. 0. 0. 0. 0. 0. 0. 0. 0. 0. 0. 0. 0. 0. 0. 0. 0.]\n",
      "    calling model.run_iteration(), time:  4.41999999999995 , propensities.sum():  0.0 , propensities of node 926:  [0. 0. 0. 0. 0. 0. 0. 0. 0. 0. 0. 0. 0. 0. 0. 0. 0. 0. 0. 0. 0. 0. 0.]\n",
      "    calling model.run_iteration(), time:  4.42999999999995 , propensities.sum():  0.0 , propensities of node 926:  [0. 0. 0. 0. 0. 0. 0. 0. 0. 0. 0. 0. 0. 0. 0. 0. 0. 0. 0. 0. 0. 0. 0.]\n",
      "    calling model.run_iteration(), time:  4.43999999999995 , propensities.sum():  0.0 , propensities of node 926:  [0. 0. 0. 0. 0. 0. 0. 0. 0. 0. 0. 0. 0. 0. 0. 0. 0. 0. 0. 0. 0. 0. 0.]\n",
      "    calling model.run_iteration(), time:  4.4499999999999496 , propensities.sum():  0.0 , propensities of node 926:  [0. 0. 0. 0. 0. 0. 0. 0. 0. 0. 0. 0. 0. 0. 0. 0. 0. 0. 0. 0. 0. 0. 0.]\n",
      "    calling model.run_iteration(), time:  4.459999999999949 , propensities.sum():  0.0 , propensities of node 926:  [0. 0. 0. 0. 0. 0. 0. 0. 0. 0. 0. 0. 0. 0. 0. 0. 0. 0. 0. 0. 0. 0. 0.]\n",
      "    calling model.run_iteration(), time:  4.469999999999949 , propensities.sum():  0.0 , propensities of node 926:  [0. 0. 0. 0. 0. 0. 0. 0. 0. 0. 0. 0. 0. 0. 0. 0. 0. 0. 0. 0. 0. 0. 0.]\n",
      "    calling model.run_iteration(), time:  4.479999999999949 , propensities.sum():  0.0 , propensities of node 926:  [0. 0. 0. 0. 0. 0. 0. 0. 0. 0. 0. 0. 0. 0. 0. 0. 0. 0. 0. 0. 0. 0. 0.]\n",
      "    calling model.run_iteration(), time:  4.489999999999949 , propensities.sum():  0.0 , propensities of node 926:  [0. 0. 0. 0. 0. 0. 0. 0. 0. 0. 0. 0. 0. 0. 0. 0. 0. 0. 0. 0. 0. 0. 0.]\n",
      "    calling model.run_iteration(), time:  4.4999999999999485 , propensities.sum():  0.0 , propensities of node 926:  [0. 0. 0. 0. 0. 0. 0. 0. 0. 0. 0. 0. 0. 0. 0. 0. 0. 0. 0. 0. 0. 0. 0.]\n",
      "    calling model.run_iteration(), time:  4.509999999999948 , propensities.sum():  0.0 , propensities of node 926:  [0. 0. 0. 0. 0. 0. 0. 0. 0. 0. 0. 0. 0. 0. 0. 0. 0. 0. 0. 0. 0. 0. 0.]\n",
      "    calling model.run_iteration(), time:  4.519999999999948 , propensities.sum():  0.0 , propensities of node 926:  [0. 0. 0. 0. 0. 0. 0. 0. 0. 0. 0. 0. 0. 0. 0. 0. 0. 0. 0. 0. 0. 0. 0.]\n",
      "    calling model.run_iteration(), time:  4.529999999999948 , propensities.sum():  0.0 , propensities of node 926:  [0. 0. 0. 0. 0. 0. 0. 0. 0. 0. 0. 0. 0. 0. 0. 0. 0. 0. 0. 0. 0. 0. 0.]\n",
      "    calling model.run_iteration(), time:  4.539999999999948 , propensities.sum():  0.0 , propensities of node 926:  [0. 0. 0. 0. 0. 0. 0. 0. 0. 0. 0. 0. 0. 0. 0. 0. 0. 0. 0. 0. 0. 0. 0.]\n",
      "    calling model.run_iteration(), time:  4.549999999999947 , propensities.sum():  0.0 , propensities of node 926:  [0. 0. 0. 0. 0. 0. 0. 0. 0. 0. 0. 0. 0. 0. 0. 0. 0. 0. 0. 0. 0. 0. 0.]\n",
      "    calling model.run_iteration(), time:  4.559999999999947 , propensities.sum():  0.0 , propensities of node 926:  [0. 0. 0. 0. 0. 0. 0. 0. 0. 0. 0. 0. 0. 0. 0. 0. 0. 0. 0. 0. 0. 0. 0.]\n",
      "    calling model.run_iteration(), time:  4.569999999999947 , propensities.sum():  0.0 , propensities of node 926:  [0. 0. 0. 0. 0. 0. 0. 0. 0. 0. 0. 0. 0. 0. 0. 0. 0. 0. 0. 0. 0. 0. 0.]\n",
      "    calling model.run_iteration(), time:  4.579999999999947 , propensities.sum():  0.0 , propensities of node 926:  [0. 0. 0. 0. 0. 0. 0. 0. 0. 0. 0. 0. 0. 0. 0. 0. 0. 0. 0. 0. 0. 0. 0.]\n",
      "    calling model.run_iteration(), time:  4.589999999999947 , propensities.sum():  0.0 , propensities of node 926:  [0. 0. 0. 0. 0. 0. 0. 0. 0. 0. 0. 0. 0. 0. 0. 0. 0. 0. 0. 0. 0. 0. 0.]\n",
      "    calling model.run_iteration(), time:  4.599999999999946 , propensities.sum():  0.0 , propensities of node 926:  [0. 0. 0. 0. 0. 0. 0. 0. 0. 0. 0. 0. 0. 0. 0. 0. 0. 0. 0. 0. 0. 0. 0.]\n",
      "    calling model.run_iteration(), time:  4.609999999999946 , propensities.sum():  0.0 , propensities of node 926:  [0. 0. 0. 0. 0. 0. 0. 0. 0. 0. 0. 0. 0. 0. 0. 0. 0. 0. 0. 0. 0. 0. 0.]\n",
      "    calling model.run_iteration(), time:  4.619999999999946 , propensities.sum():  0.0 , propensities of node 926:  [0. 0. 0. 0. 0. 0. 0. 0. 0. 0. 0. 0. 0. 0. 0. 0. 0. 0. 0. 0. 0. 0. 0.]\n",
      "    calling model.run_iteration(), time:  4.629999999999946 , propensities.sum():  0.0 , propensities of node 926:  [0. 0. 0. 0. 0. 0. 0. 0. 0. 0. 0. 0. 0. 0. 0. 0. 0. 0. 0. 0. 0. 0. 0.]\n",
      "    calling model.run_iteration(), time:  4.6399999999999455 , propensities.sum():  0.0 , propensities of node 926:  [0. 0. 0. 0. 0. 0. 0. 0. 0. 0. 0. 0. 0. 0. 0. 0. 0. 0. 0. 0. 0. 0. 0.]\n",
      "    calling model.run_iteration(), time:  4.649999999999945 , propensities.sum():  0.0 , propensities of node 926:  [0. 0. 0. 0. 0. 0. 0. 0. 0. 0. 0. 0. 0. 0. 0. 0. 0. 0. 0. 0. 0. 0. 0.]\n",
      "    calling model.run_iteration(), time:  4.659999999999945 , propensities.sum():  0.0 , propensities of node 926:  [0. 0. 0. 0. 0. 0. 0. 0. 0. 0. 0. 0. 0. 0. 0. 0. 0. 0. 0. 0. 0. 0. 0.]\n",
      "    calling model.run_iteration(), time:  4.669999999999945 , propensities.sum():  0.0 , propensities of node 926:  [0. 0. 0. 0. 0. 0. 0. 0. 0. 0. 0. 0. 0. 0. 0. 0. 0. 0. 0. 0. 0. 0. 0.]\n",
      "    calling model.run_iteration(), time:  4.679999999999945 , propensities.sum():  0.0 , propensities of node 926:  [0. 0. 0. 0. 0. 0. 0. 0. 0. 0. 0. 0. 0. 0. 0. 0. 0. 0. 0. 0. 0. 0. 0.]\n",
      "    calling model.run_iteration(), time:  4.689999999999944 , propensities.sum():  0.0 , propensities of node 926:  [0. 0. 0. 0. 0. 0. 0. 0. 0. 0. 0. 0. 0. 0. 0. 0. 0. 0. 0. 0. 0. 0. 0.]\n",
      "    calling model.run_iteration(), time:  4.699999999999944 , propensities.sum():  0.0 , propensities of node 926:  [0. 0. 0. 0. 0. 0. 0. 0. 0. 0. 0. 0. 0. 0. 0. 0. 0. 0. 0. 0. 0. 0. 0.]\n",
      "    calling model.run_iteration(), time:  4.709999999999944 , propensities.sum():  0.0 , propensities of node 926:  [0. 0. 0. 0. 0. 0. 0. 0. 0. 0. 0. 0. 0. 0. 0. 0. 0. 0. 0. 0. 0. 0. 0.]\n",
      "    calling model.run_iteration(), time:  4.719999999999944 , propensities.sum():  0.0 , propensities of node 926:  [0. 0. 0. 0. 0. 0. 0. 0. 0. 0. 0. 0. 0. 0. 0. 0. 0. 0. 0. 0. 0. 0. 0.]\n",
      "    calling model.run_iteration(), time:  4.729999999999944 , propensities.sum():  0.0 , propensities of node 926:  [0. 0. 0. 0. 0. 0. 0. 0. 0. 0. 0. 0. 0. 0. 0. 0. 0. 0. 0. 0. 0. 0. 0.]\n",
      "    calling model.run_iteration(), time:  4.739999999999943 , propensities.sum():  0.0 , propensities of node 926:  [0. 0. 0. 0. 0. 0. 0. 0. 0. 0. 0. 0. 0. 0. 0. 0. 0. 0. 0. 0. 0. 0. 0.]\n",
      "    calling model.run_iteration(), time:  4.749999999999943 , propensities.sum():  0.0 , propensities of node 926:  [0. 0. 0. 0. 0. 0. 0. 0. 0. 0. 0. 0. 0. 0. 0. 0. 0. 0. 0. 0. 0. 0. 0.]\n",
      "    calling model.run_iteration(), time:  4.759999999999943 , propensities.sum():  0.0 , propensities of node 926:  [0. 0. 0. 0. 0. 0. 0. 0. 0. 0. 0. 0. 0. 0. 0. 0. 0. 0. 0. 0. 0. 0. 0.]\n",
      "    calling model.run_iteration(), time:  4.769999999999943 , propensities.sum():  0.0 , propensities of node 926:  [0. 0. 0. 0. 0. 0. 0. 0. 0. 0. 0. 0. 0. 0. 0. 0. 0. 0. 0. 0. 0. 0. 0.]\n",
      "    calling model.run_iteration(), time:  4.7799999999999425 , propensities.sum():  0.0 , propensities of node 926:  [0. 0. 0. 0. 0. 0. 0. 0. 0. 0. 0. 0. 0. 0. 0. 0. 0. 0. 0. 0. 0. 0. 0.]\n",
      "    calling model.run_iteration(), time:  4.789999999999942 , propensities.sum():  0.0 , propensities of node 926:  [0. 0. 0. 0. 0. 0. 0. 0. 0. 0. 0. 0. 0. 0. 0. 0. 0. 0. 0. 0. 0. 0. 0.]\n",
      "    calling model.run_iteration(), time:  4.799999999999942 , propensities.sum():  0.0 , propensities of node 926:  [0. 0. 0. 0. 0. 0. 0. 0. 0. 0. 0. 0. 0. 0. 0. 0. 0. 0. 0. 0. 0. 0. 0.]\n",
      "    calling model.run_iteration(), time:  4.809999999999942 , propensities.sum():  0.0 , propensities of node 926:  [0. 0. 0. 0. 0. 0. 0. 0. 0. 0. 0. 0. 0. 0. 0. 0. 0. 0. 0. 0. 0. 0. 0.]\n",
      "    calling model.run_iteration(), time:  4.819999999999942 , propensities.sum():  0.0 , propensities of node 926:  [0. 0. 0. 0. 0. 0. 0. 0. 0. 0. 0. 0. 0. 0. 0. 0. 0. 0. 0. 0. 0. 0. 0.]\n",
      "    calling model.run_iteration(), time:  4.8299999999999415 , propensities.sum():  0.0 , propensities of node 926:  [0. 0. 0. 0. 0. 0. 0. 0. 0. 0. 0. 0. 0. 0. 0. 0. 0. 0. 0. 0. 0. 0. 0.]\n",
      "    calling model.run_iteration(), time:  4.839999999999941 , propensities.sum():  0.0 , propensities of node 926:  [0. 0. 0. 0. 0. 0. 0. 0. 0. 0. 0. 0. 0. 0. 0. 0. 0. 0. 0. 0. 0. 0. 0.]\n",
      "    calling model.run_iteration(), time:  4.849999999999941 , propensities.sum():  0.0 , propensities of node 926:  [0. 0. 0. 0. 0. 0. 0. 0. 0. 0. 0. 0. 0. 0. 0. 0. 0. 0. 0. 0. 0. 0. 0.]\n",
      "    calling model.run_iteration(), time:  4.859999999999941 , propensities.sum():  0.0 , propensities of node 926:  [0. 0. 0. 0. 0. 0. 0. 0. 0. 0. 0. 0. 0. 0. 0. 0. 0. 0. 0. 0. 0. 0. 0.]\n",
      "    calling model.run_iteration(), time:  4.869999999999941 , propensities.sum():  0.0 , propensities of node 926:  [0. 0. 0. 0. 0. 0. 0. 0. 0. 0. 0. 0. 0. 0. 0. 0. 0. 0. 0. 0. 0. 0. 0.]\n",
      "    calling model.run_iteration(), time:  4.87999999999994 , propensities.sum():  0.0 , propensities of node 926:  [0. 0. 0. 0. 0. 0. 0. 0. 0. 0. 0. 0. 0. 0. 0. 0. 0. 0. 0. 0. 0. 0. 0.]\n",
      "    calling model.run_iteration(), time:  4.88999999999994 , propensities.sum():  0.0 , propensities of node 926:  [0. 0. 0. 0. 0. 0. 0. 0. 0. 0. 0. 0. 0. 0. 0. 0. 0. 0. 0. 0. 0. 0. 0.]\n",
      "    calling model.run_iteration(), time:  4.89999999999994 , propensities.sum():  0.0 , propensities of node 926:  [0. 0. 0. 0. 0. 0. 0. 0. 0. 0. 0. 0. 0. 0. 0. 0. 0. 0. 0. 0. 0. 0. 0.]\n",
      "    calling model.run_iteration(), time:  4.90999999999994 , propensities.sum():  0.0 , propensities of node 926:  [0. 0. 0. 0. 0. 0. 0. 0. 0. 0. 0. 0. 0. 0. 0. 0. 0. 0. 0. 0. 0. 0. 0.]\n",
      "    calling model.run_iteration(), time:  4.9199999999999395 , propensities.sum():  0.0 , propensities of node 926:  [0. 0. 0. 0. 0. 0. 0. 0. 0. 0. 0. 0. 0. 0. 0. 0. 0. 0. 0. 0. 0. 0. 0.]\n",
      "    calling model.run_iteration(), time:  4.929999999999939 , propensities.sum():  0.0 , propensities of node 926:  [0. 0. 0. 0. 0. 0. 0. 0. 0. 0. 0. 0. 0. 0. 0. 0. 0. 0. 0. 0. 0. 0. 0.]\n",
      "    calling model.run_iteration(), time:  4.939999999999939 , propensities.sum():  0.0 , propensities of node 926:  [0. 0. 0. 0. 0. 0. 0. 0. 0. 0. 0. 0. 0. 0. 0. 0. 0. 0. 0. 0. 0. 0. 0.]\n",
      "    calling model.run_iteration(), time:  4.949999999999939 , propensities.sum():  0.0 , propensities of node 926:  [0. 0. 0. 0. 0. 0. 0. 0. 0. 0. 0. 0. 0. 0. 0. 0. 0. 0. 0. 0. 0. 0. 0.]\n",
      "    calling model.run_iteration(), time:  4.959999999999939 , propensities.sum():  0.0 , propensities of node 926:  [0. 0. 0. 0. 0. 0. 0. 0. 0. 0. 0. 0. 0. 0. 0. 0. 0. 0. 0. 0. 0. 0. 0.]\n",
      "    calling model.run_iteration(), time:  4.9699999999999385 , propensities.sum():  0.0 , propensities of node 926:  [0. 0. 0. 0. 0. 0. 0. 0. 0. 0. 0. 0. 0. 0. 0. 0. 0. 0. 0. 0. 0. 0. 0.]\n",
      "    calling model.run_iteration(), time:  4.979999999999938 , propensities.sum():  0.0 , propensities of node 926:  [0. 0. 0. 0. 0. 0. 0. 0. 0. 0. 0. 0. 0. 0. 0. 0. 0. 0. 0. 0. 0. 0. 0.]\n",
      "    calling model.run_iteration(), time:  4.989999999999938 , propensities.sum():  0.0 , propensities of node 926:  [0. 0. 0. 0. 0. 0. 0. 0. 0. 0. 0. 0. 0. 0. 0. 0. 0. 0. 0. 0. 0. 0. 0.]\n",
      "    calling model.run_iteration(), time:  4.999999999999938 , propensities.sum():  0.0 , propensities of node 926:  [0. 0. 0. 0. 0. 0. 0. 0. 0. 0. 0. 0. 0. 0. 0. 0. 0. 0. 0. 0. 0. 0. 0.]\n",
      "Running screening for group 5 on day 5...\n"
     ]
    },
    {
     "name": "stderr",
     "output_type": "stream",
     "text": [
      "Computing transition probabilities: 100%|██████████| 100/100 [00:00<00:00, 910.98it/s]\n",
      "Generating walks (CPU: 1): 100%|██████████| 10/10 [00:00<00:00, 64.61it/s]\n"
     ]
    },
    {
     "name": "stdout",
     "output_type": "stream",
     "text": [
      "Screening day:  5  self.model.t:  5.009999999999938\n",
      "    calling model.run_iteration(), time:  5.009999999999938 , propensities.sum():  100000.0 , propensities of node 926:  [     0. 100000.      0.      0.      0.      0.      0.      0.      0.\n",
      "      0.      0.      0.      0.      0.      0.      0.      0.      0.\n",
      "      0.      0.      0.      0.      0.]\n",
      "{'t': 5.010002124151599, 'transitionNode': 926, 'transitionNodeVL': 5.010002124151599, 'transitionType': 'EtoIPRE'}\n",
      "    calling model.run_iteration(), time:  5.010002124151599 , propensities.sum():  4999999999.577196 , propensities of node 926:  [0. 0. 0. 0. 0. 0. 0. 0. 0. 0. 0. 0. 0. 0. 0. 0. 0. 0. 0. 0. 0. 0. 0.]\n",
      "{'t': 5.0100021242051485, 'transitionNode': 925, 'transitionNodeVL': 0.0, 'transitionType': 'StoE'}\n",
      "    calling model.run_iteration(), time:  5.0100021242051485 , propensities.sum():  3999999999.617196 , propensities of node 926:  [0. 0. 0. 0. 0. 0. 0. 0. 0. 0. 0. 0. 0. 0. 0. 0. 0. 0. 0. 0. 0. 0. 0.]\n",
      "{'t': 5.010002124242381, 'transitionNode': 546, 'transitionNodeVL': 0.0, 'transitionType': 'StoE'}\n",
      "    calling model.run_iteration(), time:  5.010002124242381 , propensities.sum():  2999999999.757196 , propensities of node 926:  [0. 0. 0. 0. 0. 0. 0. 0. 0. 0. 0. 0. 0. 0. 0. 0. 0. 0. 0. 0. 0. 0. 0.]\n",
      "{'t': 5.0100021243415185, 'transitionNode': 547, 'transitionNodeVL': 0.0, 'transitionType': 'StoE'}\n",
      "    calling model.run_iteration(), time:  5.0100021243415185 , propensities.sum():  1999999999.817196 , propensities of node 926:  [0. 0. 0. 0. 0. 0. 0. 0. 0. 0. 0. 0. 0. 0. 0. 0. 0. 0. 0. 0. 0. 0. 0.]\n",
      "{'t': 5.010002124667663, 'transitionNode': 545, 'transitionNodeVL': 0.0, 'transitionType': 'StoE'}\n",
      "    calling model.run_iteration(), time:  5.010002124667663 , propensities.sum():  999999999.9371958 , propensities of node 926:  [0. 0. 0. 0. 0. 0. 0. 0. 0. 0. 0. 0. 0. 0. 0. 0. 0. 0. 0. 0. 0. 0. 0.]\n",
      "{'t': 5.010002125343928, 'transitionNode': 927, 'transitionNodeVL': 0.0, 'transitionType': 'StoE'}\n",
      "    calling model.run_iteration(), time:  5.010002125343928 , propensities.sum():  0.017195767262433864 , propensities of node 926:  [0. 0. 0. 0. 0. 0. 0. 0. 0. 0. 0. 0. 0. 0. 0. 0. 0. 0. 0. 0. 0. 0. 0.]\n",
      "Running screening for group 6 on day 6...\n"
     ]
    },
    {
     "name": "stderr",
     "output_type": "stream",
     "text": [
      "Computing transition probabilities: 100%|██████████| 100/100 [00:00<00:00, 1427.03it/s]\n",
      "Generating walks (CPU: 1): 100%|██████████| 10/10 [00:00<00:00, 55.07it/s]\n"
     ]
    },
    {
     "name": "stdout",
     "output_type": "stream",
     "text": [
      "Screening day:  6  self.model.t:  20.010002125343927\n",
      "Running screening for group 7 on day 7...\n"
     ]
    },
    {
     "name": "stderr",
     "output_type": "stream",
     "text": [
      "Computing transition probabilities: 100%|██████████| 100/100 [00:00<00:00, 361.68it/s]\n",
      "Generating walks (CPU: 1): 100%|██████████| 10/10 [00:00<00:00, 54.97it/s]\n"
     ]
    },
    {
     "name": "stdout",
     "output_type": "stream",
     "text": [
      "Screening day:  7  self.model.t:  20.010002125343927\n",
      "Running screening for group 8 on day 8...\n"
     ]
    },
    {
     "name": "stderr",
     "output_type": "stream",
     "text": [
      "Computing transition probabilities: 100%|██████████| 100/100 [00:00<00:00, 1643.56it/s]\n",
      "Generating walks (CPU: 1): 100%|██████████| 10/10 [00:00<00:00, 46.58it/s]\n"
     ]
    },
    {
     "name": "stdout",
     "output_type": "stream",
     "text": [
      "Screening day:  8  self.model.t:  20.010002125343927\n",
      "Running screening for group 9 on day 9...\n"
     ]
    },
    {
     "name": "stderr",
     "output_type": "stream",
     "text": [
      "Computing transition probabilities: 100%|██████████| 100/100 [00:00<00:00, 484.70it/s]\n",
      "Generating walks (CPU: 1): 100%|██████████| 10/10 [00:00<00:00, 67.54it/s]\n"
     ]
    },
    {
     "name": "stdout",
     "output_type": "stream",
     "text": [
      "Screening day:  9  self.model.t:  20.010002125343927\n",
      "Running screening for group 0 on day 10...\n"
     ]
    },
    {
     "name": "stderr",
     "output_type": "stream",
     "text": [
      "Computing transition probabilities: 100%|██████████| 100/100 [00:00<00:00, 720.57it/s]\n",
      "Generating walks (CPU: 1): 100%|██████████| 10/10 [00:00<00:00, 44.80it/s]\n"
     ]
    },
    {
     "name": "stdout",
     "output_type": "stream",
     "text": [
      "Screening day:  10  self.model.t:  20.010002125343927\n",
      "Running screening for group 1 on day 11...\n"
     ]
    },
    {
     "name": "stderr",
     "output_type": "stream",
     "text": [
      "Computing transition probabilities: 100%|██████████| 100/100 [00:00<00:00, 1221.28it/s]\n",
      "Generating walks (CPU: 1): 100%|██████████| 10/10 [00:00<00:00, 32.54it/s]\n"
     ]
    },
    {
     "name": "stdout",
     "output_type": "stream",
     "text": [
      "Screening day:  11  self.model.t:  20.010002125343927\n",
      "Running screening for group 2 on day 12...\n"
     ]
    },
    {
     "name": "stderr",
     "output_type": "stream",
     "text": [
      "Computing transition probabilities: 100%|██████████| 100/100 [00:00<00:00, 1298.90it/s]\n",
      "Generating walks (CPU: 1): 100%|██████████| 10/10 [00:00<00:00, 50.97it/s]\n"
     ]
    },
    {
     "name": "stdout",
     "output_type": "stream",
     "text": [
      "Screening day:  12  self.model.t:  20.010002125343927\n",
      "Running screening for group 3 on day 13...\n"
     ]
    },
    {
     "name": "stderr",
     "output_type": "stream",
     "text": [
      "Computing transition probabilities: 100%|██████████| 100/100 [00:00<00:00, 491.12it/s]\n",
      "Generating walks (CPU: 1): 100%|██████████| 10/10 [00:00<00:00, 38.97it/s]\n"
     ]
    },
    {
     "name": "stdout",
     "output_type": "stream",
     "text": [
      "Screening day:  13  self.model.t:  20.010002125343927\n",
      "Running screening for group 4 on day 14...\n"
     ]
    },
    {
     "name": "stderr",
     "output_type": "stream",
     "text": [
      "Computing transition probabilities: 100%|██████████| 100/100 [00:00<00:00, 443.13it/s]\n",
      "Generating walks (CPU: 1): 100%|██████████| 10/10 [00:00<00:00, 32.82it/s]\n"
     ]
    },
    {
     "name": "stdout",
     "output_type": "stream",
     "text": [
      "Screening day:  14  self.model.t:  20.010002125343927\n",
      "Running screening for group 5 on day 15...\n"
     ]
    },
    {
     "name": "stderr",
     "output_type": "stream",
     "text": [
      "Computing transition probabilities: 100%|██████████| 100/100 [00:00<00:00, 598.48it/s]\n",
      "Generating walks (CPU: 1): 100%|██████████| 10/10 [00:00<00:00, 65.93it/s]\n"
     ]
    },
    {
     "name": "stdout",
     "output_type": "stream",
     "text": [
      "Screening day:  15  self.model.t:  20.010002125343927\n",
      "Running screening for group 6 on day 16...\n"
     ]
    },
    {
     "name": "stderr",
     "output_type": "stream",
     "text": [
      "Computing transition probabilities: 100%|██████████| 100/100 [00:00<00:00, 979.78it/s]\n",
      "Generating walks (CPU: 1): 100%|██████████| 10/10 [00:00<00:00, 49.69it/s]\n"
     ]
    },
    {
     "name": "stdout",
     "output_type": "stream",
     "text": [
      "Screening day:  16  self.model.t:  20.010002125343927\n",
      "Running screening for group 7 on day 17...\n"
     ]
    },
    {
     "name": "stderr",
     "output_type": "stream",
     "text": [
      "Computing transition probabilities: 100%|██████████| 100/100 [00:00<00:00, 373.43it/s]\n",
      "Generating walks (CPU: 1): 100%|██████████| 10/10 [00:00<00:00, 30.07it/s]\n"
     ]
    },
    {
     "name": "stdout",
     "output_type": "stream",
     "text": [
      "Screening day:  17  self.model.t:  20.010002125343927\n",
      "Running screening for group 8 on day 18...\n"
     ]
    },
    {
     "name": "stderr",
     "output_type": "stream",
     "text": [
      "Computing transition probabilities: 100%|██████████| 100/100 [00:00<00:00, 1635.48it/s]\n",
      "Generating walks (CPU: 1): 100%|██████████| 10/10 [00:00<00:00, 35.11it/s]\n"
     ]
    },
    {
     "name": "stdout",
     "output_type": "stream",
     "text": [
      "Screening day:  18  self.model.t:  20.010002125343927\n",
      "Running screening for group 9 on day 19...\n"
     ]
    },
    {
     "name": "stderr",
     "output_type": "stream",
     "text": [
      "Computing transition probabilities: 100%|██████████| 100/100 [00:00<00:00, 860.79it/s]\n",
      "Generating walks (CPU: 1): 100%|██████████| 10/10 [00:00<00:00, 59.20it/s]\n"
     ]
    },
    {
     "name": "stdout",
     "output_type": "stream",
     "text": [
      "Screening day:  19  self.model.t:  20.010002125343927\n",
      "Running screening for group 0 on day 20...\n"
     ]
    },
    {
     "name": "stderr",
     "output_type": "stream",
     "text": [
      "Computing transition probabilities: 100%|██████████| 100/100 [00:00<00:00, 727.10it/s]\n",
      "Generating walks (CPU: 1): 100%|██████████| 10/10 [00:00<00:00, 41.05it/s]\n"
     ]
    },
    {
     "name": "stdout",
     "output_type": "stream",
     "text": [
      "Screening day:  20  self.model.t:  20.010002125343927\n",
      "    calling model.run_iteration(), time:  20.010002125343927 , propensities.sum():  600000.0 , propensities of node 926:  [     0.      0.      0.      0.      0.      0.      0.      0.      0.\n",
      "      0.      0.      0.      0.      0.      0.      0. 100000.      0.\n",
      "      0.      0.      0.      0.      0.]\n",
      "{'t': 20.01000216779003, 'transitionNode': 925, 'transitionNodeVL': 12.0, 'transitionType': 'EtoIPRE'}\n"
     ]
    }
   ],
   "source": [
    "sim_correlated.run_simulation()\n",
    "\n",
    "# TODO: understand:\n",
    "# - why is model.run_iteration() happening every 0.01 days in the beginning, and what's the deal with propensity sum = 0?\n",
    "# - model.t jumps to 20 after day 5. This is a bug."
   ]
  },
  {
   "cell_type": "code",
   "execution_count": 16,
   "metadata": {},
   "outputs": [
    {
     "data": {
      "text/plain": [
       "[{'t': 5.010002124151599,\n",
       "  'transitionNode': 926,\n",
       "  'transitionNodeVL': 5.010002124151599,\n",
       "  'transitionType': 'EtoIPRE'},\n",
       " {'t': 5.0100021242051485,\n",
       "  'transitionNode': 925,\n",
       "  'transitionNodeVL': 0.0,\n",
       "  'transitionType': 'StoE'},\n",
       " {'t': 5.010002124242381,\n",
       "  'transitionNode': 546,\n",
       "  'transitionNodeVL': 0.0,\n",
       "  'transitionType': 'StoE'},\n",
       " {'t': 5.0100021243415185,\n",
       "  'transitionNode': 547,\n",
       "  'transitionNodeVL': 0.0,\n",
       "  'transitionType': 'StoE'},\n",
       " {'t': 5.010002124667663,\n",
       "  'transitionNode': 545,\n",
       "  'transitionNodeVL': 0.0,\n",
       "  'transitionType': 'StoE'},\n",
       " {'t': 5.010002125343928,\n",
       "  'transitionNode': 927,\n",
       "  'transitionNodeVL': 0.0,\n",
       "  'transitionType': 'StoE'},\n",
       " {'t': 20.01000216779003,\n",
       "  'transitionNode': 925,\n",
       "  'transitionNodeVL': 12.0,\n",
       "  'transitionType': 'EtoIPRE'}]"
      ]
     },
     "execution_count": 16,
     "metadata": {},
     "output_type": "execute_result"
    }
   ],
   "source": [
    "sim_correlated.model.transitions_log"
   ]
  },
  {
   "cell_type": "code",
   "execution_count": 28,
   "metadata": {},
   "outputs": [],
   "source": [
    "res = []\n",
    "for l in sim_correlated.model.transitions_log:\n",
    "    if l[\"transitionNode\"] == 926:\n",
    "        res.append(l)"
   ]
  },
  {
   "cell_type": "code",
   "execution_count": 29,
   "metadata": {},
   "outputs": [
    {
     "data": {
      "text/plain": [
       "[{'t': 5.010002124151599,\n",
       "  'transitionNode': 926,\n",
       "  'transitionNodeVL': 5.010002124151599,\n",
       "  'transitionType': 'EtoIPRE'}]"
      ]
     },
     "execution_count": 29,
     "metadata": {},
     "output_type": "execute_result"
    }
   ],
   "source": [
    "res"
   ]
  },
  {
   "cell_type": "code",
   "execution_count": 22,
   "metadata": {},
   "outputs": [],
   "source": [
    "prop, cols = test_model.calc_propensities()"
   ]
  },
  {
   "cell_type": "code",
   "execution_count": 24,
   "metadata": {},
   "outputs": [
    {
     "name": "stdout",
     "output_type": "stream",
     "text": [
      "StoE 0.0\n",
      "EtoIPRE 0.0\n",
      "IPREtoISYM 0.0\n",
      "IPREtoIASYM 0.0\n",
      "ISYMtoR 0.0\n",
      "ISYMtoH 0.0\n",
      "IASYMtoR 0.0\n",
      "HtoR 0.0\n",
      "HtoF 0.0\n",
      "StoQS 0.0\n",
      "EtoQE 0.0\n",
      "IPREtoQPRE 0.0\n",
      "ISYMtoQSYM 0.0\n",
      "IASYMtoQASYM 0.0\n",
      "QStoQE 0.0\n",
      "QEtoQPRE 0.0\n",
      "QPREtoQSYM 100000.0\n",
      "QPREtoQASYM 0.0\n",
      "QSYMtoQR 0.0\n",
      "QSYMtoH 0.0\n",
      "QASYMtoQR 0.0\n",
      "RtoS 0.0\n",
      "_toS 0.0\n"
     ]
    }
   ],
   "source": [
    "for col, p in zip(cols, prop[926]):\n",
    "    print(col, p)"
   ]
  },
  {
   "cell_type": "code",
   "execution_count": 27,
   "metadata": {},
   "outputs": [
    {
     "data": {
      "text/plain": [
       "[<matplotlib.lines.Line2D at 0x7fd2be9a0e10>]"
      ]
     },
     "execution_count": 27,
     "metadata": {},
     "output_type": "execute_result"
    },
    {
     "data": {
      "image/png": "[encoded data removed]",
      "text/plain": [
       "<Figure size 640x480 with 1 Axes>"
      ]
     },
     "metadata": {},
     "output_type": "display_data"
    }
   ],
   "source": [
    "plt.plot(test_model.VL_over_time[\"time_points\"], test_model.VL_over_time[\"VL_time_series\"][926])"
   ]
  },
  {
   "cell_type": "code",
   "execution_count": 12,
   "metadata": {},
   "outputs": [
    {
     "data": {
      "text/plain": [
       "Counter({1: 994, 2: 4, 3: 1, 13: 1})"
      ]
     },
     "execution_count": 12,
     "metadata": {},
     "output_type": "execute_result"
    }
   ],
   "source": [
    "from collections import Counter\n",
    "\n",
    "Counter(list(test_model.X.flatten()))"
   ]
  },
  {
   "cell_type": "code",
   "execution_count": 13,
   "metadata": {},
   "outputs": [
    {
     "data": {
      "text/plain": [
       "array([ True])"
      ]
     },
     "execution_count": 13,
     "metadata": {},
     "output_type": "execute_result"
    }
   ],
   "source": [
    "(test_model.X ==test_model.Q_pre)[926]"
   ]
  },
  {
   "cell_type": "code",
   "execution_count": 96,
   "metadata": {},
   "outputs": [
    {
     "name": "stdout",
     "output_type": "stream",
     "text": [
      "545\n",
      "546\n",
      "547\n",
      "927\n"
     ]
    }
   ],
   "source": [
    "for i in range(1000):\n",
    "    if test_model.X[i] == test_model.E:\n",
    "        print(i)"
   ]
  },
  {
   "cell_type": "code",
   "execution_count": 17,
   "metadata": {},
   "outputs": [
    {
     "name": "stdout",
     "output_type": "stream",
     "text": [
      "925\n"
     ]
    }
   ],
   "source": [
    "for i in range(1000):\n",
    "    if test_model.X[i] == test_model.I_pre:\n",
    "        print(i)"
   ]
  },
  {
   "cell_type": "code",
   "execution_count": 18,
   "metadata": {},
   "outputs": [
    {
     "name": "stdout",
     "output_type": "stream",
     "text": [
      "926\n"
     ]
    }
   ],
   "source": [
    "for i in range(1000):\n",
    "    if test_model.X[i] == test_model.Q_pre:\n",
    "        print(i)"
   ]
  },
  {
   "cell_type": "code",
   "execution_count": 19,
   "metadata": {},
   "outputs": [
    {
     "data": {
      "text/plain": [
       "array([0.5])"
      ]
     },
     "execution_count": 19,
     "metadata": {},
     "output_type": "execute_result"
    }
   ],
   "source": [
    "test_model.lamda_Q[926]"
   ]
  },
  {
   "cell_type": "code",
   "execution_count": 20,
   "metadata": {},
   "outputs": [
    {
     "data": {
      "text/plain": [
       "array([15.00000004])"
      ]
     },
     "execution_count": 20,
     "metadata": {},
     "output_type": "execute_result"
    }
   ],
   "source": [
    "test_model.timer_state[926]"
   ]
  },
  {
   "cell_type": "code",
   "execution_count": 56,
   "metadata": {},
   "outputs": [
    {
     "data": {
      "image/png": "[encoded data removed]",
      "text/plain": [
       "<Figure size 1200x800 with 1 Axes>"
      ]
     },
     "metadata": {},
     "output_type": "display_data"
    },
    {
     "data": {
      "text/plain": [
       "(<Figure size 1200x800 with 1 Axes>,\n",
       " <AxesSubplot: xlabel='days', ylabel='number of individuals'>)"
      ]
     },
     "execution_count": 56,
     "metadata": {},
     "output_type": "execute_result"
    }
   ],
   "source": [
    "sim_correlated.model.figure_infections(plot_percentages=False)"
   ]
  },
  {
   "cell_type": "code",
   "execution_count": 57,
   "metadata": {},
   "outputs": [
    {
     "data": {
      "text/plain": [
       "array([0.00000000e+00, 1.00000000e-02, 2.00000000e-02, 3.00000000e-02,\n",
       "       4.00000000e-02, 5.00000000e-02, 6.00000000e-02, 7.00000000e-02,\n",
       "       8.00000000e-02, 9.00000000e-02, 1.00000000e-01, 1.10000000e-01,\n",
       "       1.20000000e-01, 1.30000000e-01, 1.40000000e-01, 1.50000000e-01,\n",
       "       1.60000000e-01, 1.70000000e-01, 1.80000000e-01, 1.90000000e-01,\n",
       "       2.00000000e-01, 2.10000000e-01, 2.20000000e-01, 2.30000000e-01,\n",
       "       2.40000000e-01, 2.50000000e-01, 2.60000000e-01, 2.70000000e-01,\n",
       "       2.80000000e-01, 2.90000000e-01, 3.00000000e-01, 3.10000000e-01,\n",
       "       3.20000000e-01, 3.30000000e-01, 3.40000000e-01, 3.50000000e-01,\n",
       "       3.60000000e-01, 3.70000000e-01, 3.80000000e-01, 3.90000000e-01,\n",
       "       4.00000000e-01, 4.10000000e-01, 4.20000000e-01, 4.30000000e-01,\n",
       "       4.40000000e-01, 4.50000000e-01, 4.60000000e-01, 4.70000000e-01,\n",
       "       4.80000000e-01, 4.90000000e-01, 5.00000000e-01, 5.10000000e-01,\n",
       "       5.20000000e-01, 5.30000000e-01, 5.40000000e-01, 5.50000000e-01,\n",
       "       5.60000000e-01, 5.70000000e-01, 5.80000000e-01, 5.90000000e-01,\n",
       "       6.00000000e-01, 6.10000000e-01, 6.20000000e-01, 6.30000000e-01,\n",
       "       6.40000000e-01, 6.50000000e-01, 6.60000000e-01, 6.70000000e-01,\n",
       "       6.80000000e-01, 6.90000000e-01, 7.00000000e-01, 7.10000000e-01,\n",
       "       7.20000000e-01, 7.30000000e-01, 7.40000000e-01, 7.50000000e-01,\n",
       "       7.60000000e-01, 7.70000000e-01, 7.80000000e-01, 7.90000000e-01,\n",
       "       8.00000000e-01, 8.10000000e-01, 8.20000000e-01, 8.30000000e-01,\n",
       "       8.40000000e-01, 8.50000000e-01, 8.60000000e-01, 8.70000000e-01,\n",
       "       8.80000000e-01, 8.90000000e-01, 9.00000000e-01, 9.10000000e-01,\n",
       "       9.20000000e-01, 9.30000000e-01, 9.40000000e-01, 9.50000000e-01,\n",
       "       9.60000000e-01, 9.70000000e-01, 9.80000000e-01, 9.90000000e-01,\n",
       "       1.00000000e+00, 1.01000000e+00, 1.02000000e+00, 1.03000000e+00,\n",
       "       1.04000000e+00, 1.05000000e+00, 1.06000000e+00, 1.07000000e+00,\n",
       "       1.08000000e+00, 1.09000000e+00, 1.10000000e+00, 1.11000000e+00,\n",
       "       1.12000000e+00, 1.13000000e+00, 1.14000000e+00, 1.15000000e+00,\n",
       "       1.16000000e+00, 1.17000000e+00, 1.18000000e+00, 1.19000000e+00,\n",
       "       1.20000000e+00, 1.21000000e+00, 1.22000000e+00, 1.23000000e+00,\n",
       "       1.24000000e+00, 1.25000000e+00, 1.26000000e+00, 1.27000000e+00,\n",
       "       1.28000000e+00, 1.29000000e+00, 1.30000000e+00, 1.31000000e+00,\n",
       "       1.32000000e+00, 1.33000000e+00, 1.34000000e+00, 1.35000000e+00,\n",
       "       1.36000000e+00, 1.37000000e+00, 1.38000000e+00, 1.39000000e+00,\n",
       "       1.40000000e+00, 1.41000000e+00, 1.42000000e+00, 1.43000000e+00,\n",
       "       1.44000000e+00, 1.45000000e+00, 1.46000000e+00, 1.47000000e+00,\n",
       "       1.48000000e+00, 1.49000000e+00, 1.50000000e+00, 1.51000000e+00,\n",
       "       1.52000000e+00, 1.53000000e+00, 1.54000000e+00, 1.55000000e+00,\n",
       "       1.56000000e+00, 1.57000000e+00, 1.58000000e+00, 1.59000000e+00,\n",
       "       1.60000000e+00, 1.61000000e+00, 1.62000000e+00, 1.63000000e+00,\n",
       "       1.64000000e+00, 1.65000000e+00, 1.66000000e+00, 1.67000000e+00,\n",
       "       1.68000000e+00, 1.69000000e+00, 1.70000000e+00, 1.71000000e+00,\n",
       "       1.72000000e+00, 1.73000000e+00, 1.74000000e+00, 1.75000000e+00,\n",
       "       1.76000000e+00, 1.77000000e+00, 1.78000000e+00, 1.79000000e+00,\n",
       "       1.80000000e+00, 1.81000000e+00, 1.82000000e+00, 1.83000000e+00,\n",
       "       1.84000000e+00, 1.85000000e+00, 1.86000000e+00, 1.87000000e+00,\n",
       "       1.88000000e+00, 1.89000000e+00, 1.90000000e+00, 1.91000000e+00,\n",
       "       1.92000000e+00, 1.93000000e+00, 1.94000000e+00, 1.95000000e+00,\n",
       "       1.96000000e+00, 1.97000000e+00, 1.98000000e+00, 1.99000000e+00,\n",
       "       2.00000000e+00, 2.01000000e+00, 2.02000000e+00, 2.03000000e+00,\n",
       "       2.04000000e+00, 2.05000000e+00, 2.06000000e+00, 2.07000000e+00,\n",
       "       2.08000000e+00, 2.09000000e+00, 2.10000000e+00, 2.11000000e+00,\n",
       "       2.12000000e+00, 2.13000000e+00, 2.14000000e+00, 2.15000000e+00,\n",
       "       2.16000000e+00, 2.17000000e+00, 2.18000000e+00, 2.19000000e+00,\n",
       "       2.20000000e+00, 2.21000000e+00, 2.22000000e+00, 2.23000000e+00,\n",
       "       2.24000000e+00, 2.25000000e+00, 2.26000000e+00, 2.27000000e+00,\n",
       "       2.28000000e+00, 2.29000000e+00, 2.30000000e+00, 2.31000000e+00,\n",
       "       2.32000000e+00, 2.33000000e+00, 2.34000000e+00, 2.35000000e+00,\n",
       "       2.36000000e+00, 2.37000000e+00, 2.38000000e+00, 2.39000000e+00,\n",
       "       2.40000000e+00, 2.41000000e+00, 2.42000000e+00, 2.43000000e+00,\n",
       "       2.44000000e+00, 2.45000000e+00, 2.46000000e+00, 2.47000000e+00,\n",
       "       2.48000000e+00, 2.49000000e+00, 2.50000000e+00, 2.51000000e+00,\n",
       "       2.52000000e+00, 2.53000000e+00, 2.54000000e+00, 2.55000000e+00,\n",
       "       2.56000000e+00, 2.57000000e+00, 2.58000000e+00, 2.59000000e+00,\n",
       "       2.60000000e+00, 2.61000000e+00, 2.62000000e+00, 2.63000000e+00,\n",
       "       2.64000000e+00, 2.65000000e+00, 2.66000000e+00, 2.67000000e+00,\n",
       "       2.68000000e+00, 2.69000000e+00, 2.70000000e+00, 2.71000000e+00,\n",
       "       2.72000000e+00, 2.73000000e+00, 2.74000000e+00, 2.75000000e+00,\n",
       "       2.76000000e+00, 2.77000000e+00, 2.78000000e+00, 2.79000000e+00,\n",
       "       2.80000000e+00, 2.81000000e+00, 2.82000000e+00, 2.83000000e+00,\n",
       "       2.84000000e+00, 2.85000000e+00, 2.86000000e+00, 2.87000000e+00,\n",
       "       2.88000000e+00, 2.89000000e+00, 2.90000000e+00, 2.91000000e+00,\n",
       "       2.92000000e+00, 2.93000000e+00, 2.94000000e+00, 2.95000000e+00,\n",
       "       2.96000000e+00, 2.97000000e+00, 2.98000000e+00, 2.99000000e+00,\n",
       "       3.00000000e+00, 3.01000000e+00, 3.02000000e+00, 3.03000000e+00,\n",
       "       3.04000000e+00, 3.05000000e+00, 3.06000000e+00, 3.07000000e+00,\n",
       "       3.08000000e+00, 3.09000000e+00, 3.10000000e+00, 3.11000000e+00,\n",
       "       3.12000000e+00, 3.13000000e+00, 3.14000000e+00, 3.15000000e+00,\n",
       "       3.16000000e+00, 3.17000000e+00, 3.18000000e+00, 3.19000000e+00,\n",
       "       3.20000000e+00, 3.21000000e+00, 3.22000000e+00, 3.23000000e+00,\n",
       "       3.24000000e+00, 3.25000000e+00, 3.26000000e+00, 3.27000000e+00,\n",
       "       3.28000000e+00, 3.29000000e+00, 3.30000000e+00, 3.31000000e+00,\n",
       "       3.32000000e+00, 3.33000000e+00, 3.34000000e+00, 3.35000000e+00,\n",
       "       3.36000000e+00, 3.37000000e+00, 3.38000000e+00, 3.39000000e+00,\n",
       "       3.40000000e+00, 3.41000000e+00, 3.42000000e+00, 3.43000000e+00,\n",
       "       3.44000000e+00, 3.45000000e+00, 3.46000000e+00, 3.47000000e+00,\n",
       "       3.48000000e+00, 3.49000000e+00, 3.50000000e+00, 3.51000000e+00,\n",
       "       3.52000000e+00, 3.53000000e+00, 3.54000000e+00, 3.55000000e+00,\n",
       "       3.56000000e+00, 3.57000000e+00, 3.58000000e+00, 3.59000000e+00,\n",
       "       3.60000000e+00, 3.61000000e+00, 3.62000000e+00, 3.63000000e+00,\n",
       "       3.64000000e+00, 3.65000000e+00, 3.66000000e+00, 3.67000000e+00,\n",
       "       3.68000000e+00, 3.69000000e+00, 3.70000000e+00, 3.71000000e+00,\n",
       "       3.72000000e+00, 3.73000000e+00, 3.74000000e+00, 3.75000000e+00,\n",
       "       3.76000000e+00, 3.77000000e+00, 3.78000000e+00, 3.79000000e+00,\n",
       "       3.80000000e+00, 3.81000000e+00, 3.82000000e+00, 3.83000000e+00,\n",
       "       3.84000000e+00, 3.85000000e+00, 3.86000000e+00, 3.87000000e+00,\n",
       "       3.88000000e+00, 3.89000000e+00, 3.90000000e+00, 3.91000000e+00,\n",
       "       3.92000000e+00, 3.93000000e+00, 3.94000000e+00, 3.95000000e+00,\n",
       "       3.96000000e+00, 3.97000000e+00, 3.98000000e+00, 3.99000000e+00,\n",
       "       4.00000000e+00, 4.01000000e+00, 4.02000000e+00, 4.03000000e+00,\n",
       "       4.04000000e+00, 4.05000000e+00, 4.06000000e+00, 4.07000000e+00,\n",
       "       4.08000000e+00, 4.09000000e+00, 4.10000000e+00, 4.11000000e+00,\n",
       "       4.12000000e+00, 4.13000000e+00, 4.14000000e+00, 4.15000000e+00,\n",
       "       4.16000000e+00, 4.17000000e+00, 4.18000000e+00, 4.19000000e+00,\n",
       "       4.20000000e+00, 4.21000000e+00, 4.22000000e+00, 4.23000000e+00,\n",
       "       4.24000000e+00, 4.25000000e+00, 4.26000000e+00, 4.27000000e+00,\n",
       "       4.28000000e+00, 4.29000000e+00, 4.30000000e+00, 4.31000000e+00,\n",
       "       4.32000000e+00, 4.33000000e+00, 4.34000000e+00, 4.35000000e+00,\n",
       "       4.36000000e+00, 4.37000000e+00, 4.38000000e+00, 4.39000000e+00,\n",
       "       4.40000000e+00, 4.41000000e+00, 4.42000000e+00, 4.43000000e+00,\n",
       "       4.44000000e+00, 4.45000000e+00, 4.46000000e+00, 4.47000000e+00,\n",
       "       4.48000000e+00, 4.49000000e+00, 4.50000000e+00, 4.51000000e+00,\n",
       "       4.52000000e+00, 4.53000000e+00, 4.54000000e+00, 4.55000000e+00,\n",
       "       4.56000000e+00, 4.57000000e+00, 4.58000000e+00, 4.59000000e+00,\n",
       "       4.60000000e+00, 4.61000000e+00, 4.62000000e+00, 4.63000000e+00,\n",
       "       4.64000000e+00, 4.65000000e+00, 4.66000000e+00, 4.67000000e+00,\n",
       "       4.68000000e+00, 4.69000000e+00, 4.70000000e+00, 4.71000000e+00,\n",
       "       4.72000000e+00, 4.73000000e+00, 4.74000000e+00, 4.75000000e+00,\n",
       "       4.76000000e+00, 4.77000000e+00, 4.78000000e+00, 4.79000000e+00,\n",
       "       4.80000000e+00, 4.81000000e+00, 4.82000000e+00, 4.83000000e+00,\n",
       "       4.84000000e+00, 4.85000000e+00, 4.86000000e+00, 4.87000000e+00,\n",
       "       4.88000000e+00, 4.89000000e+00, 4.90000000e+00, 4.91000000e+00,\n",
       "       4.92000000e+00, 4.93000000e+00, 4.94000000e+00, 4.95000000e+00,\n",
       "       4.96000000e+00, 4.97000000e+00, 4.98000000e+00, 4.99000000e+00,\n",
       "       5.00000000e+00, 5.01000000e+00, 5.01000212e+00, 5.01000212e+00,\n",
       "       5.01000212e+00, 5.01000212e+00, 5.01000212e+00, 5.01000213e+00,\n",
       "       3.50100078e+01])"
      ]
     },
     "execution_count": 57,
     "metadata": {},
     "output_type": "execute_result"
    }
   ],
   "source": [
    "sim_correlated.model.tseries"
   ]
  },
  {
   "cell_type": "code",
   "execution_count": null,
   "metadata": {},
   "outputs": [],
   "source": []
  }
 ],
 "metadata": {
  "kernelspec": {
   "display_name": "py39cp",
   "language": "python",
   "name": "python3"
  },
  "language_info": {
   "codemirror_mode": {
    "name": "ipython",
    "version": 3
   },
   "file_extension": ".py",
   "mimetype": "text/x-python",
   "name": "python",
   "nbconvert_exporter": "python",
   "pygments_lexer": "ipython3",
   "version": "3.11.2"
  },
  "orig_nbformat": 4
 },
 "nbformat": 4,
 "nbformat_minor": 2
}
