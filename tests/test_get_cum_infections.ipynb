{
 "cells": [
  {
   "cell_type": "code",
   "execution_count": 1,
   "metadata": {},
   "outputs": [],
   "source": [
    "%load_ext autoreload\n",
    "%autoreload 2\n",
    "\n",
    "import copy\n",
    "import matplotlib.pyplot as plt\n",
    "\n"
   ]
  },
  {
   "cell_type": "code",
   "execution_count": 2,
   "metadata": {},
   "outputs": [
    {
     "name": "stdout",
     "output_type": "stream",
     "text": [
      "Generated overall age distribution:\n",
      "0-9: 0.0880\t(-0.0330 from target)\n",
      "10-19: 0.1100\t(-0.0210 from target)\n",
      "20-29: 0.1360\t(-0.0010 from target)\n",
      "30-39: 0.1560\t(0.0230 from target)\n",
      "40-49: 0.1220\t(-0.0020 from target)\n",
      "50-59: 0.1350\t(0.0040 from target)\n",
      "60-69: 0.1340\t(0.0190 from target)\n",
      "70-79: 0.0680\t(-0.0020 from target)\n",
      "80+: 0.0510\t(0.0130 from target)\n",
      "\n",
      "Generated household size distribution:\n",
      "1: 0.2886\t(0.0048 from target)\n",
      "2: 0.3333\t(-0.0118 from target)\n",
      "3: 0.1368\t(-0.0139 from target)\n",
      "4: 0.1393\t(0.0117 from target)\n",
      "5: 0.0597\t(0.0019 from target)\n",
      "6: 0.0299\t(0.0072 from target)\n",
      "7: 0.0124\t(-0.0000 from target)\n",
      "Num households: 402\n",
      "mean household size: 2.448393594\n",
      "\n",
      "Generating graph for 0-9...\n"
     ]
    },
    {
     "name": "stderr",
     "output_type": "stream",
     "text": [
      "/home/yz685/anaconda3/envs/corr_pooling/lib/python3.11/site-packages/networkx/linalg/graphmatrix.py:187: FutureWarning: adjacency_matrix will return a scipy.sparse array instead of a matrix in Networkx 3.0.\n",
      "  return adjacency_matrix(G, nodelist, dtype, weight)\n"
     ]
    },
    {
     "name": "stdout",
     "output_type": "stream",
     "text": [
      "Generating graph for 10-19...\n",
      "Generating graph for 20-59...\n",
      "Generating graph for 60+...\n"
     ]
    }
   ],
   "source": [
    "N = 1000\n",
    "INIT_EXPOSED = int(N*0.5)\n",
    "\n",
    "from seirsplus.networks import generate_demographic_contact_network, household_country_data\n",
    "\n",
    "demographic_graphs, individual_ageGroups, households = generate_demographic_contact_network(\n",
    "                                                            N=N, demographic_data=household_country_data('US'), \n",
    "                                                            distancing_scales=[0.7], isolation_groups=[])\n",
    "\n",
    "G_baseline   = demographic_graphs['baseline']\n",
    "G_quarantine = demographic_graphs['distancingScale0.7']\n",
    "\n",
    "households_indices = [household['indices'] for household in households]"
   ]
  },
  {
   "cell_type": "code",
   "execution_count": 3,
   "metadata": {},
   "outputs": [
    {
     "name": "stderr",
     "output_type": "stream",
     "text": [
      "/home/yz685/anaconda3/envs/corr_pooling/lib/python3.11/site-packages/tqdm/auto.py:21: TqdmWarning: IProgress not found. Please update jupyter and ipywidgets. See https://ipywidgets.readthedocs.io/en/stable/user_install.html\n",
      "  from .autonotebook import tqdm as notebook_tqdm\n",
      "/home/yz685/anaconda3/envs/corr_pooling/lib/python3.11/site-packages/networkx/linalg/graphmatrix.py:187: FutureWarning: adjacency_matrix will return a scipy.sparse array instead of a matrix in Networkx 3.0.\n",
      "  return adjacency_matrix(G, nodelist, dtype, weight)\n",
      "Computing transition probabilities: 100%|██████████| 1000/1000 [00:11<00:00, 84.83it/s]\n",
      "Generating walks (CPU: 1): 100%|██████████| 3/3 [00:01<00:00,  1.65it/s]\n",
      "Generating walks (CPU: 2): 100%|██████████| 3/3 [00:02<00:00,  1.50it/s]\n",
      "Generating walks (CPU: 3): 100%|██████████| 2/2 [00:01<00:00,  1.67it/s]\n",
      "Generating walks (CPU: 4): 100%|██████████| 2/2 [00:01<00:00,  1.76it/s]\n",
      "/home/yz685/anaconda3/envs/corr_pooling/lib/python3.11/site-packages/sklearn/cluster/_kmeans.py:870: FutureWarning: The default value of `n_init` will change from 10 to 'auto' in 1.4. Set the value of `n_init` explicitly to suppress the warning\n",
      "  warnings.warn(\n"
     ]
    }
   ],
   "source": [
    "from seirsplus.viral_model import ViralExtSEIRNetworkModel\n",
    "\n",
    "from seirsplus.sim_loops_pooled_test import SimulationRunner\n",
    "\n",
    "# don't know why but have to create it every time\n",
    "test_model = ViralExtSEIRNetworkModel(\n",
    "    G = G_baseline,\n",
    "    beta = 0.1,\n",
    "    sigma = 0.2,\n",
    "    lamda = 0.5,\n",
    "    gamma  = 0.25,\n",
    "    initE = INIT_EXPOSED)\n",
    "\n",
    "sim_naive = SimulationRunner(\n",
    "    model=copy.copy(test_model),\n",
    "    pooling_strategy='naive',\n",
    "    T = 50,\n",
    "    num_groups = 10,\n",
    "    pool_size = 5,\n",
    "    seed = 0,\n",
    "    save_results = False\n",
    "    # save_results = True,\n",
    "    # output_path = '../results/US_N=10000_p=0.01_T=100/naive/'\n",
    ")\n",
    "\n",
    "sim_naive.run_simulation()"
   ]
  },
  {
   "cell_type": "code",
   "execution_count": 11,
   "metadata": {},
   "outputs": [
    {
     "name": "stdout",
     "output_type": "stream",
     "text": [
      "Initial infections at the start of simulation:  \n",
      " sim_naive.model.numE[0]:  500.0 \n",
      " sim_naive.model.numI_pre[0]:  0.0 \n",
      " sim_naive.model.numI_sym[0]:  0.0 \n",
      " sim_naive.model.numI_asym[0]:  0.0 \n",
      " sim_naive.model.numH[0]:  0.0 \n",
      " sim_naive.model.numQ_E[0]:  0.0 \n",
      " sim_naive.model.numQ_pre[0]:  0.0 \n",
      " sim_naive.model.numQ_sym[0]:  0.0 \n",
      " sim_naive.model.numQ_asym[0]:  0.0 \n",
      "\n",
      "Cumulative number of S->E, QS->QE transitions at the end of simulation:  175\n"
     ]
    }
   ],
   "source": [
    "print(\n",
    "    \"Initial infections at the start of simulation: \", \"\\n\",\n",
    "    \"sim_naive.model.numE[0]: \", sim_naive.model.numE[0], \"\\n\",\n",
    "    \"sim_naive.model.numI_pre[0]: \", sim_naive.model.numI_pre[0], \"\\n\",\n",
    "    \"sim_naive.model.numI_sym[0]: \", sim_naive.model.numI_sym[0], \"\\n\",\n",
    "    \"sim_naive.model.numI_asym[0]: \", sim_naive.model.numI_asym[0], \"\\n\",\n",
    "    \"sim_naive.model.numH[0]: \", sim_naive.model.numH[0], \"\\n\",\n",
    "    \"sim_naive.model.numQ_E[0]: \", sim_naive.model.numQ_E[0], \"\\n\",\n",
    "    \"sim_naive.model.numQ_pre[0]: \", sim_naive.model.numQ_pre[0], \"\\n\",\n",
    "    \"sim_naive.model.numQ_sym[0]: \", sim_naive.model.numQ_sym[0], \"\\n\",\n",
    "    \"sim_naive.model.numQ_asym[0]: \", sim_naive.model.numQ_asym[0], \"\\n\",\n",
    ")\n",
    "\n",
    "print(\"Cumulative number of S->E, QS->QE transitions at the end of simulation: \", len(sim_naive.model.infectionsLog))"
   ]
  },
  {
   "cell_type": "code",
   "execution_count": 4,
   "metadata": {},
   "outputs": [],
   "source": [
    "cumRecovered = [res[\"cumRecovered\"] for res in sim_naive.overall_results]\n",
    "cumInfections = [res[\"cumInfections\"] for res in sim_naive.overall_results]"
   ]
  },
  {
   "cell_type": "code",
   "execution_count": 6,
   "metadata": {},
   "outputs": [
    {
     "data": {
      "text/plain": [
       "[673.0, 673.0, 673.0, 674.0, 674.0, 675.0, 675.0, 675.0, 675.0, 675.0]"
      ]
     },
     "execution_count": 6,
     "metadata": {},
     "output_type": "execute_result"
    }
   ],
   "source": [
    "cumInfections[-10:]"
   ]
  },
  {
   "cell_type": "code",
   "execution_count": 5,
   "metadata": {},
   "outputs": [
    {
     "data": {
      "text/plain": [
       "[667.0, 668.0, 669.0, 669.0, 669.0, 669.0, 670.0, 671.0, 672.0, 672.0]"
      ]
     },
     "execution_count": 5,
     "metadata": {},
     "output_type": "execute_result"
    }
   ],
   "source": [
    "# can confirm that cumRecovered lags behind cumInfections by a little bit\n",
    "cumRecovered[-10:]"
   ]
  },
  {
   "cell_type": "code",
   "execution_count": 8,
   "metadata": {},
   "outputs": [
    {
     "data": {
      "text/plain": [
       "Text(0, 0.5, 'Number of individuals')"
      ]
     },
     "execution_count": 8,
     "metadata": {},
     "output_type": "execute_result"
    },
    {
     "data": {
      "image/png": "[encoded data removed]",
      "text/plain": [
       "<Figure size 640x480 with 1 Axes>"
      ]
     },
     "metadata": {},
     "output_type": "display_data"
    }
   ],
   "source": [
    "plt.plot(cumRecovered, label = \"cumRecovered\")\n",
    "plt.plot(cumInfections, label = \"cumInfections\")\n",
    "\n",
    "plt.legend()\n",
    "plt.xlabel(\"Day\")\n",
    "plt.ylabel(\"Number of individuals\")"
   ]
  },
  {
   "cell_type": "code",
   "execution_count": null,
   "metadata": {},
   "outputs": [],
   "source": []
  }
 ],
 "metadata": {
  "kernelspec": {
   "display_name": "corr_pooling",
   "language": "python",
   "name": "python3"
  },
  "language_info": {
   "codemirror_mode": {
    "name": "ipython",
    "version": 3
   },
   "file_extension": ".py",
   "mimetype": "text/x-python",
   "name": "python",
   "nbconvert_exporter": "python",
   "pygments_lexer": "ipython3",
   "version": "3.11.2"
  },
  "orig_nbformat": 4
 },
 "nbformat": 4,
 "nbformat_minor": 2
}
