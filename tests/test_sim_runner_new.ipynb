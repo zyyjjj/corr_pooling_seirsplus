{
 "cells": [
  {
   "cell_type": "code",
   "execution_count": 1,
   "metadata": {},
   "outputs": [],
   "source": [
    "%load_ext autoreload\n",
    "%autoreload 2"
   ]
  },
  {
   "cell_type": "code",
   "execution_count": 2,
   "metadata": {},
   "outputs": [],
   "source": [
    "\n",
    "import matplotlib.pyplot as plt\n",
    "import random\n",
    "import numpy as np"
   ]
  },
  {
   "attachments": {},
   "cell_type": "markdown",
   "metadata": {},
   "source": [
    "## initialize `G_baseline` network"
   ]
  },
  {
   "cell_type": "code",
   "execution_count": 3,
   "metadata": {},
   "outputs": [
    {
     "name": "stdout",
     "output_type": "stream",
     "text": [
      "Generated overall age distribution:\n",
      "0-9: 0.1140\t(-0.0070 from target)\n",
      "10-19: 0.1310\t(0.0000 from target)\n",
      "20-29: 0.1410\t(0.0040 from target)\n",
      "30-39: 0.1440\t(0.0110 from target)\n",
      "40-49: 0.1170\t(-0.0070 from target)\n",
      "50-59: 0.1290\t(-0.0020 from target)\n",
      "60-69: 0.1020\t(-0.0130 from target)\n",
      "70-79: 0.0720\t(0.0020 from target)\n",
      "80+: 0.0500\t(0.0120 from target)\n",
      "\n",
      "Generated household size distribution:\n",
      "1: 0.3259\t(0.0422 from target)\n",
      "2: 0.2988\t(-0.0463 from target)\n",
      "3: 0.1160\t(-0.0346 from target)\n",
      "4: 0.1481\t(0.0205 from target)\n",
      "5: 0.0691\t(0.0114 from target)\n",
      "6: 0.0346\t(0.0119 from target)\n",
      "7: 0.0074\t(-0.0051 from target)\n",
      "Num households: 405\n",
      "mean household size: 2.448393594\n",
      "\n",
      "Generating graph for 0-9...\n",
      "Generating graph for 10-19...\n"
     ]
    },
    {
     "name": "stderr",
     "output_type": "stream",
     "text": [
      "/opt/anaconda3/lib/python3.9/site-packages/networkx/linalg/graphmatrix.py:187: FutureWarning: adjacency_matrix will return a scipy.sparse array instead of a matrix in Networkx 3.0.\n",
      "  return adjacency_matrix(G, nodelist, dtype, weight)\n"
     ]
    },
    {
     "name": "stdout",
     "output_type": "stream",
     "text": [
      "Generating graph for 20-59...\n",
      "Generating graph for 60+...\n"
     ]
    }
   ],
   "source": [
    "random.seed(0)\n",
    "np.random.seed(0)\n",
    "\n",
    "N = 1000\n",
    "INIT_EXPOSED = int(N*0.01)\n",
    "\n",
    "from seirsplus.networks import generate_demographic_contact_network, household_country_data\n",
    "\n",
    "demographic_graphs, individual_ageGroups, households = generate_demographic_contact_network(\n",
    "                                                            N=N, demographic_data=household_country_data('US'), \n",
    "                                                            distancing_scales=[0.7], isolation_groups=[])\n",
    "\n",
    "G = demographic_graphs['baseline']\n",
    "# assign higher weights to inter-household edges\n",
    "for e in G.edges():\n",
    "    if \"weight\" not in G[e[0]][e[1]]:\n",
    "        G[e[0]][e[1]][\"weight\"] = 10**10\n"
   ]
  },
  {
   "cell_type": "code",
   "execution_count": 4,
   "metadata": {},
   "outputs": [],
   "source": [
    "from seirsplus.viral_model import ViralExtSEIRNetworkModel\n",
    "from seirsplus.sim_loops_pooled_test import SimulationRunner"
   ]
  },
  {
   "attachments": {},
   "cell_type": "markdown",
   "metadata": {},
   "source": [
    "## correlated pooling"
   ]
  },
  {
   "cell_type": "code",
   "execution_count": 5,
   "metadata": {},
   "outputs": [
    {
     "name": "stderr",
     "output_type": "stream",
     "text": [
      "/opt/anaconda3/lib/python3.9/site-packages/networkx/linalg/graphmatrix.py:187: FutureWarning: adjacency_matrix will return a scipy.sparse array instead of a matrix in Networkx 3.0.\n",
      "  return adjacency_matrix(G, nodelist, dtype, weight)\n"
     ]
    },
    {
     "data": {
      "application/vnd.jupyter.widget-view+json": {
       "model_id": "b35ed14361a546cfa0edbec329249929",
       "version_major": 2,
       "version_minor": 0
      },
      "text/plain": [
       "Computing transition probabilities:   0%|          | 0/1000 [00:00<?, ?it/s]"
      ]
     },
     "metadata": {},
     "output_type": "display_data"
    },
    {
     "name": "stderr",
     "output_type": "stream",
     "text": [
      "Generating walks (CPU: 1): 100%|██████████| 3/3 [00:00<00:00,  7.59it/s]\n",
      "Generating walks (CPU: 2): 100%|██████████| 3/3 [00:00<00:00,  7.16it/s]\n",
      "Generating walks (CPU: 3): 100%|██████████| 2/2 [00:00<00:00,  6.23it/s]\n",
      "Generating walks (CPU: 4): 100%|██████████| 2/2 [00:00<00:00,  9.11it/s]\n"
     ]
    },
    {
     "data": {
      "application/vnd.jupyter.widget-view+json": {
       "model_id": "89b23c68f15945a8beb697dd29fd809a",
       "version_major": 2,
       "version_minor": 0
      },
      "text/plain": [
       "Computing transition probabilities:   0%|          | 0/100 [00:00<?, ?it/s]"
      ]
     },
     "metadata": {},
     "output_type": "display_data"
    },
    {
     "name": "stderr",
     "output_type": "stream",
     "text": [
      "Generating walks (CPU: 1): 100%|██████████| 3/3 [00:00<00:00, 136.78it/s]\n",
      "Generating walks (CPU: 2): 100%|██████████| 3/3 [00:00<00:00, 107.72it/s]\n",
      "Generating walks (CPU: 3): 100%|██████████| 2/2 [00:00<00:00, 66.78it/s]\n",
      "Generating walks (CPU: 4): 100%|██████████| 2/2 [00:00<00:00, 58.37it/s]\n"
     ]
    },
    {
     "data": {
      "application/vnd.jupyter.widget-view+json": {
       "model_id": "8ada722a90154254a79bd8063e73c5bb",
       "version_major": 2,
       "version_minor": 0
      },
      "text/plain": [
       "Computing transition probabilities:   0%|          | 0/100 [00:00<?, ?it/s]"
      ]
     },
     "metadata": {},
     "output_type": "display_data"
    },
    {
     "name": "stderr",
     "output_type": "stream",
     "text": [
      "Generating walks (CPU: 1): 100%|██████████| 3/3 [00:00<00:00, 137.46it/s]\n",
      "Generating walks (CPU: 2): 100%|██████████| 3/3 [00:00<00:00, 148.57it/s]\n",
      "Generating walks (CPU: 3): 100%|██████████| 2/2 [00:00<00:00, 157.44it/s]\n",
      "Generating walks (CPU: 4): 100%|██████████| 2/2 [00:00<00:00, 150.21it/s]\n"
     ]
    },
    {
     "data": {
      "application/vnd.jupyter.widget-view+json": {
       "model_id": "59bf08b924774f33b1eb8d9bc9e48eb5",
       "version_major": 2,
       "version_minor": 0
      },
      "text/plain": [
       "Computing transition probabilities:   0%|          | 0/100 [00:00<?, ?it/s]"
      ]
     },
     "metadata": {},
     "output_type": "display_data"
    },
    {
     "name": "stderr",
     "output_type": "stream",
     "text": [
      "Generating walks (CPU: 1): 100%|██████████| 3/3 [00:00<00:00, 138.57it/s]\n",
      "Generating walks (CPU: 2): 100%|██████████| 3/3 [00:00<00:00, 143.23it/s]\n",
      "Generating walks (CPU: 3): 100%|██████████| 2/2 [00:00<00:00, 163.94it/s]\n",
      "Generating walks (CPU: 4): 100%|██████████| 2/2 [00:00<00:00, 151.72it/s]\n"
     ]
    },
    {
     "data": {
      "application/vnd.jupyter.widget-view+json": {
       "model_id": "5a855f682fec4b9d835922f0380e0486",
       "version_major": 2,
       "version_minor": 0
      },
      "text/plain": [
       "Computing transition probabilities:   0%|          | 0/100 [00:00<?, ?it/s]"
      ]
     },
     "metadata": {},
     "output_type": "display_data"
    },
    {
     "name": "stderr",
     "output_type": "stream",
     "text": [
      "Generating walks (CPU: 1): 100%|██████████| 3/3 [00:00<00:00, 137.43it/s]\n",
      "Generating walks (CPU: 2): 100%|██████████| 3/3 [00:00<00:00, 126.87it/s]\n",
      "Generating walks (CPU: 3): 100%|██████████| 2/2 [00:00<00:00, 142.43it/s]\n",
      "Generating walks (CPU: 4): 100%|██████████| 2/2 [00:00<00:00, 136.63it/s]\n"
     ]
    },
    {
     "data": {
      "application/vnd.jupyter.widget-view+json": {
       "model_id": "6bb7fc71c5c54af3905e5f8d7a9c00d1",
       "version_major": 2,
       "version_minor": 0
      },
      "text/plain": [
       "Computing transition probabilities:   0%|          | 0/100 [00:00<?, ?it/s]"
      ]
     },
     "metadata": {},
     "output_type": "display_data"
    },
    {
     "name": "stderr",
     "output_type": "stream",
     "text": [
      "Generating walks (CPU: 1): 100%|██████████| 3/3 [00:00<00:00, 107.45it/s]\n",
      "Generating walks (CPU: 3): 100%|██████████| 2/2 [00:00<00:00, 92.55it/s]\n",
      "Generating walks (CPU: 2): 100%|██████████| 3/3 [00:00<00:00, 90.60it/s]\n",
      "Generating walks (CPU: 4): 100%|██████████| 2/2 [00:00<00:00, 88.34it/s]\n"
     ]
    },
    {
     "data": {
      "application/vnd.jupyter.widget-view+json": {
       "model_id": "e58dec2d40494e38b646f588f972589a",
       "version_major": 2,
       "version_minor": 0
      },
      "text/plain": [
       "Computing transition probabilities:   0%|          | 0/100 [00:00<?, ?it/s]"
      ]
     },
     "metadata": {},
     "output_type": "display_data"
    },
    {
     "name": "stderr",
     "output_type": "stream",
     "text": [
      "Generating walks (CPU: 1): 100%|██████████| 3/3 [00:00<00:00, 142.11it/s]\n",
      "Generating walks (CPU: 2): 100%|██████████| 3/3 [00:00<00:00, 148.11it/s]\n",
      "Generating walks (CPU: 3): 100%|██████████| 2/2 [00:00<00:00, 143.02it/s]\n",
      "Generating walks (CPU: 4): 100%|██████████| 2/2 [00:00<00:00, 117.83it/s]\n"
     ]
    },
    {
     "data": {
      "application/vnd.jupyter.widget-view+json": {
       "model_id": "6033a33e542e4325898adcae0c945395",
       "version_major": 2,
       "version_minor": 0
      },
      "text/plain": [
       "Computing transition probabilities:   0%|          | 0/100 [00:00<?, ?it/s]"
      ]
     },
     "metadata": {},
     "output_type": "display_data"
    },
    {
     "name": "stderr",
     "output_type": "stream",
     "text": [
      "Generating walks (CPU: 1): 100%|██████████| 3/3 [00:00<00:00, 152.50it/s]\n",
      "Generating walks (CPU: 2): 100%|██████████| 3/3 [00:00<00:00, 134.80it/s]\n",
      "Generating walks (CPU: 3): 100%|██████████| 2/2 [00:00<00:00, 122.26it/s]\n",
      "Generating walks (CPU: 4): 100%|██████████| 2/2 [00:00<00:00, 103.63it/s]\n"
     ]
    },
    {
     "data": {
      "application/vnd.jupyter.widget-view+json": {
       "model_id": "3348a655bb1644bea265888ce686343b",
       "version_major": 2,
       "version_minor": 0
      },
      "text/plain": [
       "Computing transition probabilities:   0%|          | 0/100 [00:00<?, ?it/s]"
      ]
     },
     "metadata": {},
     "output_type": "display_data"
    },
    {
     "name": "stderr",
     "output_type": "stream",
     "text": [
      "Generating walks (CPU: 1): 100%|██████████| 3/3 [00:00<00:00, 121.07it/s]\n",
      "Generating walks (CPU: 2): 100%|██████████| 3/3 [00:00<00:00, 126.58it/s]\n",
      "Generating walks (CPU: 3): 100%|██████████| 2/2 [00:00<00:00, 116.27it/s]\n",
      "Generating walks (CPU: 4): 100%|██████████| 2/2 [00:00<00:00, 138.02it/s]\n"
     ]
    },
    {
     "data": {
      "application/vnd.jupyter.widget-view+json": {
       "model_id": "a4742fb9f2dd44918886ad2e9ff873e1",
       "version_major": 2,
       "version_minor": 0
      },
      "text/plain": [
       "Computing transition probabilities:   0%|          | 0/100 [00:00<?, ?it/s]"
      ]
     },
     "metadata": {},
     "output_type": "display_data"
    },
    {
     "name": "stderr",
     "output_type": "stream",
     "text": [
      "Generating walks (CPU: 1): 100%|██████████| 3/3 [00:00<00:00, 161.23it/s]\n",
      "Generating walks (CPU: 2): 100%|██████████| 3/3 [00:00<00:00, 154.65it/s]\n",
      "Generating walks (CPU: 3): 100%|██████████| 2/2 [00:00<00:00, 158.17it/s]\n",
      "Generating walks (CPU: 4): 100%|██████████| 2/2 [00:00<00:00, 153.94it/s]\n"
     ]
    },
    {
     "data": {
      "application/vnd.jupyter.widget-view+json": {
       "model_id": "38332409b9b34b08aed9bd6f0d0dbd02",
       "version_major": 2,
       "version_minor": 0
      },
      "text/plain": [
       "Computing transition probabilities:   0%|          | 0/100 [00:00<?, ?it/s]"
      ]
     },
     "metadata": {},
     "output_type": "display_data"
    },
    {
     "name": "stderr",
     "output_type": "stream",
     "text": [
      "Generating walks (CPU: 1): 100%|██████████| 3/3 [00:00<00:00, 135.26it/s]\n",
      "Generating walks (CPU: 2): 100%|██████████| 3/3 [00:00<00:00, 130.61it/s]\n",
      "Generating walks (CPU: 3): 100%|██████████| 2/2 [00:00<00:00, 133.40it/s]\n",
      "Generating walks (CPU: 4): 100%|██████████| 2/2 [00:00<00:00, 133.96it/s]\n"
     ]
    },
    {
     "data": {
      "application/vnd.jupyter.widget-view+json": {
       "model_id": "a95429eff7154e5087f120aaaeb5e645",
       "version_major": 2,
       "version_minor": 0
      },
      "text/plain": [
       "Computing transition probabilities:   0%|          | 0/100 [00:00<?, ?it/s]"
      ]
     },
     "metadata": {},
     "output_type": "display_data"
    },
    {
     "name": "stderr",
     "output_type": "stream",
     "text": [
      "Generating walks (CPU: 1): 100%|██████████| 3/3 [00:00<00:00, 112.11it/s]\n",
      "Generating walks (CPU: 3): 100%|██████████| 2/2 [00:00<00:00, 118.29it/s]\n",
      "Generating walks (CPU: 2): 100%|██████████| 3/3 [00:00<00:00, 121.91it/s]\n",
      "Generating walks (CPU: 4): 100%|██████████| 2/2 [00:00<00:00, 153.80it/s]\n"
     ]
    },
    {
     "data": {
      "application/vnd.jupyter.widget-view+json": {
       "model_id": "55771072c8d44af2bc05b3ba0e3a6ca2",
       "version_major": 2,
       "version_minor": 0
      },
      "text/plain": [
       "Computing transition probabilities:   0%|          | 0/95 [00:00<?, ?it/s]"
      ]
     },
     "metadata": {},
     "output_type": "display_data"
    },
    {
     "name": "stderr",
     "output_type": "stream",
     "text": [
      "Generating walks (CPU: 1): 100%|██████████| 3/3 [00:00<00:00, 167.51it/s]\n",
      "Generating walks (CPU: 2): 100%|██████████| 3/3 [00:00<00:00, 177.26it/s]\n",
      "Generating walks (CPU: 3): 100%|██████████| 2/2 [00:00<00:00, 180.00it/s]\n",
      "Generating walks (CPU: 4): 100%|██████████| 2/2 [00:00<00:00, 170.38it/s]\n"
     ]
    },
    {
     "data": {
      "application/vnd.jupyter.widget-view+json": {
       "model_id": "12f8b8aa152e4514bd81026ff8fb402c",
       "version_major": 2,
       "version_minor": 0
      },
      "text/plain": [
       "Computing transition probabilities:   0%|          | 0/98 [00:00<?, ?it/s]"
      ]
     },
     "metadata": {},
     "output_type": "display_data"
    },
    {
     "name": "stderr",
     "output_type": "stream",
     "text": [
      "Generating walks (CPU: 1): 100%|██████████| 3/3 [00:00<00:00, 187.54it/s]\n",
      "Generating walks (CPU: 2): 100%|██████████| 3/3 [00:00<00:00, 178.32it/s]\n",
      "Generating walks (CPU: 3): 100%|██████████| 2/2 [00:00<00:00, 180.87it/s]\n",
      "Generating walks (CPU: 4): 100%|██████████| 2/2 [00:00<00:00, 186.34it/s]\n"
     ]
    },
    {
     "data": {
      "application/vnd.jupyter.widget-view+json": {
       "model_id": "b98aac81b43e47009a5ab0e51e180cff",
       "version_major": 2,
       "version_minor": 0
      },
      "text/plain": [
       "Computing transition probabilities:   0%|          | 0/100 [00:00<?, ?it/s]"
      ]
     },
     "metadata": {},
     "output_type": "display_data"
    },
    {
     "name": "stderr",
     "output_type": "stream",
     "text": [
      "Generating walks (CPU: 2): 100%|██████████| 3/3 [00:00<00:00, 111.78it/s]\n",
      "Generating walks (CPU: 1): 100%|██████████| 3/3 [00:00<00:00, 76.52it/s]\n",
      "Generating walks (CPU: 3): 100%|██████████| 2/2 [00:00<00:00, 130.65it/s]\n",
      "Generating walks (CPU: 4): 100%|██████████| 2/2 [00:00<00:00, 144.12it/s]\n"
     ]
    },
    {
     "data": {
      "application/vnd.jupyter.widget-view+json": {
       "model_id": "4fd7189fb3d742bb9884d953d126e597",
       "version_major": 2,
       "version_minor": 0
      },
      "text/plain": [
       "Computing transition probabilities:   0%|          | 0/99 [00:00<?, ?it/s]"
      ]
     },
     "metadata": {},
     "output_type": "display_data"
    },
    {
     "name": "stderr",
     "output_type": "stream",
     "text": [
      "Generating walks (CPU: 1): 100%|██████████| 3/3 [00:00<00:00, 96.17it/s]\n",
      "Generating walks (CPU: 2): 100%|██████████| 3/3 [00:00<00:00, 101.59it/s]\n",
      "Generating walks (CPU: 3): 100%|██████████| 2/2 [00:00<00:00, 103.82it/s]\n",
      "Generating walks (CPU: 4): 100%|██████████| 2/2 [00:00<00:00, 110.49it/s]\n"
     ]
    },
    {
     "data": {
      "application/vnd.jupyter.widget-view+json": {
       "model_id": "ac0314541efd4cd383bb0b22095b7c89",
       "version_major": 2,
       "version_minor": 0
      },
      "text/plain": [
       "Computing transition probabilities:   0%|          | 0/99 [00:00<?, ?it/s]"
      ]
     },
     "metadata": {},
     "output_type": "display_data"
    },
    {
     "name": "stderr",
     "output_type": "stream",
     "text": [
      "Generating walks (CPU: 1): 100%|██████████| 3/3 [00:00<00:00, 142.72it/s]\n",
      "Generating walks (CPU: 2): 100%|██████████| 3/3 [00:00<00:00, 133.72it/s]\n",
      "Generating walks (CPU: 3): 100%|██████████| 2/2 [00:00<00:00, 117.01it/s]\n",
      "Generating walks (CPU: 4): 100%|██████████| 2/2 [00:00<00:00, 143.68it/s]\n"
     ]
    },
    {
     "data": {
      "application/vnd.jupyter.widget-view+json": {
       "model_id": "115bd20133bb4e1b821d0540ff9cb1c4",
       "version_major": 2,
       "version_minor": 0
      },
      "text/plain": [
       "Computing transition probabilities:   0%|          | 0/95 [00:00<?, ?it/s]"
      ]
     },
     "metadata": {},
     "output_type": "display_data"
    },
    {
     "name": "stderr",
     "output_type": "stream",
     "text": [
      "Generating walks (CPU: 1): 100%|██████████| 3/3 [00:00<00:00, 167.86it/s]\n",
      "Generating walks (CPU: 2): 100%|██████████| 3/3 [00:00<00:00, 113.55it/s]\n",
      "Generating walks (CPU: 3): 100%|██████████| 2/2 [00:00<00:00, 78.23it/s]\n",
      "Generating walks (CPU: 4): 100%|██████████| 2/2 [00:00<00:00, 96.79it/s]\n"
     ]
    },
    {
     "data": {
      "application/vnd.jupyter.widget-view+json": {
       "model_id": "181a0e6c9ed3454ebf944f7617b752f7",
       "version_major": 2,
       "version_minor": 0
      },
      "text/plain": [
       "Computing transition probabilities:   0%|          | 0/100 [00:00<?, ?it/s]"
      ]
     },
     "metadata": {},
     "output_type": "display_data"
    },
    {
     "name": "stderr",
     "output_type": "stream",
     "text": [
      "Generating walks (CPU: 1): 100%|██████████| 3/3 [00:00<00:00, 134.66it/s]\n",
      "Generating walks (CPU: 2): 100%|██████████| 3/3 [00:00<00:00, 137.24it/s]\n",
      "Generating walks (CPU: 3): 100%|██████████| 2/2 [00:00<00:00, 150.99it/s]\n",
      "Generating walks (CPU: 4): 100%|██████████| 2/2 [00:00<00:00, 145.35it/s]\n"
     ]
    },
    {
     "data": {
      "application/vnd.jupyter.widget-view+json": {
       "model_id": "51d276f1ed454207abbba3947cc2b1a5",
       "version_major": 2,
       "version_minor": 0
      },
      "text/plain": [
       "Computing transition probabilities:   0%|          | 0/99 [00:00<?, ?it/s]"
      ]
     },
     "metadata": {},
     "output_type": "display_data"
    },
    {
     "name": "stderr",
     "output_type": "stream",
     "text": [
      "Generating walks (CPU: 1): 100%|██████████| 3/3 [00:00<00:00, 163.74it/s]\n",
      "Generating walks (CPU: 2): 100%|██████████| 3/3 [00:00<00:00, 159.64it/s]\n",
      "Generating walks (CPU: 3): 100%|██████████| 2/2 [00:00<00:00, 147.97it/s]\n",
      "Generating walks (CPU: 4): 100%|██████████| 2/2 [00:00<00:00, 135.40it/s]\n"
     ]
    },
    {
     "data": {
      "application/vnd.jupyter.widget-view+json": {
       "model_id": "7c2cf49d633b48b5abd7d7a576d800b2",
       "version_major": 2,
       "version_minor": 0
      },
      "text/plain": [
       "Computing transition probabilities:   0%|          | 0/99 [00:00<?, ?it/s]"
      ]
     },
     "metadata": {},
     "output_type": "display_data"
    },
    {
     "name": "stderr",
     "output_type": "stream",
     "text": [
      "Generating walks (CPU: 1): 100%|██████████| 3/3 [00:00<00:00, 120.62it/s]\n",
      "Generating walks (CPU: 2): 100%|██████████| 3/3 [00:00<00:00, 142.22it/s]\n",
      "Generating walks (CPU: 3): 100%|██████████| 2/2 [00:00<00:00, 141.45it/s]\n",
      "Generating walks (CPU: 4): 100%|██████████| 2/2 [00:00<00:00, 138.96it/s]\n"
     ]
    },
    {
     "data": {
      "application/vnd.jupyter.widget-view+json": {
       "model_id": "969900ce8c73463ca091ac3f14ffab80",
       "version_major": 2,
       "version_minor": 0
      },
      "text/plain": [
       "Computing transition probabilities:   0%|          | 0/99 [00:00<?, ?it/s]"
      ]
     },
     "metadata": {},
     "output_type": "display_data"
    },
    {
     "name": "stderr",
     "output_type": "stream",
     "text": [
      "Generating walks (CPU: 1): 100%|██████████| 3/3 [00:00<00:00, 159.50it/s]\n",
      "Generating walks (CPU: 2): 100%|██████████| 3/3 [00:00<00:00, 127.17it/s]\n",
      "Generating walks (CPU: 3): 100%|██████████| 2/2 [00:00<00:00, 113.32it/s]\n",
      "Generating walks (CPU: 4): 100%|██████████| 2/2 [00:00<00:00, 120.20it/s]\n"
     ]
    },
    {
     "data": {
      "application/vnd.jupyter.widget-view+json": {
       "model_id": "38569d959d1445f4942ed55f154b9587",
       "version_major": 2,
       "version_minor": 0
      },
      "text/plain": [
       "Computing transition probabilities:   0%|          | 0/100 [00:00<?, ?it/s]"
      ]
     },
     "metadata": {},
     "output_type": "display_data"
    },
    {
     "name": "stderr",
     "output_type": "stream",
     "text": [
      "Generating walks (CPU: 4): 100%|██████████| 2/2 [00:00<00:00, 69.45it/s]\n",
      "Generating walks (CPU: 2): 100%|██████████| 3/3 [00:00<00:00, 55.92it/s]\n",
      "Generating walks (CPU: 3): 100%|██████████| 2/2 [00:00<00:00, 37.44it/s]\n",
      "Generating walks (CPU: 1): 100%|██████████| 3/3 [00:00<00:00, 41.00it/s]\n"
     ]
    },
    {
     "data": {
      "application/vnd.jupyter.widget-view+json": {
       "model_id": "5fba7958aa824e359b92944dd237767f",
       "version_major": 2,
       "version_minor": 0
      },
      "text/plain": [
       "Computing transition probabilities:   0%|          | 0/99 [00:00<?, ?it/s]"
      ]
     },
     "metadata": {},
     "output_type": "display_data"
    },
    {
     "name": "stderr",
     "output_type": "stream",
     "text": [
      "Generating walks (CPU: 1): 100%|██████████| 3/3 [00:00<00:00, 187.84it/s]\n",
      "Generating walks (CPU: 2): 100%|██████████| 3/3 [00:00<00:00, 182.07it/s]\n",
      "Generating walks (CPU: 3): 100%|██████████| 2/2 [00:00<00:00, 186.62it/s]\n",
      "Generating walks (CPU: 4): 100%|██████████| 2/2 [00:00<00:00, 187.09it/s]\n"
     ]
    },
    {
     "data": {
      "application/vnd.jupyter.widget-view+json": {
       "model_id": "3c894a070bbb4e139d2253879c0e23c2",
       "version_major": 2,
       "version_minor": 0
      },
      "text/plain": [
       "Computing transition probabilities:   0%|          | 0/100 [00:00<?, ?it/s]"
      ]
     },
     "metadata": {},
     "output_type": "display_data"
    },
    {
     "name": "stderr",
     "output_type": "stream",
     "text": [
      "Generating walks (CPU: 1): 100%|██████████| 3/3 [00:00<00:00, 132.24it/s]\n",
      "Generating walks (CPU: 2): 100%|██████████| 3/3 [00:00<00:00, 104.73it/s]\n",
      "Generating walks (CPU: 3): 100%|██████████| 2/2 [00:00<00:00, 78.88it/s]\n",
      "Generating walks (CPU: 4): 100%|██████████| 2/2 [00:00<00:00, 115.46it/s]\n"
     ]
    },
    {
     "data": {
      "application/vnd.jupyter.widget-view+json": {
       "model_id": "29f1eaac195d4e7396e4f76a354a6392",
       "version_major": 2,
       "version_minor": 0
      },
      "text/plain": [
       "Computing transition probabilities:   0%|          | 0/94 [00:00<?, ?it/s]"
      ]
     },
     "metadata": {},
     "output_type": "display_data"
    },
    {
     "name": "stderr",
     "output_type": "stream",
     "text": [
      "Generating walks (CPU: 1): 100%|██████████| 3/3 [00:00<00:00, 108.24it/s]\n",
      "Generating walks (CPU: 3): 100%|██████████| 2/2 [00:00<00:00, 110.28it/s]\n",
      "Generating walks (CPU: 2): 100%|██████████| 3/3 [00:00<00:00, 107.67it/s]\n",
      "Generating walks (CPU: 4): 100%|██████████| 2/2 [00:00<00:00, 107.71it/s]\n"
     ]
    },
    {
     "data": {
      "application/vnd.jupyter.widget-view+json": {
       "model_id": "e899ff60127d48d69eb91f2396e0bb4d",
       "version_major": 2,
       "version_minor": 0
      },
      "text/plain": [
       "Computing transition probabilities:   0%|          | 0/100 [00:00<?, ?it/s]"
      ]
     },
     "metadata": {},
     "output_type": "display_data"
    },
    {
     "name": "stderr",
     "output_type": "stream",
     "text": [
      "Generating walks (CPU: 1): 100%|██████████| 3/3 [00:00<00:00, 143.67it/s]\n",
      "Generating walks (CPU: 3): 100%|██████████| 2/2 [00:00<00:00, 150.86it/s]\n",
      "Generating walks (CPU: 2): 100%|██████████| 3/3 [00:00<00:00, 130.93it/s]\n",
      "Generating walks (CPU: 4): 100%|██████████| 2/2 [00:00<00:00, 142.13it/s]\n"
     ]
    },
    {
     "data": {
      "application/vnd.jupyter.widget-view+json": {
       "model_id": "0bbcc0c53cd744daac8f6abdab4a650f",
       "version_major": 2,
       "version_minor": 0
      },
      "text/plain": [
       "Computing transition probabilities:   0%|          | 0/100 [00:00<?, ?it/s]"
      ]
     },
     "metadata": {},
     "output_type": "display_data"
    },
    {
     "name": "stderr",
     "output_type": "stream",
     "text": [
      "Generating walks (CPU: 1): 100%|██████████| 3/3 [00:00<00:00, 156.49it/s]\n",
      "Generating walks (CPU: 3): 100%|██████████| 2/2 [00:00<00:00, 148.79it/s]\n",
      "Generating walks (CPU: 2): 100%|██████████| 3/3 [00:00<00:00, 146.35it/s]\n",
      "Generating walks (CPU: 4): 100%|██████████| 2/2 [00:00<00:00, 148.53it/s]\n"
     ]
    },
    {
     "data": {
      "application/vnd.jupyter.widget-view+json": {
       "model_id": "2420332718be4c959195f51179abf276",
       "version_major": 2,
       "version_minor": 0
      },
      "text/plain": [
       "Computing transition probabilities:   0%|          | 0/100 [00:00<?, ?it/s]"
      ]
     },
     "metadata": {},
     "output_type": "display_data"
    },
    {
     "name": "stderr",
     "output_type": "stream",
     "text": [
      "Generating walks (CPU: 1): 100%|██████████| 3/3 [00:00<00:00, 147.71it/s]\n",
      "Generating walks (CPU: 2): 100%|██████████| 3/3 [00:00<00:00, 140.83it/s]\n",
      "Generating walks (CPU: 3): 100%|██████████| 2/2 [00:00<00:00, 120.45it/s]\n",
      "Generating walks (CPU: 4): 100%|██████████| 2/2 [00:00<00:00, 142.60it/s]\n"
     ]
    },
    {
     "data": {
      "application/vnd.jupyter.widget-view+json": {
       "model_id": "88a96ff9405c47e389a2f9841a8d4cfb",
       "version_major": 2,
       "version_minor": 0
      },
      "text/plain": [
       "Computing transition probabilities:   0%|          | 0/100 [00:00<?, ?it/s]"
      ]
     },
     "metadata": {},
     "output_type": "display_data"
    },
    {
     "name": "stderr",
     "output_type": "stream",
     "text": [
      "Generating walks (CPU: 1): 100%|██████████| 3/3 [00:00<00:00, 151.57it/s]\n",
      "Generating walks (CPU: 2): 100%|██████████| 3/3 [00:00<00:00, 149.62it/s]\n",
      "Generating walks (CPU: 3): 100%|██████████| 2/2 [00:00<00:00, 138.76it/s]\n",
      "Generating walks (CPU: 4): 100%|██████████| 2/2 [00:00<00:00, 158.95it/s]\n"
     ]
    },
    {
     "data": {
      "application/vnd.jupyter.widget-view+json": {
       "model_id": "878bcd196965452893553dd81f559f86",
       "version_major": 2,
       "version_minor": 0
      },
      "text/plain": [
       "Computing transition probabilities:   0%|          | 0/100 [00:00<?, ?it/s]"
      ]
     },
     "metadata": {},
     "output_type": "display_data"
    },
    {
     "name": "stderr",
     "output_type": "stream",
     "text": [
      "Generating walks (CPU: 1): 100%|██████████| 3/3 [00:00<00:00, 139.00it/s]\n",
      "Generating walks (CPU: 3): 100%|██████████| 2/2 [00:00<00:00, 145.35it/s]\n",
      "Generating walks (CPU: 2): 100%|██████████| 3/3 [00:00<00:00, 133.27it/s]\n",
      "Generating walks (CPU: 4): 100%|██████████| 2/2 [00:00<00:00, 131.01it/s]\n"
     ]
    },
    {
     "data": {
      "application/vnd.jupyter.widget-view+json": {
       "model_id": "fc0d631f08b34289a505792ee5459655",
       "version_major": 2,
       "version_minor": 0
      },
      "text/plain": [
       "Computing transition probabilities:   0%|          | 0/100 [00:00<?, ?it/s]"
      ]
     },
     "metadata": {},
     "output_type": "display_data"
    },
    {
     "name": "stderr",
     "output_type": "stream",
     "text": [
      "Generating walks (CPU: 1): 100%|██████████| 3/3 [00:00<00:00, 159.52it/s]\n",
      "Generating walks (CPU: 3): 100%|██████████| 2/2 [00:00<00:00, 164.84it/s]\n",
      "Generating walks (CPU: 2): 100%|██████████| 3/3 [00:00<00:00, 163.11it/s]\n",
      "Generating walks (CPU: 4): 100%|██████████| 2/2 [00:00<00:00, 169.12it/s]\n"
     ]
    },
    {
     "data": {
      "application/vnd.jupyter.widget-view+json": {
       "model_id": "9a6a797875ec4f63a5dae040bf34799c",
       "version_major": 2,
       "version_minor": 0
      },
      "text/plain": [
       "Computing transition probabilities:   0%|          | 0/100 [00:00<?, ?it/s]"
      ]
     },
     "metadata": {},
     "output_type": "display_data"
    },
    {
     "name": "stderr",
     "output_type": "stream",
     "text": [
      "Generating walks (CPU: 1): 100%|██████████| 3/3 [00:00<00:00, 153.64it/s]\n",
      "Generating walks (CPU: 2): 100%|██████████| 3/3 [00:00<00:00, 165.11it/s]\n",
      "Generating walks (CPU: 3): 100%|██████████| 2/2 [00:00<00:00, 151.96it/s]\n",
      "Generating walks (CPU: 4): 100%|██████████| 2/2 [00:00<00:00, 155.34it/s]\n"
     ]
    },
    {
     "data": {
      "application/vnd.jupyter.widget-view+json": {
       "model_id": "bc2232cbabe9405c876df361f140bb3d",
       "version_major": 2,
       "version_minor": 0
      },
      "text/plain": [
       "Computing transition probabilities:   0%|          | 0/95 [00:00<?, ?it/s]"
      ]
     },
     "metadata": {},
     "output_type": "display_data"
    },
    {
     "name": "stderr",
     "output_type": "stream",
     "text": [
      "Generating walks (CPU: 1): 100%|██████████| 3/3 [00:00<00:00, 167.17it/s]\n",
      "Generating walks (CPU: 2): 100%|██████████| 3/3 [00:00<00:00, 193.16it/s]\n",
      "Generating walks (CPU: 3): 100%|██████████| 2/2 [00:00<00:00, 169.10it/s]\n",
      "Generating walks (CPU: 4): 100%|██████████| 2/2 [00:00<00:00, 165.07it/s]\n"
     ]
    },
    {
     "data": {
      "application/vnd.jupyter.widget-view+json": {
       "model_id": "a4fff718b44d4fb3a332c63fd6b49c24",
       "version_major": 2,
       "version_minor": 0
      },
      "text/plain": [
       "Computing transition probabilities:   0%|          | 0/100 [00:00<?, ?it/s]"
      ]
     },
     "metadata": {},
     "output_type": "display_data"
    },
    {
     "name": "stderr",
     "output_type": "stream",
     "text": [
      "Generating walks (CPU: 1): 100%|██████████| 3/3 [00:00<00:00, 144.30it/s]\n",
      "Generating walks (CPU: 2): 100%|██████████| 3/3 [00:00<00:00, 131.55it/s]\n",
      "Generating walks (CPU: 3): 100%|██████████| 2/2 [00:00<00:00, 144.85it/s]\n",
      "Generating walks (CPU: 4): 100%|██████████| 2/2 [00:00<00:00, 147.17it/s]\n"
     ]
    },
    {
     "data": {
      "application/vnd.jupyter.widget-view+json": {
       "model_id": "2c10a800cc4042e690999152723f64b5",
       "version_major": 2,
       "version_minor": 0
      },
      "text/plain": [
       "Computing transition probabilities:   0%|          | 0/97 [00:00<?, ?it/s]"
      ]
     },
     "metadata": {},
     "output_type": "display_data"
    },
    {
     "name": "stderr",
     "output_type": "stream",
     "text": [
      "Generating walks (CPU: 1): 100%|██████████| 3/3 [00:00<00:00, 103.94it/s]\n",
      "Generating walks (CPU: 3): 100%|██████████| 2/2 [00:00<00:00, 111.82it/s]\n",
      "Generating walks (CPU: 4): 100%|██████████| 2/2 [00:00<00:00, 114.16it/s]\n",
      "Generating walks (CPU: 2): 100%|██████████| 3/3 [00:00<00:00, 92.79it/s]\n"
     ]
    },
    {
     "data": {
      "application/vnd.jupyter.widget-view+json": {
       "model_id": "5c9f301b0aec4c17965a21be3def118c",
       "version_major": 2,
       "version_minor": 0
      },
      "text/plain": [
       "Computing transition probabilities:   0%|          | 0/96 [00:00<?, ?it/s]"
      ]
     },
     "metadata": {},
     "output_type": "display_data"
    },
    {
     "name": "stderr",
     "output_type": "stream",
     "text": [
      "Generating walks (CPU: 1): 100%|██████████| 3/3 [00:00<00:00, 158.13it/s]\n",
      "Generating walks (CPU: 2): 100%|██████████| 3/3 [00:00<00:00, 156.05it/s]\n",
      "Generating walks (CPU: 3): 100%|██████████| 2/2 [00:00<00:00, 144.05it/s]\n",
      "Generating walks (CPU: 4): 100%|██████████| 2/2 [00:00<00:00, 151.81it/s]\n"
     ]
    },
    {
     "data": {
      "application/vnd.jupyter.widget-view+json": {
       "model_id": "122a9875865243bea31e6d2c97e8b081",
       "version_major": 2,
       "version_minor": 0
      },
      "text/plain": [
       "Computing transition probabilities:   0%|          | 0/98 [00:00<?, ?it/s]"
      ]
     },
     "metadata": {},
     "output_type": "display_data"
    },
    {
     "name": "stderr",
     "output_type": "stream",
     "text": [
      "Generating walks (CPU: 1): 100%|██████████| 3/3 [00:00<00:00, 136.44it/s]\n",
      "Generating walks (CPU: 3): 100%|██████████| 2/2 [00:00<00:00, 157.50it/s]\n",
      "Generating walks (CPU: 2): 100%|██████████| 3/3 [00:00<00:00, 155.27it/s]\n",
      "Generating walks (CPU: 4): 100%|██████████| 2/2 [00:00<00:00, 150.61it/s]\n"
     ]
    },
    {
     "data": {
      "application/vnd.jupyter.widget-view+json": {
       "model_id": "a70969ffa3a643218a2f78afb9e68934",
       "version_major": 2,
       "version_minor": 0
      },
      "text/plain": [
       "Computing transition probabilities:   0%|          | 0/100 [00:00<?, ?it/s]"
      ]
     },
     "metadata": {},
     "output_type": "display_data"
    },
    {
     "name": "stderr",
     "output_type": "stream",
     "text": [
      "Generating walks (CPU: 1): 100%|██████████| 3/3 [00:00<00:00, 138.37it/s]\n",
      "Generating walks (CPU: 2): 100%|██████████| 3/3 [00:00<00:00, 133.65it/s]\n",
      "Generating walks (CPU: 3): 100%|██████████| 2/2 [00:00<00:00, 134.08it/s]\n",
      "Generating walks (CPU: 4): 100%|██████████| 2/2 [00:00<00:00, 134.82it/s]\n"
     ]
    },
    {
     "data": {
      "application/vnd.jupyter.widget-view+json": {
       "model_id": "6ff05354021f45f684faa4c00bba77a5",
       "version_major": 2,
       "version_minor": 0
      },
      "text/plain": [
       "Computing transition probabilities:   0%|          | 0/100 [00:00<?, ?it/s]"
      ]
     },
     "metadata": {},
     "output_type": "display_data"
    },
    {
     "name": "stderr",
     "output_type": "stream",
     "text": [
      "Generating walks (CPU: 1): 100%|██████████| 3/3 [00:00<00:00, 149.89it/s]\n",
      "Generating walks (CPU: 2): 100%|██████████| 3/3 [00:00<00:00, 160.78it/s]\n",
      "Generating walks (CPU: 3): 100%|██████████| 2/2 [00:00<00:00, 147.79it/s]\n",
      "Generating walks (CPU: 4): 100%|██████████| 2/2 [00:00<00:00, 147.84it/s]\n"
     ]
    },
    {
     "data": {
      "application/vnd.jupyter.widget-view+json": {
       "model_id": "bb1d3ed0047043728aa42c33c6ce1e85",
       "version_major": 2,
       "version_minor": 0
      },
      "text/plain": [
       "Computing transition probabilities:   0%|          | 0/100 [00:00<?, ?it/s]"
      ]
     },
     "metadata": {},
     "output_type": "display_data"
    },
    {
     "name": "stderr",
     "output_type": "stream",
     "text": [
      "Generating walks (CPU: 1): 100%|██████████| 3/3 [00:00<00:00, 142.73it/s]\n",
      "Generating walks (CPU: 3): 100%|██████████| 2/2 [00:00<00:00, 142.65it/s]\n",
      "Generating walks (CPU: 2): 100%|██████████| 3/3 [00:00<00:00, 126.16it/s]\n",
      "Generating walks (CPU: 4): 100%|██████████| 2/2 [00:00<00:00, 135.77it/s]\n"
     ]
    },
    {
     "data": {
      "application/vnd.jupyter.widget-view+json": {
       "model_id": "37cc72315fca48e28aada3baad665d13",
       "version_major": 2,
       "version_minor": 0
      },
      "text/plain": [
       "Computing transition probabilities:   0%|          | 0/100 [00:00<?, ?it/s]"
      ]
     },
     "metadata": {},
     "output_type": "display_data"
    },
    {
     "name": "stderr",
     "output_type": "stream",
     "text": [
      "Generating walks (CPU: 1): 100%|██████████| 3/3 [00:00<00:00, 146.44it/s]\n",
      "Generating walks (CPU: 3): 100%|██████████| 2/2 [00:00<00:00, 147.45it/s]\n",
      "Generating walks (CPU: 2): 100%|██████████| 3/3 [00:00<00:00, 124.69it/s]\n",
      "Generating walks (CPU: 4): 100%|██████████| 2/2 [00:00<00:00, 153.47it/s]\n"
     ]
    },
    {
     "data": {
      "application/vnd.jupyter.widget-view+json": {
       "model_id": "5628902d50af406dbc1e470e8db4d128",
       "version_major": 2,
       "version_minor": 0
      },
      "text/plain": [
       "Computing transition probabilities:   0%|          | 0/100 [00:00<?, ?it/s]"
      ]
     },
     "metadata": {},
     "output_type": "display_data"
    },
    {
     "name": "stderr",
     "output_type": "stream",
     "text": [
      "Generating walks (CPU: 1): 100%|██████████| 3/3 [00:00<00:00, 118.74it/s]\n",
      "Generating walks (CPU: 2): 100%|██████████| 3/3 [00:00<00:00, 116.73it/s]\n",
      "Generating walks (CPU: 3): 100%|██████████| 2/2 [00:00<00:00, 113.19it/s]\n",
      "Generating walks (CPU: 4): 100%|██████████| 2/2 [00:00<00:00, 108.95it/s]\n"
     ]
    },
    {
     "data": {
      "application/vnd.jupyter.widget-view+json": {
       "model_id": "1794bf060ee046b1aabff865569d1dcd",
       "version_major": 2,
       "version_minor": 0
      },
      "text/plain": [
       "Computing transition probabilities:   0%|          | 0/100 [00:00<?, ?it/s]"
      ]
     },
     "metadata": {},
     "output_type": "display_data"
    },
    {
     "name": "stderr",
     "output_type": "stream",
     "text": [
      "Generating walks (CPU: 1): 100%|██████████| 3/3 [00:00<00:00, 176.62it/s]\n",
      "Generating walks (CPU: 2): 100%|██████████| 3/3 [00:00<00:00, 159.96it/s]\n",
      "Generating walks (CPU: 3): 100%|██████████| 2/2 [00:00<00:00, 169.49it/s]\n",
      "Generating walks (CPU: 4): 100%|██████████| 2/2 [00:00<00:00, 181.29it/s]\n"
     ]
    },
    {
     "data": {
      "application/vnd.jupyter.widget-view+json": {
       "model_id": "bb179fba8f4e4cb8978c8171cc8e17d4",
       "version_major": 2,
       "version_minor": 0
      },
      "text/plain": [
       "Computing transition probabilities:   0%|          | 0/100 [00:00<?, ?it/s]"
      ]
     },
     "metadata": {},
     "output_type": "display_data"
    },
    {
     "name": "stderr",
     "output_type": "stream",
     "text": [
      "Generating walks (CPU: 1): 100%|██████████| 3/3 [00:00<00:00, 139.00it/s]\n",
      "Generating walks (CPU: 2): 100%|██████████| 3/3 [00:00<00:00, 137.17it/s]\n",
      "Generating walks (CPU: 3): 100%|██████████| 2/2 [00:00<00:00, 140.50it/s]\n",
      "Generating walks (CPU: 4): 100%|██████████| 2/2 [00:00<00:00, 131.45it/s]\n"
     ]
    },
    {
     "data": {
      "application/vnd.jupyter.widget-view+json": {
       "model_id": "1bd76e132a1748b59531055b0fa7924e",
       "version_major": 2,
       "version_minor": 0
      },
      "text/plain": [
       "Computing transition probabilities:   0%|          | 0/98 [00:00<?, ?it/s]"
      ]
     },
     "metadata": {},
     "output_type": "display_data"
    },
    {
     "name": "stderr",
     "output_type": "stream",
     "text": [
      "Generating walks (CPU: 1): 100%|██████████| 3/3 [00:00<00:00, 75.99it/s]\n",
      "Generating walks (CPU: 3): 100%|██████████| 2/2 [00:00<00:00, 95.45it/s]\n",
      "Generating walks (CPU: 2): 100%|██████████| 3/3 [00:00<00:00, 83.30it/s]\n",
      "Generating walks (CPU: 4): 100%|██████████| 2/2 [00:00<00:00, 105.58it/s]\n"
     ]
    },
    {
     "data": {
      "application/vnd.jupyter.widget-view+json": {
       "model_id": "cf4f821b109d415ab369b7e067e37b42",
       "version_major": 2,
       "version_minor": 0
      },
      "text/plain": [
       "Computing transition probabilities:   0%|          | 0/100 [00:00<?, ?it/s]"
      ]
     },
     "metadata": {},
     "output_type": "display_data"
    },
    {
     "name": "stderr",
     "output_type": "stream",
     "text": [
      "Generating walks (CPU: 1): 100%|██████████| 3/3 [00:00<00:00, 146.61it/s]\n",
      "Generating walks (CPU: 2): 100%|██████████| 3/3 [00:00<00:00, 148.82it/s]\n",
      "Generating walks (CPU: 3): 100%|██████████| 2/2 [00:00<00:00, 132.41it/s]\n",
      "Generating walks (CPU: 4): 100%|██████████| 2/2 [00:00<00:00, 146.32it/s]\n"
     ]
    },
    {
     "data": {
      "application/vnd.jupyter.widget-view+json": {
       "model_id": "6ca57b3f2f1d4dc38390fb202e9232b4",
       "version_major": 2,
       "version_minor": 0
      },
      "text/plain": [
       "Computing transition probabilities:   0%|          | 0/100 [00:00<?, ?it/s]"
      ]
     },
     "metadata": {},
     "output_type": "display_data"
    },
    {
     "name": "stderr",
     "output_type": "stream",
     "text": [
      "Generating walks (CPU: 1): 100%|██████████| 3/3 [00:00<00:00, 165.23it/s]\n",
      "Generating walks (CPU: 2): 100%|██████████| 3/3 [00:00<00:00, 166.13it/s]\n",
      "Generating walks (CPU: 3): 100%|██████████| 2/2 [00:00<00:00, 158.27it/s]\n",
      "Generating walks (CPU: 4): 100%|██████████| 2/2 [00:00<00:00, 153.24it/s]\n"
     ]
    },
    {
     "data": {
      "application/vnd.jupyter.widget-view+json": {
       "model_id": "85fc874dc35c4fa08310d638d16e36c5",
       "version_major": 2,
       "version_minor": 0
      },
      "text/plain": [
       "Computing transition probabilities:   0%|          | 0/100 [00:00<?, ?it/s]"
      ]
     },
     "metadata": {},
     "output_type": "display_data"
    },
    {
     "name": "stderr",
     "output_type": "stream",
     "text": [
      "Generating walks (CPU: 1): 100%|██████████| 3/3 [00:00<00:00, 128.78it/s]\n",
      "Generating walks (CPU: 2): 100%|██████████| 3/3 [00:00<00:00, 131.22it/s]\n",
      "Generating walks (CPU: 3): 100%|██████████| 2/2 [00:00<00:00, 123.10it/s]\n",
      "Generating walks (CPU: 4): 100%|██████████| 2/2 [00:00<00:00, 147.19it/s]\n"
     ]
    },
    {
     "data": {
      "application/vnd.jupyter.widget-view+json": {
       "model_id": "b147fe724cd34b478166525355d5e142",
       "version_major": 2,
       "version_minor": 0
      },
      "text/plain": [
       "Computing transition probabilities:   0%|          | 0/100 [00:00<?, ?it/s]"
      ]
     },
     "metadata": {},
     "output_type": "display_data"
    },
    {
     "name": "stderr",
     "output_type": "stream",
     "text": [
      "Generating walks (CPU: 1): 100%|██████████| 3/3 [00:00<00:00, 151.28it/s]\n",
      "Generating walks (CPU: 2): 100%|██████████| 3/3 [00:00<00:00, 137.51it/s]\n",
      "Generating walks (CPU: 3): 100%|██████████| 2/2 [00:00<00:00, 140.48it/s]\n",
      "Generating walks (CPU: 4): 100%|██████████| 2/2 [00:00<00:00, 145.10it/s]\n"
     ]
    },
    {
     "data": {
      "application/vnd.jupyter.widget-view+json": {
       "model_id": "1684daccdf3e4c21aa754362a46ef049",
       "version_major": 2,
       "version_minor": 0
      },
      "text/plain": [
       "Computing transition probabilities:   0%|          | 0/100 [00:00<?, ?it/s]"
      ]
     },
     "metadata": {},
     "output_type": "display_data"
    },
    {
     "name": "stderr",
     "output_type": "stream",
     "text": [
      "Generating walks (CPU: 1): 100%|██████████| 3/3 [00:00<00:00, 120.14it/s]\n",
      "Generating walks (CPU: 2): 100%|██████████| 3/3 [00:00<00:00, 129.27it/s]\n",
      "Generating walks (CPU: 3): 100%|██████████| 2/2 [00:00<00:00, 120.02it/s]\n",
      "Generating walks (CPU: 4): 100%|██████████| 2/2 [00:00<00:00, 138.90it/s]\n"
     ]
    }
   ],
   "source": [
    "test_model = ViralExtSEIRNetworkModel(\n",
    "    G = G,\n",
    "    beta = 0.5,\n",
    "    sigma = 0.2,\n",
    "    lamda = 0.5,\n",
    "    gamma  = 0.25,\n",
    "    seed = 0,\n",
    "    initE = INIT_EXPOSED)\n",
    "\n",
    "sim_correlated = SimulationRunner(\n",
    "    model=test_model,\n",
    "    pooling_strategy='correlated',\n",
    "    T = 50,\n",
    "    num_groups = 10,\n",
    "    pool_size = 5,\n",
    "    seed = 0,\n",
    "    save_results=False,\n",
    ")\n",
    "\n",
    "sim_correlated.run_simulation()"
   ]
  },
  {
   "cell_type": "code",
   "execution_count": null,
   "metadata": {},
   "outputs": [],
   "source": [
    "sim_correlated.model.figure_infections(plot_percentages=False)"
   ]
  },
  {
   "attachments": {},
   "cell_type": "markdown",
   "metadata": {},
   "source": [
    "## Naive pooling"
   ]
  },
  {
   "cell_type": "code",
   "execution_count": null,
   "metadata": {},
   "outputs": [],
   "source": [
    "random.seed(0)\n",
    "np.random.seed(0)\n",
    "\n",
    "N = 1000\n",
    "INIT_EXPOSED = int(N*0.01)\n",
    "\n",
    "from seirsplus.networks import generate_demographic_contact_network, household_country_data\n",
    "\n",
    "demographic_graphs, individual_ageGroups, households = generate_demographic_contact_network(\n",
    "                                                            N=N, demographic_data=household_country_data('US'), \n",
    "                                                            distancing_scales=[0.7], isolation_groups=[])\n",
    "\n",
    "G = demographic_graphs['baseline']\n",
    "# assign higher weights to inter-household edges\n",
    "for e in G.edges():\n",
    "    if \"weight\" not in G[e[0]][e[1]]:\n",
    "        G[e[0]][e[1]][\"weight\"] = 10**10\n"
   ]
  },
  {
   "cell_type": "code",
   "execution_count": null,
   "metadata": {},
   "outputs": [
    {
     "name": "stderr",
     "output_type": "stream",
     "text": [
      "/opt/anaconda3/lib/python3.9/site-packages/networkx/linalg/graphmatrix.py:187: FutureWarning: adjacency_matrix will return a scipy.sparse array instead of a matrix in Networkx 3.0.\n",
      "  return adjacency_matrix(G, nodelist, dtype, weight)\n"
     ]
    },
    {
     "data": {
      "application/vnd.jupyter.widget-view+json": {
       "model_id": "fae52f802b0c47f6a7fd6d64ae650449",
       "version_major": 2,
       "version_minor": 0
      },
      "text/plain": [
       "Computing transition probabilities:   0%|          | 0/1000 [00:00<?, ?it/s]"
      ]
     },
     "metadata": {},
     "output_type": "display_data"
    }
   ],
   "source": [
    "test_model = ViralExtSEIRNetworkModel(\n",
    "    G = G,\n",
    "    beta = 0.5,\n",
    "    sigma = 0.2,\n",
    "    lamda = 0.5,\n",
    "    gamma  = 0.25,\n",
    "    seed = 0,\n",
    "    initE = INIT_EXPOSED)\n",
    "\n",
    "sim_naive = SimulationRunner(\n",
    "    model = test_model,\n",
    "    pooling_strategy='naive',\n",
    "    T = 50,\n",
    "    num_groups = 10,\n",
    "    pool_size = 5,\n",
    "    seed = 0,\n",
    "    save_results = False\n",
    ")\n",
    "\n",
    "sim_naive.run_simulation()"
   ]
  },
  {
   "cell_type": "code",
   "execution_count": null,
   "metadata": {},
   "outputs": [
    {
     "data": {
      "image/png": "[encoded data removed]",
      "text/plain": [
       "<Figure size 1200x800 with 1 Axes>"
      ]
     },
     "metadata": {},
     "output_type": "display_data"
    },
    {
     "data": {
      "text/plain": [
       "(<Figure size 1200x800 with 1 Axes>,\n",
       " <Axes: xlabel='days', ylabel='number of individuals'>)"
      ]
     },
     "execution_count": 15,
     "metadata": {},
     "output_type": "execute_result"
    }
   ],
   "source": [
    "sim_naive.model.figure_infections(plot_percentages=False)"
   ]
  },
  {
   "cell_type": "code",
   "execution_count": null,
   "metadata": {},
   "outputs": [],
   "source": [
    "metrics = sim_correlated.overall_results[0].keys()\n",
    "metrics = set(metrics) - {\"day\"}"
   ]
  },
  {
   "cell_type": "code",
   "execution_count": null,
   "metadata": {},
   "outputs": [
    {
     "data": {
      "image/png": "[encoded data removed]",
      "text/plain": [
       "<Figure size 640x480 with 1 Axes>"
      ]
     },
     "metadata": {},
     "output_type": "display_data"
    },
    {
     "data": {
      "image/png": "[encoded data removed]",
      "text/plain": [
       "<Figure size 640x480 with 1 Axes>"
      ]
     },
     "metadata": {},
     "output_type": "display_data"
    },
    {
     "data": {
      "image/png": "[encoded data removed]",
      "text/plain": [
       "<Figure size 640x480 with 1 Axes>"
      ]
     },
     "metadata": {},
     "output_type": "display_data"
    },
    {
     "data": {
      "image/png": "[encoded data removed]",
      "text/plain": [
       "<Figure size 640x480 with 1 Axes>"
      ]
     },
     "metadata": {},
     "output_type": "display_data"
    },
    {
     "data": {
      "image/png": "[encoded data removed]",
      "text/plain": [
       "<Figure size 640x480 with 1 Axes>"
      ]
     },
     "metadata": {},
     "output_type": "display_data"
    },
    {
     "data": {
      "image/png": "[encoded data removed]",
      "text/plain": [
       "<Figure size 640x480 with 1 Axes>"
      ]
     },
     "metadata": {},
     "output_type": "display_data"
    }
   ],
   "source": [
    "for metric in metrics:\n",
    "    plt.plot([result[metric] for result in sim_correlated.overall_results])\n",
    "    plt.plot([result[metric] for result in sim_naive.overall_results])\n",
    "    plt.title(metric)\n",
    "    plt.legend(['correlated', 'naive'])\n",
    "    plt.show()"
   ]
  },
  {
   "cell_type": "code",
   "execution_count": null,
   "metadata": {},
   "outputs": [],
   "source": []
  }
 ],
 "metadata": {
  "kernelspec": {
   "display_name": "corr_pooling",
   "language": "python",
   "name": "python3"
  },
  "language_info": {
   "codemirror_mode": {
    "name": "ipython",
    "version": 3
   },
   "file_extension": ".py",
   "mimetype": "text/x-python",
   "name": "python",
   "nbconvert_exporter": "python",
   "pygments_lexer": "ipython3",
   "version": "3.9.16"
  },
  "orig_nbformat": 4
 },
 "nbformat": 4,
 "nbformat_minor": 2
}
