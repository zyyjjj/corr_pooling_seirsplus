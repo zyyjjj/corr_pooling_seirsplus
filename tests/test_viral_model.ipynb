{
 "cells": [
  {
   "cell_type": "code",
   "execution_count": null,
   "metadata": {},
   "outputs": [],
   "source": [
    "%load_ext autoreload\n",
    "%autoreload 2"
   ]
  },
  {
   "cell_type": "code",
   "execution_count": null,
   "metadata": {},
   "outputs": [],
   "source": [
    "from seirsplus.viral_models import ViralExtSEIRNetworkModel\n"
   ]
  },
  {
   "cell_type": "code",
   "execution_count": null,
   "metadata": {},
   "outputs": [],
   "source": [
    "# Goal: initialize a model as in the community-TTI demo\n",
    "# then test the following:\n",
    "# \n",
    "# then test whether the viral loads are modeled correctly"
   ]
  },
  {
   "attachments": {},
   "cell_type": "markdown",
   "metadata": {},
   "source": [
    "Goal: initialize a model as in the community-TTI demo\n",
    "then test the following:\n",
    "- check that the viral loads are modeled correctly\n",
    "- check that infections occur in clusters"
   ]
  }
 ],
 "metadata": {
  "language_info": {
   "name": "python"
  },
  "orig_nbformat": 4
 },
 "nbformat": 4,
 "nbformat_minor": 2
}
