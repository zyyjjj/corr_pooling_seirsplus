{
 "cells": [
  {
   "cell_type": "code",
   "execution_count": 43,
   "metadata": {},
   "outputs": [
    {
     "name": "stdout",
     "output_type": "stream",
     "text": [
      "The autoreload extension is already loaded. To reload it, use:\n",
      "  %reload_ext autoreload\n"
     ]
    }
   ],
   "source": [
    "%load_ext autoreload\n",
    "%autoreload 2\n",
    "\n",
    "import matplotlib.pyplot as plt\n"
   ]
  },
  {
   "cell_type": "code",
   "execution_count": 44,
   "metadata": {},
   "outputs": [
    {
     "name": "stdout",
     "output_type": "stream",
     "text": [
      "Generated overall age distribution:\n",
      "0-9: 0.1340\t(0.0130 from target)\n",
      "10-19: 0.1200\t(-0.0110 from target)\n",
      "20-29: 0.1380\t(0.0010 from target)\n",
      "30-39: 0.1260\t(-0.0070 from target)\n",
      "40-49: 0.1270\t(0.0030 from target)\n",
      "50-59: 0.1230\t(-0.0080 from target)\n",
      "60-69: 0.1040\t(-0.0110 from target)\n",
      "70-79: 0.0900\t(0.0200 from target)\n",
      "80+: 0.0380\t(0.0000 from target)\n",
      "\n",
      "Generated household size distribution:\n",
      "1: 0.2829\t(-0.0008 from target)\n",
      "2: 0.3439\t(-0.0012 from target)\n",
      "3: 0.1537\t(0.0030 from target)\n",
      "4: 0.1220\t(-0.0057 from target)\n",
      "5: 0.0707\t(0.0130 from target)\n",
      "6: 0.0220\t(-0.0007 from target)\n",
      "7: 0.0049\t(-0.0076 from target)\n",
      "Num households: 410\n",
      "mean household size: 2.448393594\n",
      "\n",
      "Generating graph for 0-9...\n",
      "Generating graph for 10-19...\n"
     ]
    },
    {
     "name": "stderr",
     "output_type": "stream",
     "text": [
      "/home/yz685/anaconda3/envs/corr_pooling/lib/python3.11/site-packages/networkx/linalg/graphmatrix.py:187: FutureWarning: adjacency_matrix will return a scipy.sparse array instead of a matrix in Networkx 3.0.\n",
      "  return adjacency_matrix(G, nodelist, dtype, weight)\n"
     ]
    },
    {
     "name": "stdout",
     "output_type": "stream",
     "text": [
      "Generating graph for 20-59...\n",
      "Generating graph for 60+...\n"
     ]
    }
   ],
   "source": [
    "N = 1000\n",
    "INIT_EXPOSED = int(N*0.01)\n",
    "\n",
    "from seirsplus.networks import generate_demographic_contact_network, household_country_data\n",
    "\n",
    "demographic_graphs, individual_ageGroups, households = generate_demographic_contact_network(\n",
    "                                                            N=N, demographic_data=household_country_data('US'), \n",
    "                                                            distancing_scales=[0.7], isolation_groups=[])\n",
    "\n",
    "G_baseline   = demographic_graphs['baseline']\n",
    "G_quarantine = demographic_graphs['distancingScale0.7']\n",
    "\n",
    "households_indices = [household['indices'] for household in households]"
   ]
  },
  {
   "cell_type": "code",
   "execution_count": 51,
   "metadata": {},
   "outputs": [
    {
     "name": "stderr",
     "output_type": "stream",
     "text": [
      "/home/yz685/anaconda3/envs/corr_pooling/lib/python3.11/site-packages/networkx/linalg/graphmatrix.py:187: FutureWarning: adjacency_matrix will return a scipy.sparse array instead of a matrix in Networkx 3.0.\n",
      "  return adjacency_matrix(G, nodelist, dtype, weight)\n"
     ]
    }
   ],
   "source": [
    "from seirsplus.viral_model import ViralExtSEIRNetworkModel\n",
    "\n",
    "test_model = ViralExtSEIRNetworkModel(\n",
    "    G = G_baseline,\n",
    "    beta = 0.1,\n",
    "    sigma = 0.2,\n",
    "    lamda = 0.5,\n",
    "    gamma  = 0.25,\n",
    "    initE = INIT_EXPOSED)"
   ]
  },
  {
   "cell_type": "code",
   "execution_count": 52,
   "metadata": {},
   "outputs": [],
   "source": [
    "test_model.tmax=100\n",
    "test_model.initialize_VL()"
   ]
  },
  {
   "cell_type": "code",
   "execution_count": 53,
   "metadata": {},
   "outputs": [
    {
     "name": "stdout",
     "output_type": "stream",
     "text": [
      "======= Running iteration  0  ======\n",
      "test_model.transitionNode:  678\n",
      "new state:  [3]\n",
      "new viral load:  6.0\n",
      "test_model.t:  0.040462975043232444 time since last transition:  0.040462975043232444\n",
      "number of S, E, I_pre, I_sym, I_asym, H, R, F:  [990, 9, 1, 0, 0, 0, 0, 0]\n",
      "Tracking viral loads of nodes that underwent transitions:  [(678, 6.0, 6.0)]\n",
      "======= Running iteration  1  ======\n",
      "test_model.transitionNode:  730\n",
      "new state:  [2]\n",
      "new viral load:  3.0\n",
      "test_model.t:  0.27822636017003094 time since last transition:  0.2377633851267985\n",
      "number of S, E, I_pre, I_sym, I_asym, H, R, F:  [989, 10, 1, 0, 0, 0, 0, 0]\n",
      "Tracking viral loads of nodes that underwent transitions:  [(730, 3.0, 3.0), (678, 6.0, 6.0)]\n",
      "======= Running iteration  2  ======\n",
      "test_model.transitionNode:  384\n",
      "new state:  [3]\n",
      "new viral load:  6.0\n",
      "test_model.t:  1.425563929259306 time since last transition:  1.147337569089275\n",
      "number of S, E, I_pre, I_sym, I_asym, H, R, F:  [989, 9, 2, 0, 0, 0, 0, 0]\n",
      "Tracking viral loads of nodes that underwent transitions:  [(384, 6.0, 6.0), (730, 3.0, 3.0), (678, 6.0, 6.0)]\n",
      "======= Running iteration  3  ======\n",
      "test_model.transitionNode:  384\n",
      "new state:  [4]\n",
      "new viral load:  9.0\n",
      "test_model.t:  1.443066163562954 time since last transition:  0.017502234303647946\n",
      "number of S, E, I_pre, I_sym, I_asym, H, R, F:  [989, 9, 1, 1, 0, 0, 0, 0]\n",
      "Tracking viral loads of nodes that underwent transitions:  [(384, 9.0, 9.0), (730, 3.0, 3.0), (678, 6.0, 6.0)]\n",
      "======= Running iteration  4  ======\n",
      "test_model.transitionNode:  678\n",
      "new state:  [4]\n",
      "new viral load:  9.0\n",
      "test_model.t:  1.4710044530181305 time since last transition:  0.027938289455176513\n",
      "number of S, E, I_pre, I_sym, I_asym, H, R, F:  [989, 9, 0, 2, 0, 0, 0, 0]\n",
      "Tracking viral loads of nodes that underwent transitions:  [(384, 9.0, 9.0), (730, 3.0, 3.0), (678, 9.0, 9.0)]\n",
      "======= Running iteration  5  ======\n",
      "test_model.transitionNode:  945\n",
      "new state:  [3]\n",
      "new viral load:  6.0\n",
      "test_model.t:  2.0463007340072044 time since last transition:  0.5752962809890738\n",
      "number of S, E, I_pre, I_sym, I_asym, H, R, F:  [989, 8, 1, 2, 0, 0, 0, 0]\n",
      "Tracking viral loads of nodes that underwent transitions:  [(384, 9.0, 9.0), (945, 6.0, 6.0), (730, 3.0, 3.0), (678, 9.0, 9.0)]\n",
      "======= Running iteration  6  ======\n",
      "test_model.transitionNode:  945\n",
      "new state:  [4]\n",
      "new viral load:  9.0\n",
      "test_model.t:  3.873304465508228 time since last transition:  1.8270037315010237\n",
      "number of S, E, I_pre, I_sym, I_asym, H, R, F:  [989, 8, 0, 3, 0, 0, 0, 0]\n",
      "Tracking viral loads of nodes that underwent transitions:  [(384, 9.0, 9.0), (945, 9.0, 9.0), (730, 3.0, 3.0), (678, 9.0, 9.0)]\n",
      "======= Running iteration  7  ======\n",
      "test_model.transitionNode:  524\n",
      "new state:  [3]\n",
      "new viral load:  6.0\n",
      "test_model.t:  3.989093939503184 time since last transition:  0.1157894739949561\n",
      "number of S, E, I_pre, I_sym, I_asym, H, R, F:  [989, 7, 1, 3, 0, 0, 0, 0]\n",
      "Tracking viral loads of nodes that underwent transitions:  [(384, 9.0, 9.0), (678, 9.0, 9.0), (524, 6.0, 6.0), (945, 9.0, 9.0), (730, 3.0, 3.0)]\n",
      "======= Running iteration  8  ======\n",
      "test_model.transitionNode:  122\n",
      "new state:  [3]\n",
      "new viral load:  6.0\n",
      "test_model.t:  4.108015726751556 time since last transition:  0.11892178724837166\n",
      "number of S, E, I_pre, I_sym, I_asym, H, R, F:  [989, 6, 2, 3, 0, 0, 0, 0]\n",
      "Tracking viral loads of nodes that underwent transitions:  [(384, 9.0, 9.0), (678, 9.0, 9.0), (122, 6.0, 6.0), (524, 6.0, 6.0), (945, 9.0, 9.0), (730, 3.0, 3.0)]\n",
      "======= Running iteration  9  ======\n",
      "test_model.transitionNode:  945\n",
      "new state:  [7]\n",
      "new viral load:  6.0\n",
      "test_model.t:  4.322149838803948 time since last transition:  0.21413411205239186\n",
      "number of S, E, I_pre, I_sym, I_asym, H, R, F:  [989, 6, 2, 2, 0, 0, 1, 0]\n",
      "Tracking viral loads of nodes that underwent transitions:  [(384, 9.0, 9.0), (678, 9.0, 9.0), (122, 6.0, 6.0), (524, 6.0, 6.0), (945, 6.0, 6.0), (730, 3.0, 3.0)]\n"
     ]
    }
   ],
   "source": [
    "# Test:\n",
    "# run_iteration() should be syntactically correct\n",
    "# model viral loads should be updated correctly\n",
    "# get a sense of how much time it takes between transitions\n",
    "\n",
    "nodes_to_track = set()\n",
    "last_t = 0\n",
    "\n",
    "for iter in range(10):\n",
    "    print('======= Running iteration ', iter, ' ======')\n",
    "    test_model.run_iteration()\n",
    "    print('test_model.transitionNode: ', test_model.transitionNode)\n",
    "    nodes_to_track.add(test_model.transitionNode)\n",
    "    print('new state: ', test_model.X[test_model.transitionNode])\n",
    "    print('new viral load: ', test_model.current_VL[test_model.transitionNode])\n",
    "    print('test_model.t: ', test_model.t, \"time since last transition: \", test_model.t - last_t)\n",
    "    last_t = test_model.t\n",
    "    print(\n",
    "        'number of S, E, I_pre, I_sym, I_asym, H, R, F: ',\n",
    "        [sum(test_model.X == i+1).item() for i in range(8)]\n",
    "    )\n",
    "    print(\n",
    "        'Tracking viral loads of nodes that underwent transitions: ', \n",
    "        [(node, test_model.current_VL[node], test_model.current_state_init_VL[node]) for node in nodes_to_track])\n",
    "    # plt.plot(test_model.current_VL)\n",
    "    # plt.show()"
   ]
  },
  {
   "attachments": {},
   "cell_type": "markdown",
   "metadata": {},
   "source": [
    "## TODO: Run longer, check that infections occur in clusters"
   ]
  },
  {
   "cell_type": "markdown",
   "metadata": {},
   "source": []
  }
 ],
 "metadata": {
  "kernelspec": {
   "display_name": "corr_pooling",
   "language": "python",
   "name": "python3"
  },
  "language_info": {
   "codemirror_mode": {
    "name": "ipython",
    "version": 3
   },
   "file_extension": ".py",
   "mimetype": "text/x-python",
   "name": "python",
   "nbconvert_exporter": "python",
   "pygments_lexer": "ipython3",
   "version": "3.11.2"
  },
  "orig_nbformat": 4
 },
 "nbformat": 4,
 "nbformat_minor": 2
}
